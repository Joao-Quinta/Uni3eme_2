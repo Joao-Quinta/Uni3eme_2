{
 "cells": [
  {
   "cell_type": "markdown",
   "metadata": {},
   "source": [
    "## <center> Playing with the data sets (Not graded)\n",
    " <center> Tuesday 02 March 2021\n",
    "\n",
    " <center> Frantzeska.Lavda@etu.unige.ch"
   ]
  },
  {
   "cell_type": "code",
   "execution_count": 9,
   "metadata": {},
   "outputs": [],
   "source": [
    "import numpy as np\n",
    "#from scipy.misc import imread\n",
    "#from imageio import imread\n",
    "from sklearn import datasets\n",
    "from sklearn.utils import shuffle\n"
   ]
  },
  {
   "cell_type": "markdown",
   "metadata": {},
   "source": [
    "## Iris data set. \n",
    "\n",
    "The iris data set contains descriptions of plants belonging to one of three categories of the iris plant : Iris-setosa, Iris-versicolor, Iris-virginica. The description of a plant is given by the four continuous attributes : sepal-length, sepal-width, petal-length, petal-width\n",
    "\n"
   ]
  },
  {
   "cell_type": "code",
   "execution_count": 2,
   "metadata": {},
   "outputs": [],
   "source": [
    "def load_IRIS(test=True):\n",
    "    iris = datasets.load_iris()\n",
    "    X, y = shuffle(iris.data, iris.target, random_state= 400)\n",
    "    if test:\n",
    "        X_train = X[:100, :]\n",
    "        y_train = y[:100]\n",
    "        X_test = X[100:, :]\n",
    "        y_test = y[100:]\n",
    "        return X_train, y_train, X_test, y_test\n",
    "    else:\n",
    "        X = iris.data\n",
    "        y = iris.target\n",
    "        return X, y"
   ]
  },
  {
   "cell_type": "code",
   "execution_count": 3,
   "metadata": {},
   "outputs": [
    {
     "name": "stdout",
     "output_type": "stream",
     "text": [
      "Data shape: (150, 4)\n",
      "Target shape: (150,)\n"
     ]
    }
   ],
   "source": [
    "# load the iris data set\n",
    "x_iris, y_iris = load_IRIS(test=False)\n",
    "\n",
    "# chech the shape of the data anf target\n",
    "print('Data shape:', x_iris.shape)\n",
    "print('Target shape:', y_iris.shape)"
   ]
  },
  {
   "cell_type": "markdown",
   "metadata": {},
   "source": [
    "### For each continuous attribute f compute:\n",
    "- the mean and the variance of each column, mean(f), var(f)\n",
    "- the conditional mean and variance of each column, mean(f | target), var(f | target)"
   ]
  },
  {
   "cell_type": "code",
   "execution_count": 21,
   "metadata": {
    "scrolled": false
   },
   "outputs": [
    {
     "name": "stdout",
     "output_type": "stream",
     "text": [
      "[5.84333333 3.05733333 3.758      1.19933333]  mean\n",
      "[0.68112222 0.18871289 3.09550267 0.57713289]  var\n",
      "\n",
      "[5.006 3.428 1.462 0.246]  mean classe 0\n",
      "[5.936 2.77  4.26  1.326]  mean classe 1\n",
      "[6.588 2.974 5.552 2.026]  mean classe 2\n",
      "\n",
      "[5.006 3.428 1.462 0.246]  var classe 0\n",
      "[5.936 2.77  4.26  1.326]  var classe 1\n",
      "[6.588 2.974 5.552 2.026]  var classe 2\n"
     ]
    }
   ],
   "source": [
    "colMean = np.mean(x_iris, axis = 0)\n",
    "colVar = np.var(x_iris, axis = 0)\n",
    "print(colMean, \" mean\")\n",
    "print(colVar, \" var\")\n",
    "print()\n",
    "\n",
    "colMeanC0 = x_iris[y_iris==0].mean(axis = 0)\n",
    "colMeanC1 = x_iris[y_iris==1].mean(axis = 0)\n",
    "colMeanC2 = x_iris[y_iris==2].mean(axis = 0)\n",
    "\n",
    "varMeanC0 = x_iris[y_iris==0].mean(axis = 0)\n",
    "varMeanC1 = x_iris[y_iris==1].mean(axis = 0)\n",
    "varMeanC2 = x_iris[y_iris==2].mean(axis = 0)\n",
    "\n",
    "print(colMeanC0, \" mean classe 0\")\n",
    "print(colMeanC1, \" mean classe 1\")\n",
    "print(colMeanC2, \" mean classe 2\")\n",
    "print()\n",
    "print(varMeanC0, \" var classe 0\")\n",
    "print(varMeanC1, \" var classe 1\")\n",
    "print(varMeanC2, \" var classe 2\")\n",
    "\n",
    "\n"
   ]
  },
  {
   "cell_type": "markdown",
   "metadata": {},
   "source": [
    "### Visualize the distributions of the continuous attributes using histograms"
   ]
  },
  {
   "cell_type": "code",
   "execution_count": 22,
   "metadata": {},
   "outputs": [],
   "source": [
    "import matplotlib.pyplot as plt\n"
   ]
  },
  {
   "cell_type": "markdown",
   "metadata": {},
   "source": [
    "### Visualize the distributions of the continuous attributes conditioned on the type of the iris plant using histograms"
   ]
  },
  {
   "cell_type": "code",
   "execution_count": 32,
   "metadata": {},
   "outputs": [
    {
     "name": "stdout",
     "output_type": "stream",
     "text": [
      "[[5.1 3.5 1.4 0.2]\n",
      " [4.9 3.  1.4 0.2]\n",
      " [4.7 3.2 1.3 0.2]\n",
      " [4.6 3.1 1.5 0.2]\n",
      " [5.  3.6 1.4 0.2]\n",
      " [5.4 3.9 1.7 0.4]\n",
      " [4.6 3.4 1.4 0.3]\n",
      " [5.  3.4 1.5 0.2]\n",
      " [4.4 2.9 1.4 0.2]\n",
      " [4.9 3.1 1.5 0.1]\n",
      " [5.4 3.7 1.5 0.2]\n",
      " [4.8 3.4 1.6 0.2]\n",
      " [4.8 3.  1.4 0.1]\n",
      " [4.3 3.  1.1 0.1]\n",
      " [5.8 4.  1.2 0.2]\n",
      " [5.7 4.4 1.5 0.4]\n",
      " [5.4 3.9 1.3 0.4]\n",
      " [5.1 3.5 1.4 0.3]\n",
      " [5.7 3.8 1.7 0.3]\n",
      " [5.1 3.8 1.5 0.3]\n",
      " [5.4 3.4 1.7 0.2]\n",
      " [5.1 3.7 1.5 0.4]\n",
      " [4.6 3.6 1.  0.2]\n",
      " [5.1 3.3 1.7 0.5]\n",
      " [4.8 3.4 1.9 0.2]\n",
      " [5.  3.  1.6 0.2]\n",
      " [5.  3.4 1.6 0.4]\n",
      " [5.2 3.5 1.5 0.2]\n",
      " [5.2 3.4 1.4 0.2]\n",
      " [4.7 3.2 1.6 0.2]\n",
      " [4.8 3.1 1.6 0.2]\n",
      " [5.4 3.4 1.5 0.4]\n",
      " [5.2 4.1 1.5 0.1]\n",
      " [5.5 4.2 1.4 0.2]\n",
      " [4.9 3.1 1.5 0.2]\n",
      " [5.  3.2 1.2 0.2]\n",
      " [5.5 3.5 1.3 0.2]\n",
      " [4.9 3.6 1.4 0.1]\n",
      " [4.4 3.  1.3 0.2]\n",
      " [5.1 3.4 1.5 0.2]\n",
      " [5.  3.5 1.3 0.3]\n",
      " [4.5 2.3 1.3 0.3]\n",
      " [4.4 3.2 1.3 0.2]\n",
      " [5.  3.5 1.6 0.6]\n",
      " [5.1 3.8 1.9 0.4]\n",
      " [4.8 3.  1.4 0.3]\n",
      " [5.1 3.8 1.6 0.2]\n",
      " [4.6 3.2 1.4 0.2]\n",
      " [5.3 3.7 1.5 0.2]\n",
      " [5.  3.3 1.4 0.2]]\n"
     ]
    },
    {
     "data": {
      "image/png": "[encoded data removed]",
      "text/plain": [
       "<Figure size 432x288 with 1 Axes>"
      ]
     },
     "metadata": {
      "needs_background": "light"
     },
     "output_type": "display_data"
    }
   ],
   "source": [
    "#print(x_iris[y_iris==0])\n",
    "plt.hist(x_iris[y_iris==0])\n"
   ]
  },
  {
   "cell_type": "markdown",
   "metadata": {},
   "source": [
    "## Titanic data set\n",
    " This dataset provides information on the fate of\n",
    "passengers on the fatal maiden voyage of the ocean liner ’Titanic’, summarized\n",
    "according to economic status (class), sex, age and survival. The target attribute\n",
    "is result ∈ {mort, surv} which indicates whether the passenger survived or not.\n",
    "\n",
    "- Class    : crew = 0, first = 1, second = 2, third = 3\n",
    "- Age      : adult = 0, child = 1\n",
    "- Sex      : female = 0, male = 1\n",
    "- Survived : no = 0, yes = 1."
   ]
  },
  {
   "cell_type": "code",
   "execution_count": 6,
   "metadata": {},
   "outputs": [
    {
     "name": "stdout",
     "output_type": "stream",
     "text": [
      "Name of each column:\n",
      " ['class' ' age' ' sex' ' result'] \n",
      "\n",
      "10 first lines of dataset:\n",
      " [['third' 'adu' 'f' 'surv']\n",
      " ['third' 'adu' 'f' 'mort']\n",
      " ['crew' 'adu' 'm' 'mort']\n",
      " ['third' 'adu' 'm' 'mort']\n",
      " ['crew' 'adu' 'f' 'surv']\n",
      " ['third' 'adu' 'm' 'surv']\n",
      " ['third' 'adu' 'f' 'mort']\n",
      " ['crew' 'adu' 'm' 'mort']\n",
      " ['crew' 'adu' 'm' 'mort']\n",
      " ['third' 'enf' 'm' 'surv']] \n",
      "\n"
     ]
    }
   ],
   "source": [
    "import csv\n",
    "\n",
    "# Loading the titanic data set and transform it into an array.\n",
    "with open('titanic.csv', newline='') as csvfile: titanic = list(csv.reader(csvfile))\n",
    " \n",
    "print('Name of each column:\\n', np.array(titanic)[0, :], '\\n')\n",
    "\n",
    "# Delete the header containing the name of each feature\n",
    "titanic = np.array(titanic)[1:, :]\n",
    "\n",
    "# shuffle the data\n",
    "np.random.shuffle(titanic)\n",
    "\n",
    "# print 10 first lines of dataset\n",
    "print('10 first lines of dataset:\\n', titanic[0:10, :], '\\n')\n",
    "\n"
   ]
  },
  {
   "cell_type": "code",
   "execution_count": 7,
   "metadata": {},
   "outputs": [
    {
     "name": "stdout",
     "output_type": "stream",
     "text": [
      "Dataset shape: (2201, 4)\n",
      "x shape: (2201, 3)\n",
      "target shape: (2201,)\n"
     ]
    }
   ],
   "source": [
    "# split data and target\n",
    "x_titanic = titanic[:,0:3]\n",
    "y_titanic = titanic[:,3]\n",
    "\n",
    "# shapes\n",
    "\n",
    "print('Dataset shape:', titanic.shape)\n",
    "print('x shape:', x_titanic.shape)\n",
    "print('target shape:', y_titanic.shape)\n"
   ]
  },
  {
   "cell_type": "markdown",
   "metadata": {},
   "source": [
    "### For each discrete attribute f :\n",
    "- find the levels of each attribute/ column \n",
    "- compute the number of data of each level\n",
    "\n",
    "hint: use np.unique"
   ]
  },
  {
   "cell_type": "code",
   "execution_count": null,
   "metadata": {},
   "outputs": [],
   "source": []
  },
  {
   "cell_type": "code",
   "execution_count": null,
   "metadata": {},
   "outputs": [],
   "source": []
  },
  {
   "cell_type": "code",
   "execution_count": null,
   "metadata": {},
   "outputs": [],
   "source": []
  },
  {
   "cell_type": "code",
   "execution_count": null,
   "metadata": {},
   "outputs": [],
   "source": []
  },
  {
   "cell_type": "code",
   "execution_count": null,
   "metadata": {},
   "outputs": [],
   "source": []
  }
 ],
 "metadata": {
  "kernelspec": {
   "display_name": "Python 3",
   "language": "python",
   "name": "python3"
  },
  "language_info": {
   "codemirror_mode": {
    "name": "ipython",
    "version": 3
   },
   "file_extension": ".py",
   "mimetype": "text/x-python",
   "name": "python",
   "nbconvert_exporter": "python",
   "pygments_lexer": "ipython3",
   "version": "3.8.5"
  }
 },
 "nbformat": 4,
 "nbformat_minor": 4
}
