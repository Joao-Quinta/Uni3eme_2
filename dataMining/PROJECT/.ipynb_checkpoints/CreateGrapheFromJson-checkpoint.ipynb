{
 "cells": [
  {
   "cell_type": "code",
   "execution_count": 1,
   "id": "1b0ce315",
   "metadata": {},
   "outputs": [],
   "source": [
    "import json\n",
    "import numpy as np\n",
    "import matplotlib.pyplot as plt\n"
   ]
  },
  {
   "cell_type": "code",
   "execution_count": 3,
   "id": "be9d5e69",
   "metadata": {},
   "outputs": [
    {
     "name": "stdout",
     "output_type": "stream",
     "text": [
      "dict_errors {}\n",
      "dict_errors {'GradBoostRegressor': [64.05887104917701, 6.879228516611121], 'SVR': [57.472483085933554, 7.290719983843275]}\n"
     ]
    }
   ],
   "source": [
    "'''LOAD DICT WITH ERRORS FROM JSON'''\n",
    "def load_dict_errors(path=\"all_errors.json\"):\n",
    "    with open(path, \"r\") as f:\n",
    "        dict_errors = json.load(f)\n",
    "\n",
    "\n",
    "        \n",
    "    return dict_errors\n",
    "\n",
    "dict_errors_0_2 = load_dict_errors(path=\"all_errors_0_2.json\")\n",
    "dict_errors_1_3 = load_dict_errors(path=\"all_errors_1_3.json\")\n",
    "print(\"dict_errors_0_2\",dict_errors_0_2)\n",
    "print(\"dict_errors_1_3\",dict_errors_1_3)\n",
    "\n"
   ]
  },
  {
   "cell_type": "code",
   "execution_count": 31,
   "id": "cc9bafb6",
   "metadata": {},
   "outputs": [],
   "source": [
    "def create_graphs(dataToPlot, labels, cols, rows, liste_axe_x, over_axe_x_length, len_axe_x, legend, name, graph_name, xlabel, ylabel):\n",
    "    print(len(dataToPlot))\n",
    "    # cols = int(len(dataToPlot) / rows)\n",
    "    axes = []\n",
    "    fig = plt.figure()\n",
    "    for i in range(rows * cols):\n",
    "\n",
    "        print(\"i\", i)\n",
    "        # permet de dessiner 1 graphe sur 1 ligne sans posser de problèmes d'index\n",
    "        print(\"len(dataToPlot[0])\",len(dataToPlot[0]))\n",
    "        if i >= len(dataToPlot[0]):\n",
    "            break\n",
    "        axes.append(fig.add_subplot(rows, cols, i + 1))\n",
    "        for index, data in enumerate(dataToPlot):\n",
    "            # plot multiple data in one graph\n",
    "            print(\"len(data[i])\",len(data[i]))\n",
    "            if len(data[i]) != len_axe_x or (len(data[i]) == len_axe_x and over_axe_x_length):\n",
    "                print(\"hererehrhehrherhe\")\n",
    "                for index_sub_data, sub_data in enumerate(data[i]):\n",
    "                    print(\"sub_data\",sub_data)\n",
    "                    print(\"index_sub_data\",index_sub_data)\n",
    "                    if liste_axe_x[index][index_sub_data] is not None:\n",
    "                        print(\"liste_axe_x[index][index_sub_data]\",liste_axe_x[index][index_sub_data])\n",
    "\n",
    "                        plt.plot(liste_axe_x[index][index_sub_data], sub_data, label=legend[0][0], linestyle='--', marker='o' )\n",
    "                        print(\"legend[index_sub_data]\",legend[0])\n",
    "                        plt.xlabel('Games', fontsize=15)\n",
    "                        plt.ylabel('Score', fontsize=15)\n",
    "                        plt.legend()\n",
    "\n",
    "                        legend.pop(0)\n",
    "                    else:\n",
    "                        plt.plot(sub_data)\n",
    "            # plot multiple data in different graph\n",
    "            else:\n",
    "                print(\"NIFENFJNDJKSFNSDJKNFSJKKNSFJKDFNJKSDF\")\n",
    "                if liste_axe_x[index][i] is not None:\n",
    "                    plt.plot(liste_axe_x[index][i], data[i], linestyle='--', marker='o')\n",
    "                else:\n",
    "                    plt.plot(data[i])\n",
    "\n",
    "            plt.title(labels[i])\n",
    "    fig.tight_layout()\n",
    "    #mng = plt.get_current_fig_manager()\n",
    "    #mng.resize(*mng.window.maxsize())\n",
    "    plt.xlabel(xlabel)\n",
    "    plt.ylabel(ylabel)\n",
    "    #figure = plt.gcf()\n",
    "    #figure.set_size_inches(WIDTH*0.009, HEIGHT*0.009)\n",
    "    #plt.savefig(graph_name+str(name)+'.png', dpi=350)\n",
    "    plt.savefig(graph_name+str(name)+'.png', dpi=200)\n",
    "    plt.subplots_adjust(left=0.05, right=0.98, top=0.92, wspace=0.3, hspace=0.362, bottom=0.11)\n",
    "    #plt.savefig(str(name)+'.png', dpi=350)\n",
    "\n",
    "    #plt.show()"
   ]
  },
  {
   "cell_type": "code",
   "execution_count": 9,
   "id": "656fca9b",
   "metadata": {},
   "outputs": [
    {
     "name": "stdout",
     "output_type": "stream",
     "text": [
      "liste_values_from_dict_errors [[99.99495102494194, 64.05887104917701, 100.0, 6.879228516611121], [99.99495102494194, 56.25315560941129, 100.0, 7.540644249217408]]\n"
     ]
    }
   ],
   "source": []
  },
  {
   "cell_type": "code",
   "execution_count": 33,
   "id": "9f3fff58",
   "metadata": {},
   "outputs": [
    {
     "name": "stdout",
     "output_type": "stream",
     "text": [
      "liste_values_from_dict_errors [[99.99495102494194, 64.05887104917701, 100.0, 6.879228516611121], [99.99495102494194, 56.25315560941129, 100.0, 7.540644249217408]]\n",
      "liste_keys_from_dict_errors ['GradBoostRegressor', 'LinearRegression']\n",
      "liste_axe_x [0, 1, 2, 3]\n",
      "liste_axe_x_all [[[0, 1, 2, 3], [0, 1, 2, 3]]]\n",
      "1\n",
      "i 0\n",
      "len(dataToPlot[0]) 1\n",
      "len(data[i]) 2\n",
      "hererehrhehrherhe\n",
      "sub_data [99.99495102494194, 64.05887104917701, 100.0, 6.879228516611121]\n",
      "index_sub_data 0\n",
      "liste_axe_x[index][index_sub_data] [0, 1, 2, 3]\n",
      "legend[index_sub_data] ['METHOD : GradBoostRegressor']\n",
      "sub_data [99.99495102494194, 56.25315560941129, 100.0, 7.540644249217408]\n",
      "index_sub_data 1\n",
      "liste_axe_x[index][index_sub_data] [0, 1, 2, 3]\n",
      "legend[index_sub_data] ['METHOD : LinearRegression']\n"
     ]
    },
    {
     "data": {
      "image/png": "[encoded data removed]",
      "text/plain": [
       "<Figure size 432x288 with 1 Axes>"
      ]
     },
     "metadata": {
      "needs_background": "light"
     },
     "output_type": "display_data"
    }
   ],
   "source": [
    "'''GET KEYS AND VALUES FROM DICT'''\n",
    "liste_values_from_dict_errors = list(dict_errors.values())\n",
    "liste_keys_from_dict_errors = list(dict_errors.keys())\n",
    "\n",
    "print(\"liste_values_from_dict_errors\",liste_values_from_dict_errors)\n",
    "print(\"liste_keys_from_dict_errors\",liste_keys_from_dict_errors)\n",
    "\n",
    "\n",
    "\n",
    "'''AFFICHAGE'''\n",
    "\n",
    "\n",
    "dataToPlot = [[liste_values_from_dict_errors]]\n",
    "labels = [\"error % per attributs\"]\n",
    "cols, rows =  1, 1\n",
    "liste_axe_x = [compteur for compteur in range(len(liste_values_from_dict_errors[0]))]\n",
    "print(\"liste_axe_x\",liste_axe_x)\n",
    "liste_axe_x_all, over_axe_x_length, len_axe_x = [[liste_axe_x for y in liste_values_from_dict_errors]], False, len(\n",
    "            liste_axe_x)\n",
    "print(\"liste_axe_x_all\", liste_axe_x_all)\n",
    "legend_1 = [[\"METHOD : \"+str(method_used)] for method_used in liste_keys_from_dict_errors]\n",
    "name = ''\n",
    "xlabel = 'ATTRIBUT'\n",
    "ylabel = 'ERROR %'\n",
    "#path_saved_to = 'GRAPH_FOR_' + str(len(liste_values_from_dict_errors)) + '_games'\n",
    "path_saved_to = 'GRAPH_FOR_ERRORS'\n",
    "create_graphs(dataToPlot, labels, cols, rows, liste_axe_x_all, over_axe_x_length, len_axe_x, legend_1,\n",
    "                              name, path_saved_to, xlabel, ylabel)\n"
   ]
  },
  {
   "cell_type": "code",
   "execution_count": null,
   "id": "a0119d69",
   "metadata": {},
   "outputs": [],
   "source": []
  }
 ],
 "metadata": {
  "kernelspec": {
   "display_name": "Python 3",
   "language": "python",
   "name": "python3"
  },
  "language_info": {
   "codemirror_mode": {
    "name": "ipython",
    "version": 3
   },
   "file_extension": ".py",
   "mimetype": "text/x-python",
   "name": "python",
   "nbconvert_exporter": "python",
   "pygments_lexer": "ipython3",
   "version": "3.7.10"
  }
 },
 "nbformat": 4,
 "nbformat_minor": 5
}
