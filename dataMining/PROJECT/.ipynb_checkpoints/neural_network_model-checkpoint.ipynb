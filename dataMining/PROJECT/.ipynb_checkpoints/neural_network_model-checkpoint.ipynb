{
 "cells": [
  {
   "cell_type": "code",
   "execution_count": 1,
   "id": "8e8953a7",
   "metadata": {},
   "outputs": [],
   "source": [
    "from utils import get_smiles_encodings, load_data, smile_to_hot\n",
    "from sklearn.linear_model import SGDRegressor\n",
    "from sklearn.neural_network import MLPRegressor\n",
    "from datetime import datetime\n",
    "import numpy as np"
   ]
  },
  {
   "cell_type": "code",
   "execution_count": 2,
   "id": "9da6ac47",
   "metadata": {
    "scrolled": true
   },
   "outputs": [
    {
     "name": "stdout",
     "output_type": "stream",
     "text": [
      "X - train :  (92428,)\n",
      "y - train :  (92428, 4)\n",
      "X_hot :  (92428, 14)\n",
      "X_hot_test :  (39612, 14)\n"
     ]
    }
   ],
   "source": [
    "file_smiles = './dataset/QM9.txt'\n",
    "file_properties = './dataset/properties_QM9.npz'\n",
    "smiles, alphabet, largest_molecule_len = get_smiles_encodings(file_smiles)\n",
    "properties = np.load(file_properties)['properties'].astype(np.float32)\n",
    "properties_txt = ['logP: represents a measure of the tendency of a compound to move from the aqueous phase into lipids',\n",
    "                  'Number of rotatable bonds (RBN): the number of bonds which allow free rotation around themselves',\n",
    "                  'Molecular weight (MW): the weight of a molecule based on the atomic masses of all atoms in the molecule',\n",
    "                  'Number of the rings (RN): the number of connected sets of atoms and bonds in which every atom and bond is a member of a cycle']\n",
    "\n",
    "X_train, X_test, y_train, y_test = load_data(smiles, properties)\n",
    "print(\"X - train : \", X_train.shape)\n",
    "print(\"y - train : \", y_train.shape)\n",
    "X_hot = np.array([smile_to_hot(x, largest_molecule_len, alphabet)[1].sum(axis=0) for x in X_train])\n",
    "X_hot_test = np.array([smile_to_hot(x, largest_molecule_len, alphabet)[1].sum(axis=0) for x in X_test])\n",
    "print(\"X_hot : \", X_hot.shape)\n",
    "print(\"X_hot_test : \", X_hot_test.shape)"
   ]
  },
  {
   "cell_type": "code",
   "execution_count": 3,
   "id": "e57c44f5",
   "metadata": {},
   "outputs": [
    {
     "ename": "NameError",
     "evalue": "name 'make_regression' is not defined",
     "output_type": "error",
     "traceback": [
      "\u001b[1;31m---------------------------------------------------------------------------\u001b[0m",
      "\u001b[1;31mNameError\u001b[0m                                 Traceback (most recent call last)",
      "\u001b[1;32m<ipython-input-3-2288c97445ee>\u001b[0m in \u001b[0;36m<module>\u001b[1;34m\u001b[0m\n\u001b[1;32m----> 1\u001b[1;33m \u001b[0mmodel_regression_0\u001b[0m \u001b[1;33m=\u001b[0m \u001b[0mmake_regression\u001b[0m\u001b[1;33m(\u001b[0m\u001b[1;33m)\u001b[0m\u001b[1;33m\u001b[0m\u001b[1;33m\u001b[0m\u001b[0m\n\u001b[0m\u001b[0;32m      2\u001b[0m \u001b[0mmodel_regression_0\u001b[0m\u001b[1;33m.\u001b[0m\u001b[0mfit\u001b[0m\u001b[1;33m(\u001b[0m\u001b[0mX_hot\u001b[0m\u001b[1;33m,\u001b[0m \u001b[0my_train\u001b[0m\u001b[1;33m[\u001b[0m\u001b[1;33m:\u001b[0m\u001b[1;33m,\u001b[0m\u001b[1;36m0\u001b[0m\u001b[1;33m]\u001b[0m\u001b[1;33m)\u001b[0m\u001b[1;33m\u001b[0m\u001b[1;33m\u001b[0m\u001b[0m\n\u001b[0;32m      3\u001b[0m \u001b[0my_pred_0\u001b[0m \u001b[1;33m=\u001b[0m \u001b[0mmodel_regression_0\u001b[0m\u001b[1;33m.\u001b[0m\u001b[0mpredict\u001b[0m\u001b[1;33m(\u001b[0m\u001b[0mX_hot_test\u001b[0m\u001b[1;33m)\u001b[0m\u001b[1;33m\u001b[0m\u001b[1;33m\u001b[0m\u001b[0m\n\u001b[0;32m      4\u001b[0m \u001b[1;33m\u001b[0m\u001b[0m\n\u001b[0;32m      5\u001b[0m \u001b[0mmodel_regression_1\u001b[0m \u001b[1;33m=\u001b[0m \u001b[0mmake_regression\u001b[0m\u001b[1;33m(\u001b[0m\u001b[1;33m)\u001b[0m\u001b[1;33m\u001b[0m\u001b[1;33m\u001b[0m\u001b[0m\n",
      "\u001b[1;31mNameError\u001b[0m: name 'make_regression' is not defined"
     ]
    }
   ],
   "source": [
    "model_regression_0 = make_regression()\n",
    "model_regression_0.fit(X_hot, y_train[:,0])\n",
    "y_pred_0 = model_regression_0.predict(X_hot_test)\n",
    "\n",
    "model_regression_1 = make_regression()\n",
    "model_regression_1.fit(X_hot, y_train[:,1])\n",
    "y_pred_1 = model_regression_1.predict(X_hot_test)\n",
    "\n",
    "model_regression_2 = make_regression()\n",
    "model_regression_2.fit(X_hot, y_train[:,2])\n",
    "y_pred_2 = model_regression_2.predict(X_hot_test)\n",
    "\n",
    "model_regression_3 = make_regression()\n",
    "model_regression_3.fit(X_hot, y_train[:,3])\n",
    "y_pred_3 = model_regression_3.predict(X_hot_test)"
   ]
  },
  {
   "cell_type": "code",
   "execution_count": null,
   "id": "7ff2bfd5",
   "metadata": {
    "scrolled": true
   },
   "outputs": [],
   "source": [
    "y_test_0 = y_test[:,0]\n",
    "y_test_1 = y_test[:,1]\n",
    "y_test_2 = y_test[:,2]\n",
    "y_test_3 = y_test[:,3]    "
   ]
  },
  {
   "cell_type": "code",
   "execution_count": null,
   "id": "a845501e",
   "metadata": {},
   "outputs": [],
   "source": [
    "sum_0 = 0\n",
    "for i in range(y_test_0.shape[0]):\n",
    "    sum_0 = sum_0 + np.abs(np.abs(y_pred_0[i]) - np.abs(y_test_0[i]))\n",
    "sum_0 = sum_0 / y_test_0.shape[0]\n",
    "\n",
    "print(properties_txt[0])\n",
    "print()\n",
    "print(\"Number of unique values in y_test[:,0] : \", np.unique(y_test_0).shape[0])\n",
    "print(\"Min of y_test[:,0] : \", np.min(y_test_0))\n",
    "print(\"Max of y_test[:,0] : \", np.max(y_test_0))\n",
    "print()\n",
    "print(\"Number of unique values in y_pred : \", np.unique(y_pred_0).shape[0])\n",
    "print(\"Min of y_pred : \", np.min(y_pred_0))\n",
    "print(\"Max of y_pred : \", np.max(y_pred_0))\n",
    "print()\n",
    "print(\"Error is on avearage : \", sum_0)\n",
    "print(\"Let's say the target value is : 1.0, then the model would guess a value in the following interval :\")\n",
    "print(\" -> [\", 1.0 - sum_0,\",\",1.0 + sum_0,\"]\")"
   ]
  },
  {
   "cell_type": "code",
   "execution_count": null,
   "id": "a2034220",
   "metadata": {},
   "outputs": [],
   "source": [
    "sum_1 = 0\n",
    "sum_1_5 = 0\n",
    "for i in range(y_test_1.shape[0]):\n",
    "    sum_1 = sum_1 + np.abs(np.abs(y_pred_1[i]) - np.abs(y_test_1[i]))\n",
    "    if(y_pred_1[i] == y_test_1[i]):\n",
    "        sum_1_5 = sum_1_5 + 1\n",
    "sum_1 = sum_1 / y_test_1.shape[0]\n",
    "sum_1_5_r = sum_1_5 / y_test_1.shape[0] * 100\n",
    "\n",
    "print(properties_txt[1])\n",
    "print()\n",
    "print(\"Number of unique values in y_test[:,1] : \", np.unique(y_test_1).shape[0])\n",
    "print(\"Min of y_test[:,1] : \", np.min(y_test_1))\n",
    "print(\"Max of y_test[:,1] : \", np.max(y_test_1))\n",
    "print()\n",
    "print(\"Number of unique values in y_pred : \", np.unique(y_pred_1).shape[0])\n",
    "print(\"Min of y_pred : \", np.min(y_pred_1))\n",
    "print(\"Max of y_pred : \", np.max(y_pred_1))\n",
    "print()\n",
    "print(\"Error is on avearage : \", sum_1)\n",
    "print(\"There were \", sum_1_5, \" correct predictions, out of \", y_test_1.shape[0], \", which is \", 100 - sum_1_5_r,\"% error rate\")\n",
    "print()\n",
    "print(\"Since the number of unique values is small, let's round the y_pred, to see if we get a better approximation : \")\n",
    "print()\n",
    "\n",
    "y_pred_1_r = np.around(y_pred_1)\n",
    "\n",
    "sum_1_r = 0\n",
    "sum_1_5_r = 0\n",
    "for i in range(y_pred_1_r.shape[0]):\n",
    "    sum_1_r = sum_1_r + np.abs(np.abs(y_pred_1_r[i]) - np.abs(y_test_3[i]))\n",
    "    if(y_pred_1_r[i] == y_test_3[i]):\n",
    "        sum_1_5_r = sum_1_5_r + 1\n",
    "sum_1_r = sum_1_r / y_test_3.shape[0]\n",
    "sum_1_5_r_ = sum_1_5_r / y_test_3.shape[0] * 100\n",
    "\n",
    "print(\"Number of unique values in y_pred_rounded : \", np.unique(y_pred_1_r).shape[0])\n",
    "print(\"Min of y_pred_rounded : \", np.min(y_pred_1_r))\n",
    "print(\"Max of y_pred_rounded : \", np.max(y_pred_1_r))\n",
    "print()\n",
    "print(\"Error is on avearage : \", sum_1_r)\n",
    "print(\"There were \", sum_1_5_r, \" correct predictions, out of \", y_test_3.shape[0], \", which is \", 100 - sum_1_5_r_,\"% error rate\")"
   ]
  },
  {
   "cell_type": "code",
   "execution_count": null,
   "id": "1201d2b4",
   "metadata": {},
   "outputs": [],
   "source": [
    "sum_2 = 0\n",
    "sum_2_r = 0\n",
    "for i in range(y_test_2.shape[0]):\n",
    "    sum_2 = sum_2 + np.abs(np.abs(y_pred_2[i]) - np.abs(y_test_2[i]))\n",
    "    sum_2_r = sum_2_r + np.abs(100 - (np.abs(y_pred_2[i]) * 100 / np.abs(y_test_2[i])))\n",
    "sum_2 = sum_2 / y_test_2.shape[0]\n",
    "sum_2_r = sum_2_r / y_test_2.shape[0]\n",
    "\n",
    "print(properties_txt[2])\n",
    "print()\n",
    "print(\"Number of unique values in y_test[:,2] : \", np.unique(y_test_2).shape[0])\n",
    "print(\"Min of y_test[:,2] : \", np.min(y_test_2))\n",
    "print(\"Max of y_test[:,2] : \", np.max(y_test_2))\n",
    "print()\n",
    "print(\"Number of unique values in y_pred : \", np.unique(y_pred_2).shape[0])\n",
    "print(\"Min of y_pred : \", np.min(y_pred_2))\n",
    "print(\"Max of y_pred : \", np.max(y_pred_2))\n",
    "print()\n",
    "print(\"Error is on avearage : \", sum_2)\n",
    "print(\"Error rate is on avearage : \", sum_2_r, \"% -> for each guess, the model is of by \", sum_2_r, \"%\")\n",
    "print(\"Let's say the target value is : 150, then the model would guess a value in the following interval :\")\n",
    "print(\" -> [\", 150 - sum_2,\",\",150 + sum_2,\"]\")"
   ]
  },
  {
   "cell_type": "code",
   "execution_count": null,
   "id": "b653ea58",
   "metadata": {
    "scrolled": true
   },
   "outputs": [],
   "source": [
    "sum_3 = 0\n",
    "sum_3_5 = 0\n",
    "for i in range(y_test_3.shape[0]):\n",
    "    sum_3 = sum_3 + np.abs(np.abs(y_pred_3[i]) - np.abs(y_test_3[i]))\n",
    "    if(y_pred_3[i] == y_test_3[i]):\n",
    "        sum_3_5 = sum_3_5 + 1\n",
    "sum_3 = sum_3 / y_test_1.shape[0]\n",
    "sum_3_5_r = sum_3_5 / y_test_1.shape[0] * 100\n",
    "\n",
    "print(properties_txt[3])\n",
    "print()\n",
    "print(\"Number of unique values in y_test[:,3] : \", np.unique(y_test_3).shape[0])\n",
    "print(\"Min of y_test[:,3] : \", np.min(y_test_3))\n",
    "print(\"Max of y_test[:,3] : \", np.max(y_test_3))\n",
    "print()\n",
    "print(\"Number of unique values in y_pred : \", np.unique(y_pred_3).shape[0])\n",
    "print(\"Min of y_pred : \", np.min(y_pred_3))\n",
    "print(\"Max of y_pred : \", np.max(y_pred_3))\n",
    "print()\n",
    "print(\"Error is on avearage : \", sum_3)\n",
    "print(\"There were \", sum_3_5, \" correct predictions, out of \", y_test_3.shape[0], \", which is \", 100 - sum_3_5_r,\"% error rate\")\n",
    "print()\n",
    "print(\"Since the number of unique values is small, let's round the y_pred, to see if we get a better approximation : \")\n",
    "print()\n",
    "\n",
    "y_pred_3_r = np.around(y_pred_3)\n",
    "\n",
    "sum_3_r = 0\n",
    "sum_3_5_r = 0\n",
    "for i in range(y_test_3.shape[0]):\n",
    "    sum_3_r = sum_3_r + np.abs(np.abs(y_pred_3_r[i]) - np.abs(y_test_3[i]))\n",
    "    if(y_pred_3_r[i] == y_test_3[i]):\n",
    "        sum_3_5_r = sum_3_5_r + 1\n",
    "sum_3_r = sum_3_r / y_test_3.shape[0]\n",
    "sum_3_5_r_ = sum_3_5_r / y_test_3.shape[0] * 100\n",
    "\n",
    "print(\"Number of unique values in y_pred_rounded : \", np.unique(y_pred_3_r).shape[0])\n",
    "print(\"Min of y_pred_rounded : \", np.min(y_pred_3_r))\n",
    "print(\"Max of y_pred_rounded : \", np.max(y_pred_3_r))\n",
    "print()\n",
    "print(\"Error is on avearage : \", sum_3_r)\n",
    "print(\"There were \", sum_3_5_r, \" correct predictions, out of \", y_test_3.shape[0], \", which is \", 100 - sum_3_5_r_,\"% error rate\")"
   ]
  },
  {
   "cell_type": "code",
   "execution_count": null,
   "id": "789799a5",
   "metadata": {},
   "outputs": [],
   "source": []
  }
 ],
 "metadata": {
  "kernelspec": {
   "display_name": "Python 3",
   "language": "python",
   "name": "python3"
  },
  "language_info": {
   "codemirror_mode": {
    "name": "ipython",
    "version": 3
   },
   "file_extension": ".py",
   "mimetype": "text/x-python",
   "name": "python",
   "nbconvert_exporter": "python",
   "pygments_lexer": "ipython3",
   "version": "3.7.10"
  }
 },
 "nbformat": 4,
 "nbformat_minor": 5
}
