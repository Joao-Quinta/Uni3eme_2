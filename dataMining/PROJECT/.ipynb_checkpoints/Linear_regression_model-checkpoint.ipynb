{
 "cells": [
  {
   "cell_type": "code",
   "execution_count": 1,
   "id": "8e8953a7",
   "metadata": {},
   "outputs": [],
   "source": [
    "from utils import get_smiles_encodings, load_data, smile_to_hot\n",
    "from sklearn.linear_model import SGDRegressor\n",
    "from sklearn.linear_model import RidgeClassifier\n",
    "from datetime import datetime\n",
    "import numpy as np"
   ]
  },
  {
   "cell_type": "code",
   "execution_count": 2,
   "id": "9da6ac47",
   "metadata": {
    "scrolled": true
   },
   "outputs": [
    {
     "name": "stdout",
     "output_type": "stream",
     "text": [
      "X - train :  (92428,)\n",
      "y - train :  (92428, 4)\n",
      "X_hot :  (92428, 14)\n",
      "X_hot_test :  (39612, 14)\n",
      "X_hot_integer :  (92428, 22)\n",
      "X_hot_integer_test :  (39612, 22)\n"
     ]
    }
   ],
   "source": [
    "file_smiles = './dataset/QM9.txt'\n",
    "file_properties = './dataset/properties_QM9.npz'\n",
    "smiles, alphabet, largest_molecule_len = get_smiles_encodings(file_smiles)\n",
    "properties = np.load(file_properties)['properties'].astype(np.float32)\n",
    "properties_txt = ['logP: represents a measure of the tendency of a compound to move from the aqueous phase into lipids',\n",
    "                  'Number of rotatable bonds (RBN): the number of bonds which allow free rotation around themselves',\n",
    "                  'Molecular weight (MW): the weight of a molecule based on the atomic masses of all atoms in the molecule',\n",
    "                  'Number of the rings (RN): the number of connected sets of atoms and bonds in which every atom and bond is a member of a cycle']\n",
    "\n",
    "X_train, X_test, y_train, y_test = load_data(smiles, properties)\n",
    "print(\"X - train : \", X_train.shape)\n",
    "print(\"y - train : \", y_train.shape)\n",
    "X_hot = np.array([smile_to_hot(x, largest_molecule_len, alphabet)[1].sum(axis=0) for x in X_train])\n",
    "X_hot_test = np.array([smile_to_hot(x, largest_molecule_len, alphabet)[1].sum(axis=0) for x in X_test])\n",
    "print(\"X_hot : \", X_hot.shape)\n",
    "print(\"X_hot_test : \", X_hot_test.shape)\n",
    "X_hot_integer = np.array([smile_to_hot(x, largest_molecule_len, alphabet)[0] for x in X_train])\n",
    "X_hot_test_integer = np.array([smile_to_hot(x, largest_molecule_len, alphabet)[0] for x in X_test])\n",
    "print(\"X_hot_integer : \", X_hot_integer.shape)\n",
    "print(\"X_hot_integer_test : \", X_hot_test_integer.shape)"
   ]
  },
  {
   "cell_type": "code",
   "execution_count": 3,
   "id": "e57c44f5",
   "metadata": {},
   "outputs": [],
   "source": [
    "# 0 \n",
    "model_regression_0 = SGDRegressor()\n",
    "model_regression_0.fit(X_hot, y_train[:,0])\n",
    "y_pred_0 = model_regression_0.predict(X_hot_test)\n",
    "# 1\n",
    "model_regression_1 = SGDRegressor()\n",
    "model_regression_1.fit(X_hot, y_train[:,1])\n",
    "y_pred_1 = model_regression_1.predict(X_hot_test)\n",
    "\n",
    "model_regression_1_class = RidgeClassifier()\n",
    "model_regression_1_class.fit(X_hot, y_train[:,1])\n",
    "y_pred_1_class = model_regression_1_class.predict(X_hot_test)\n",
    "# 2 \n",
    "model_regression_2 = SGDRegressor()\n",
    "model_regression_2.fit(X_hot, y_train[:,2])\n",
    "y_pred_2 = model_regression_2.predict(X_hot_test)\n",
    "# 3 \n",
    "model_regression_3 = SGDRegressor()\n",
    "model_regression_3.fit(X_hot, y_train[:,3])\n",
    "y_pred_3 = model_regression_3.predict(X_hot_test)\n",
    "\n",
    "model_regression_3_class = RidgeClassifier()\n",
    "model_regression_3_class.fit(X_hot, y_train[:,3])\n",
    "y_pred_3_class = model_regression_3_class.predict(X_hot_test)"
   ]
  },
  {
   "cell_type": "code",
   "execution_count": 4,
   "id": "7ff2bfd5",
   "metadata": {
    "scrolled": true
   },
   "outputs": [],
   "source": [
    "y_test_0 = y_test[:,0]\n",
    "y_test_1 = y_test[:,1]\n",
    "y_test_2 = y_test[:,2]\n",
    "y_test_3 = y_test[:,3]    "
   ]
  },
  {
   "cell_type": "code",
   "execution_count": 5,
   "id": "a845501e",
   "metadata": {},
   "outputs": [
    {
     "name": "stdout",
     "output_type": "stream",
     "text": [
      "logP: represents a measure of the tendency of a compound to move from the aqueous phase into lipids\n",
      "\n",
      "Number of unique values in y_test[:,0] :  6400\n",
      "Min of y_test[:,0] :  -2.8142\n",
      "Max of y_test[:,0] :  3.7569\n",
      "\n",
      "Number of unique values in y_pred :  1337\n",
      "Min of y_pred :  -2.9187293554990483\n",
      "Max of y_pred :  3.1766602205853713\n",
      "\n",
      "Error is on avearage :  0.34547616181137525\n",
      "Let's say the target value is : 1.0, then the model would guess a value in the following interval :\n",
      " -> [ 0.6545238381886247 , 1.3454761618113753 ]\n"
     ]
    }
   ],
   "source": [
    "sum_0 = 0\n",
    "for i in range(y_test_0.shape[0]):\n",
    "    sum_0 = sum_0 + np.abs(np.abs(y_pred_0[i]) - np.abs(y_test_0[i]))\n",
    "sum_0 = sum_0 / y_test_0.shape[0]\n",
    "\n",
    "print(properties_txt[0])\n",
    "print()\n",
    "print(\"Number of unique values in y_test[:,0] : \", np.unique(y_test_0).shape[0])\n",
    "print(\"Min of y_test[:,0] : \", np.min(y_test_0))\n",
    "print(\"Max of y_test[:,0] : \", np.max(y_test_0))\n",
    "print()\n",
    "print(\"Number of unique values in y_pred : \", np.unique(y_pred_0).shape[0])\n",
    "print(\"Min of y_pred : \", np.min(y_pred_0))\n",
    "print(\"Max of y_pred : \", np.max(y_pred_0))\n",
    "print()\n",
    "print(\"Error is on avearage : \", sum_0)\n",
    "print(\"Let's say the target value is : 1.0, then the model would guess a value in the following interval :\")\n",
    "print(\" -> [\", 1.0 - sum_0,\",\",1.0 + sum_0,\"]\")"
   ]
  },
  {
   "cell_type": "code",
   "execution_count": 6,
   "id": "a2034220",
   "metadata": {},
   "outputs": [
    {
     "name": "stdout",
     "output_type": "stream",
     "text": [
      "Number of rotatable bonds (RBN): the number of bonds which allow free rotation around themselves\n",
      "\n",
      "Since this property is discrete, I rounded the values we got, but I tried a classification method as well\n",
      "\n",
      "Number of unique values in y_pred_rounded :  5\n",
      "Min of y_pred_rounded :  -1.0\n",
      "Max of y_pred_rounded :  3.0\n",
      "\n",
      "Error is on avearage :  0.680349389074018\n",
      "There were  16980  correct predictions, out of  39612 , which is  57.13420175704332 % error rate\n",
      "\n",
      "Classification method\n",
      "There were  12554  correct predictions, out of  39612 , which is  68.30758356053721 % error rate\n"
     ]
    }
   ],
   "source": [
    "print(properties_txt[1])\n",
    "print()\n",
    "print(\"Since this property is discrete, I rounded the values we got, but I tried a classification method as well\")\n",
    "print()\n",
    "\n",
    "y_pred_1_r = np.around(y_pred_1)\n",
    "\n",
    "sum_1_r = 0\n",
    "sum_1_5_r = 0\n",
    "for i in range(y_pred_1_r.shape[0]):\n",
    "    sum_1_r = sum_1_r + np.abs(np.abs(y_pred_1_r[i]) - np.abs(y_test_1[i]))\n",
    "    if(y_pred_1_r[i] == y_test_1[i]):\n",
    "        sum_1_5_r = sum_1_5_r + 1\n",
    "sum_1_r = sum_1_r / y_test_3.shape[0]\n",
    "sum_1_5_r_ = sum_1_5_r / y_test_3.shape[0] * 100\n",
    "\n",
    "print(\"Number of unique values in y_pred_rounded : \", np.unique(y_pred_1_r).shape[0])\n",
    "print(\"Min of y_pred_rounded : \", np.min(y_pred_1_r))\n",
    "print(\"Max of y_pred_rounded : \", np.max(y_pred_1_r))\n",
    "print()\n",
    "print(\"Error is on avearage : \", sum_1_r)\n",
    "print(\"There were \", sum_1_5_r, \" correct predictions, out of \", y_test_3.shape[0], \", which is \", 100 - sum_1_5_r_,\"% error rate\")\n",
    "print()\n",
    "print(\"Classification method\")\n",
    "\n",
    "sum_1_r = 0\n",
    "sum_1_5_r = 0\n",
    "for i in range(y_pred_1_r.shape[0]):\n",
    "    sum_1_r = sum_1_r + np.abs(np.abs(y_pred_1_class[i]) - np.abs(y_test_3[i]))\n",
    "    if(y_pred_1_class[i] == y_test_1[i]):\n",
    "        sum_1_5_r = sum_1_5_r + 1\n",
    "sum_1_r = sum_1_r / y_test_3.shape[0]\n",
    "sum_1_5_r_ = sum_1_5_r / y_test_3.shape[0] * 100\n",
    "print(\"There were \", sum_1_5_r, \" correct predictions, out of \", y_test_3.shape[0], \", which is \", 100 - sum_1_5_r_,\"% error rate\")"
   ]
  },
  {
   "cell_type": "code",
   "execution_count": 7,
   "id": "1201d2b4",
   "metadata": {},
   "outputs": [
    {
     "name": "stdout",
     "output_type": "stream",
     "text": [
      "Molecular weight (MW): the weight of a molecule based on the atomic masses of all atoms in the molecule\n",
      "\n",
      "Number of unique values in y_test[:,2] :  222\n",
      "Min of y_test[:,2] :  104.152\n",
      "Max of y_test[:,2] :  152.037\n",
      "\n",
      "Number of unique values in y_pred :  1337\n",
      "Min of y_pred :  104.18146129934982\n",
      "Max of y_pred :  150.8290170767943\n",
      "\n",
      "Error is on avearage :  0.019987376763212793\n",
      "Error rate is on avearage :  0.015285681200489658 % -> for each guess, the model is of by  0.015285681200489658 %\n",
      "Let's say the target value is : 150, then the model would guess a value in the following interval :\n",
      " -> [ 149.98001262323677 , 150.01998737676323 ]\n"
     ]
    }
   ],
   "source": [
    "sum_2 = 0\n",
    "sum_2_r = 0\n",
    "for i in range(y_test_2.shape[0]):\n",
    "    sum_2 = sum_2 + np.abs(np.abs(y_pred_2[i]) - np.abs(y_test_2[i]))\n",
    "    sum_2_r = sum_2_r + np.abs(100 - (np.abs(y_pred_2[i]) * 100 / np.abs(y_test_2[i])))\n",
    "sum_2 = sum_2 / y_test_2.shape[0]\n",
    "sum_2_r = sum_2_r / y_test_2.shape[0]\n",
    "\n",
    "print(properties_txt[2])\n",
    "print()\n",
    "print(\"Number of unique values in y_test[:,2] : \", np.unique(y_test_2).shape[0])\n",
    "print(\"Min of y_test[:,2] : \", np.min(y_test_2))\n",
    "print(\"Max of y_test[:,2] : \", np.max(y_test_2))\n",
    "print()\n",
    "print(\"Number of unique values in y_pred : \", np.unique(y_pred_2).shape[0])\n",
    "print(\"Min of y_pred : \", np.min(y_pred_2))\n",
    "print(\"Max of y_pred : \", np.max(y_pred_2))\n",
    "print()\n",
    "print(\"Error is on avearage : \", sum_2)\n",
    "print(\"Error rate is on avearage : \", sum_2_r, \"% -> for each guess, the model is of by \", sum_2_r, \"%\")\n",
    "print(\"Let's say the target value is : 150, then the model would guess a value in the following interval :\")\n",
    "print(\" -> [\", 150 - sum_2,\",\",150 + sum_2,\"]\")"
   ]
  },
  {
   "cell_type": "code",
   "execution_count": 8,
   "id": "b653ea58",
   "metadata": {
    "scrolled": true
   },
   "outputs": [
    {
     "name": "stdout",
     "output_type": "stream",
     "text": [
      "Number of the rings (RN): the number of connected sets of atoms and bonds in which every atom and bond is a member of a cycle\n",
      "\n",
      "Since this property is discrete, I rounded the values we got, but I tried a classification method as well\n",
      "\n",
      "Number of unique values in y_pred_rounded :  7\n",
      "Min of y_pred_rounded :  0.0\n",
      "Max of y_pred_rounded :  6.0\n",
      "\n",
      "Error is on avearage :  0.07666868625668989\n",
      "There were  36643  correct predictions, out of  39612 , which is  7.495203473694843 % error rate\n",
      "\n",
      "Classification method\n",
      "There were  30834  correct predictions, out of  39612 , which is  22.159951529839432 % error rate\n"
     ]
    }
   ],
   "source": [
    "print(properties_txt[3])\n",
    "print()\n",
    "print(\"Since this property is discrete, I rounded the values we got, but I tried a classification method as well\")\n",
    "print()\n",
    "\n",
    "y_pred_3_r = np.around(y_pred_3)\n",
    "\n",
    "sum_3_r = 0\n",
    "sum_3_5_r = 0\n",
    "for i in range(y_test_3.shape[0]):\n",
    "    sum_3_r = sum_3_r + np.abs(np.abs(y_pred_3_r[i]) - np.abs(y_test_3[i]))\n",
    "    if(y_pred_3_r[i] == y_test_3[i]):\n",
    "        sum_3_5_r = sum_3_5_r + 1\n",
    "sum_3_r = sum_3_r / y_test_3.shape[0]\n",
    "sum_3_5_r_ = sum_3_5_r / y_test_3.shape[0] * 100\n",
    "\n",
    "print(\"Number of unique values in y_pred_rounded : \", np.unique(y_pred_3_r).shape[0])\n",
    "print(\"Min of y_pred_rounded : \", np.min(y_pred_3_r))\n",
    "print(\"Max of y_pred_rounded : \", np.max(y_pred_3_r))\n",
    "print()\n",
    "print(\"Error is on avearage : \", sum_3_r)\n",
    "print(\"There were \", sum_3_5_r, \" correct predictions, out of \", y_test_3.shape[0], \", which is \", 100 - sum_3_5_r_,\"% error rate\")\n",
    "print()\n",
    "print(\"Classification method\")\n",
    "\n",
    "sum_1_r = 0\n",
    "sum_1_5_r = 0\n",
    "for i in range(y_pred_1_r.shape[0]):\n",
    "    sum_1_r = sum_1_r + np.abs(np.abs(y_pred_3_class[i]) - np.abs(y_test_3[i]))\n",
    "    if(y_pred_3_class[i] == y_test_3[i]):\n",
    "        sum_1_5_r = sum_1_5_r + 1\n",
    "sum_1_r = sum_1_r / y_test_3.shape[0]\n",
    "sum_1_5_r_ = sum_1_5_r / y_test_3.shape[0] * 100\n",
    "print(\"There were \", sum_1_5_r, \" correct predictions, out of \", y_test_3.shape[0], \", which is \", 100 - sum_1_5_r_,\"% error rate\")\n"
   ]
  },
  {
   "cell_type": "code",
   "execution_count": 12,
   "id": "789799a5",
   "metadata": {},
   "outputs": [
    {
     "name": "stdout",
     "output_type": "stream",
     "text": [
      "100   constant    - done\n"
     ]
    },
    {
     "name": "stderr",
     "output_type": "stream",
     "text": [
      "C:\\Users\\qjoao\\.conda\\envs\\DM_project\\lib\\site-packages\\sklearn\\linear_model\\_stochastic_gradient.py:1228: ConvergenceWarning: Maximum number of iteration reached before convergence. Consider increasing max_iter to improve the fit.\n",
      "  ConvergenceWarning)\n"
     ]
    },
    {
     "name": "stdout",
     "output_type": "stream",
     "text": [
      "100   optimal    - done\n",
      "100   invscaling    - done\n"
     ]
    },
    {
     "name": "stderr",
     "output_type": "stream",
     "text": [
      "C:\\Users\\qjoao\\.conda\\envs\\DM_project\\lib\\site-packages\\sklearn\\linear_model\\_stochastic_gradient.py:1228: ConvergenceWarning: Maximum number of iteration reached before convergence. Consider increasing max_iter to improve the fit.\n",
      "  ConvergenceWarning)\n"
     ]
    },
    {
     "name": "stdout",
     "output_type": "stream",
     "text": [
      "100   adaptive    - done\n",
      "500   constant    - done\n",
      "500   optimal    - done\n",
      "500   invscaling    - done\n",
      "500   adaptive    - done\n",
      "1000   constant    - done\n",
      "1000   optimal    - done\n",
      "1000   invscaling    - done\n",
      "1000   adaptive    - done\n",
      "2000   constant    - done\n",
      "2000   optimal    - done\n",
      "2000   invscaling    - done\n",
      "2000   adaptive    - done\n",
      "\n",
      "[0.3440146150363204, 1000, 'invscaling']\n",
      "[56.381904473391906, 2000, 'invscaling']\n",
      "[0.02038320193443289, 2000, 'constant']\n",
      "[6.144602645662928, 100, 'invscaling']\n",
      "\n",
      "[99.96970614965161, 100, 'invscaling']\n"
     ]
    }
   ],
   "source": [
    "max_iter_ = [100, 500, 1000, 2000]\n",
    "learning_rate_ = ['constant', 'optimal', 'invscaling', 'adaptive']\n",
    "best_0 = [100,0,0]\n",
    "best_1 = [100,0,0]\n",
    "best_1_int = [100,0,0]\n",
    "best_2 = [100,0,0]\n",
    "best_3 = [100,0,0]\n",
    "\n",
    "for max_iterR in max_iter_:\n",
    "    for lr in learning_rate_:\n",
    "        # 0 \n",
    "        model_regression_0 = SGDRegressor(max_iter = max_iterR, learning_rate = lr)\n",
    "        model_regression_0.fit(X_hot, y_train[:,0])\n",
    "        y_pred_0 = model_regression_0.predict(X_hot_test)\n",
    "        \n",
    "        # 1\n",
    "        model_regression_1 = SGDRegressor(max_iter = max_iterR, learning_rate = lr)\n",
    "        model_regression_1.fit(X_hot, y_train[:,1])\n",
    "        y_pred_1 = model_regression_1.predict(X_hot_test)\n",
    "        y_pred_1 = np.round(y_pred_1)\n",
    "\n",
    "        # 2 \n",
    "        model_regression_2 = SGDRegressor(max_iter = max_iterR, learning_rate = lr)\n",
    "        model_regression_2.fit(X_hot, y_train[:,2])\n",
    "        y_pred_2 = model_regression_2.predict(X_hot_test)\n",
    "        \n",
    "        # 3 \n",
    "        model_regression_3 = SGDRegressor(max_iter = max_iterR, learning_rate = lr)\n",
    "        model_regression_3.fit(X_hot, y_train[:,3])\n",
    "        y_pred_3 = model_regression_3.predict(X_hot_test)\n",
    "        y_pred_3 = np.round(y_pred_3)\n",
    "        \n",
    "        # calcul res\n",
    "        sum_0 = 0\n",
    "        sum_1 = 0\n",
    "        sum_2 = 0\n",
    "        sum_3 = 0\n",
    "        for i in range(y_test_0.shape[0]):\n",
    "\n",
    "            # 0\n",
    "            sum_0 = sum_0 + np.abs(np.abs(y_pred_0[i]) - np.abs(y_test_0[i]))\n",
    "\n",
    "            # 1\n",
    "            if(y_pred_1[i] == y_test_1[i]):\n",
    "                sum_1 = sum_1 + 1\n",
    "\n",
    "            # 2\n",
    "            sum_2 = sum_2 + np.abs(np.abs(y_pred_2[i]) - np.abs(y_test_2[i]))\n",
    "\n",
    "            # 3\n",
    "            if(y_pred_3[i] == y_test_3[i]):\n",
    "                sum_3 = sum_3 + 1\n",
    "\n",
    "        sum_0 = sum_0 / y_test_0.shape[0]\n",
    "        sum_1_r = 100 - (sum_1 / y_test_1.shape[0] * 100)\n",
    "        sum_2 = sum_2 / y_test_2.shape[0]\n",
    "        sum_3_r = 100 - (sum_3 / y_test_3.shape[0] * 100)\n",
    "        \n",
    "        \n",
    "        # change res if needed\n",
    "        if sum_0 < best_0[0]:\n",
    "            best_0 = [sum_0, max_iterR, lr]\n",
    "\n",
    "        if sum_1_r < best_1[0]:\n",
    "            best_1 = [sum_1_r, max_iterR, lr]\n",
    "            \n",
    "        if sum_2 < best_2[0]:\n",
    "            best_2 = [sum_2, max_iterR, lr]\n",
    "\n",
    "        if sum_3_r < best_3[0]:\n",
    "            best_3 = [sum_3_r, max_iterR, lr]\n",
    "\n",
    "        print(max_iterR, \" \", lr, \"   - done\")\n",
    "        \n",
    "print()                \n",
    "print(best_0)\n",
    "print(best_1)\n",
    "print(best_2)\n",
    "print(best_3)\n",
    "        "
   ]
  },
  {
   "cell_type": "code",
   "execution_count": 15,
   "id": "6dba3d7c",
   "metadata": {},
   "outputs": [
    {
     "name": "stdout",
     "output_type": "stream",
     "text": [
      "logP: represents a measure of the tendency of a compound to move from the aqueous phase into lipids\n",
      "model -> max_iter :  1000  - learning rate :  invscaling\n",
      "\n",
      "Error is on avearage :  0.3440146150363204\n",
      "Let's say the target value is : 1.0, then the model would guess a value in the following interval :\n",
      " -> [ 0.6559853849636796 , 1.3440146150363204 ]\n"
     ]
    }
   ],
   "source": [
    "print(properties_txt[0])\n",
    "print()\n",
    "print(\"model -> max_iter : \", best_0[1], \" - learning rate : \", best_0[2])\n",
    "print()\n",
    "print(\"Error is on avearage : \", best_0[0])\n",
    "print(\"Let's say the target value is : 1.0, then the model would guess a value in the following interval :\")\n",
    "print(\" -> [\", 1.0 - best_0[0],\",\",1.0 + best_0[0],\"]\")"
   ]
  },
  {
   "cell_type": "code",
   "execution_count": null,
   "id": "97eabe0a",
   "metadata": {},
   "outputs": [],
   "source": [
    "print(properties_txt[1])\n",
    "print()\n",
    "print(\"Since this property is discrete, I rounded the values we got :\")\n",
    "print(\"Error is on avearage : \", sum_1_r)\n",
    "print(\"There were \", sum_1_5_r, \" correct predictions, out of \", y_test_3.shape[0], \", which is \", 100 - sum_1_5_r_,\"% error rate\")\n",
    "print()"
   ]
  }
 ],
 "metadata": {
  "kernelspec": {
   "display_name": "Python 3",
   "language": "python",
   "name": "python3"
  },
  "language_info": {
   "codemirror_mode": {
    "name": "ipython",
    "version": 3
   },
   "file_extension": ".py",
   "mimetype": "text/x-python",
   "name": "python",
   "nbconvert_exporter": "python",
   "pygments_lexer": "ipython3",
   "version": "3.7.10"
  }
 },
 "nbformat": 4,
 "nbformat_minor": 5
}
