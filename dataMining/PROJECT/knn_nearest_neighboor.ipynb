{
 "cells": [
  {
   "cell_type": "code",
   "execution_count": 1,
   "id": "0319310b",
   "metadata": {},
   "outputs": [],
   "source": [
    "from utils import get_smiles_encodings, load_data, smile_to_hot\n",
    "from sklearn.neighbors import KNeighborsClassifier\n",
    "from datetime import datetime\n",
    "import numpy as np"
   ]
  },
  {
   "cell_type": "code",
   "execution_count": 2,
   "id": "e4992d79",
   "metadata": {
    "scrolled": true
   },
   "outputs": [
    {
     "name": "stdout",
     "output_type": "stream",
     "text": [
      "X - train :  (92428,)\n",
      "y - train :  (92428, 4)\n",
      "X_hot :  (92428, 14)\n",
      "X_hot_test :  (39612, 14)\n",
      "X_hot_integer :  (92428, 22)\n",
      "X_hot_integer_test :  (39612, 22)\n"
     ]
    }
   ],
   "source": [
    "file_smiles = './dataset/QM9.txt'\n",
    "file_properties = './dataset/properties_QM9.npz'\n",
    "smiles, alphabet, largest_molecule_len = get_smiles_encodings(file_smiles)\n",
    "properties = np.load(file_properties)['properties'].astype(np.float32)\n",
    "properties_txt = ['logP: represents a measure of the tendency of a compound to move from the aqueous phase into lipids',\n",
    "                  'Number of rotatable bonds (RBN): the number of bonds which allow free rotation around themselves',\n",
    "                  'Molecular weight (MW): the weight of a molecule based on the atomic masses of all atoms in the molecule',\n",
    "                  'Number of the rings (RN): the number of connected sets of atoms and bonds in which every atom and bond is a member of a cycle']\n",
    "\n",
    "X_train, X_test, y_train, y_test = load_data(smiles, properties)\n",
    "print(\"X - train : \", X_train.shape)\n",
    "print(\"y - train : \", y_train.shape)\n",
    "X_hot = np.array([smile_to_hot(x, largest_molecule_len, alphabet)[1].sum(axis=0) for x in X_train])\n",
    "X_hot_test = np.array([smile_to_hot(x, largest_molecule_len, alphabet)[1].sum(axis=0) for x in X_test])\n",
    "print(\"X_hot : \", X_hot.shape)\n",
    "print(\"X_hot_test : \", X_hot_test.shape)\n",
    "X_hot_integer = np.array([smile_to_hot(x, largest_molecule_len, alphabet)[0] for x in X_train])\n",
    "X_hot_test_integer = np.array([smile_to_hot(x, largest_molecule_len, alphabet)[0] for x in X_test])\n",
    "print(\"X_hot_integer : \", X_hot_integer.shape)\n",
    "print(\"X_hot_integer_test : \", X_hot_test_integer.shape)"
   ]
  },
  {
   "cell_type": "code",
   "execution_count": 3,
   "id": "c86b382d",
   "metadata": {},
   "outputs": [],
   "source": [
    "y_train_0 = y_train[:,0]\n",
    "y_train_1 = y_train[:,1]\n",
    "y_train_2 = y_train[:,2]\n",
    "y_train_3 = y_train[:,3]  \n",
    "\n",
    "y_test_0 = y_test[:,0]\n",
    "y_test_1 = y_test[:,1]\n",
    "y_test_2 = y_test[:,2]\n",
    "y_test_3 = y_test[:,3]  \n",
    "\n",
    "nn = 5"
   ]
  },
  {
   "cell_type": "code",
   "execution_count": 4,
   "id": "fbd9911b",
   "metadata": {},
   "outputs": [],
   "source": [
    "nearest_neighboors_1 = KNeighborsClassifier(n_neighbors=nn)\n",
    "nearest_neighboors_1.fit(X_hot, y_train_1)\n",
    "y_pred_1 = nearest_neighboors_1.predict(X_hot_test)"
   ]
  },
  {
   "cell_type": "code",
   "execution_count": 5,
   "id": "c0150da7",
   "metadata": {},
   "outputs": [],
   "source": [
    "nearest_neighboors_1_int = KNeighborsClassifier(n_neighbors=nn)\n",
    "nearest_neighboors_1_int.fit(X_hot_integer, y_train_1)\n",
    "y_pred_1_int = nearest_neighboors_1_int.predict(X_hot_test_integer)"
   ]
  },
  {
   "cell_type": "code",
   "execution_count": 6,
   "id": "5f9dd371",
   "metadata": {},
   "outputs": [],
   "source": [
    "nearest_neighboors_3 = KNeighborsClassifier(n_neighbors=nn)\n",
    "nearest_neighboors_3.fit(X_hot, y_train_3)\n",
    "y_pred_3 = nearest_neighboors_3.predict(X_hot_test)"
   ]
  },
  {
   "cell_type": "code",
   "execution_count": 7,
   "id": "2dc52518",
   "metadata": {},
   "outputs": [],
   "source": [
    "nearest_neighboors_3_int = KNeighborsClassifier(n_neighbors=nn)\n",
    "nearest_neighboors_3_int.fit(X_hot_integer, y_train_3)\n",
    "y_pred_3_int = nearest_neighboors_3_int.predict(X_hot_test_integer)"
   ]
  },
  {
   "cell_type": "code",
   "execution_count": 8,
   "id": "48c74901",
   "metadata": {},
   "outputs": [
    {
     "name": "stdout",
     "output_type": "stream",
     "text": [
      "Number of rotatable bonds (RBN): the number of bonds which allow free rotation around themselves\n",
      "\n",
      "DATATYPE : X - hot\n",
      "\n",
      "Number of unique values in y_test[:,1] :  7\n",
      "Min of y_test[:,1] :  0.0\n",
      "Max of y_test[:,1] :  6.0\n",
      "\n",
      "Number of unique values in y_pred :  7\n",
      "Min of y_pred :  0.0\n",
      "Max of y_pred :  6.0\n",
      "\n",
      "Error is on avearage :  0.8554730889629405\n",
      "There were  15183  correct predictions, out of  39612 , which is  61.67070584671312 % error rate\n"
     ]
    }
   ],
   "source": [
    "sum_1 = 0\n",
    "sum_1_5 = 0\n",
    "for i in range(y_test_1.shape[0]):\n",
    "    sum_1 = sum_1 + np.abs(np.abs(y_pred_1[i]) - np.abs(y_test_1[i]))\n",
    "    if(y_pred_1[i] == y_test_1[i]):\n",
    "        sum_1_5 = sum_1_5 + 1\n",
    "sum_1 = sum_1 / y_test_1.shape[0]\n",
    "sum_1_5_r = sum_1_5 / y_test_1.shape[0] * 100\n",
    "\n",
    "print(properties_txt[1])\n",
    "print()\n",
    "print(\"DATATYPE : X - hot\")\n",
    "print()\n",
    "print(\"Number of unique values in y_test[:,1] : \", np.unique(y_test_1).shape[0])\n",
    "print(\"Min of y_test[:,1] : \", np.min(y_test_1))\n",
    "print(\"Max of y_test[:,1] : \", np.max(y_test_1))\n",
    "print()\n",
    "print(\"Number of unique values in y_pred : \", np.unique(y_pred_1).shape[0])\n",
    "print(\"Min of y_pred : \", np.min(y_pred_1))\n",
    "print(\"Max of y_pred : \", np.max(y_pred_1))\n",
    "print()\n",
    "print(\"Error is on avearage : \", sum_1)\n",
    "print(\"There were \", sum_1_5, \" correct predictions, out of \", y_test_1.shape[0], \", which is \", 100 - sum_1_5_r,\"% error rate\")"
   ]
  },
  {
   "cell_type": "code",
   "execution_count": 9,
   "id": "ec682084",
   "metadata": {},
   "outputs": [
    {
     "name": "stdout",
     "output_type": "stream",
     "text": [
      "Number of rotatable bonds (RBN): the number of bonds which allow free rotation around themselves\n",
      "\n",
      "DATATYPE : X - hot - integer\n",
      "\n",
      "Number of unique values in y_test[:,1] :  7\n",
      "Min of y_test[:,1] :  0.0\n",
      "Max of y_test[:,1] :  6.0\n",
      "\n",
      "Number of unique values in y_pred :  7\n",
      "Min of y_pred :  0.0\n",
      "Max of y_pred :  6.0\n",
      "\n",
      "Error is on avearage :  0.8665555892153892\n",
      "There were  17471  correct predictions, out of  39612 , which is  55.8946783802888 % error rate\n"
     ]
    }
   ],
   "source": [
    "sum_1 = 0\n",
    "sum_1_5 = 0\n",
    "for i in range(y_test_1.shape[0]):\n",
    "    sum_1 = sum_1 + np.abs(np.abs(y_pred_1_int[i]) - np.abs(y_test_1[i]))\n",
    "    if(y_pred_1_int[i] == y_test_1[i]):\n",
    "        sum_1_5 = sum_1_5 + 1\n",
    "sum_1 = sum_1 / y_test_1.shape[0]\n",
    "sum_1_5_r = sum_1_5 / y_test_1.shape[0] * 100\n",
    "\n",
    "print(properties_txt[1])\n",
    "print()\n",
    "print(\"DATATYPE : X - hot - integer\")\n",
    "print()\n",
    "print(\"Number of unique values in y_test[:,1] : \", np.unique(y_test_1).shape[0])\n",
    "print(\"Min of y_test[:,1] : \", np.min(y_test_1))\n",
    "print(\"Max of y_test[:,1] : \", np.max(y_test_1))\n",
    "print()\n",
    "print(\"Number of unique values in y_pred : \", np.unique(y_pred_1).shape[0])\n",
    "print(\"Min of y_pred : \", np.min(y_pred_1))\n",
    "print(\"Max of y_pred : \", np.max(y_pred_1))\n",
    "print()\n",
    "print(\"Error is on avearage : \", sum_1)\n",
    "print(\"There were \", sum_1_5, \" correct predictions, out of \", y_test_1.shape[0], \", which is \", 100 - sum_1_5_r,\"% error rate\")"
   ]
  },
  {
   "cell_type": "code",
   "execution_count": 10,
   "id": "da9d9aff",
   "metadata": {},
   "outputs": [
    {
     "name": "stdout",
     "output_type": "stream",
     "text": [
      "Number of the rings (RN): the number of connected sets of atoms and bonds in which every atom and bond is a member of a cycle\n",
      "\n",
      "DATATYPE : X - hot\n",
      "\n",
      "Number of unique values in y_test[:,3] :  9\n",
      "Min of y_test[:,3] :  0.0\n",
      "Max of y_test[:,3] :  8.0\n",
      "\n",
      "Number of unique values in y_pred :  8\n",
      "Min of y_pred :  0.0\n",
      "Max of y_pred :  7.0\n",
      "\n",
      "Error is on avearage :  0.08323235383217206\n",
      "There were  36698  correct predictions, out of  39612 , which is  7.356356659598106 % error rate\n"
     ]
    }
   ],
   "source": [
    "sum_3 = 0\n",
    "sum_3_5 = 0\n",
    "for i in range(y_test_3.shape[0]):\n",
    "    sum_3 = sum_3 + np.abs(np.abs(y_pred_3[i]) - np.abs(y_test_3[i]))\n",
    "    if(y_pred_3[i] == y_test_3[i]):\n",
    "        sum_3_5 = sum_3_5 + 1\n",
    "sum_3 = sum_3 / y_test_1.shape[0]\n",
    "sum_3_5_r = sum_3_5 / y_test_1.shape[0] * 100\n",
    "\n",
    "print(properties_txt[3])\n",
    "print()\n",
    "print(\"DATATYPE : X - hot\")\n",
    "print()\n",
    "print(\"Number of unique values in y_test[:,3] : \", np.unique(y_test_3).shape[0])\n",
    "print(\"Min of y_test[:,3] : \", np.min(y_test_3))\n",
    "print(\"Max of y_test[:,3] : \", np.max(y_test_3))\n",
    "print()\n",
    "print(\"Number of unique values in y_pred : \", np.unique(y_pred_3).shape[0])\n",
    "print(\"Min of y_pred : \", np.min(y_pred_3))\n",
    "print(\"Max of y_pred : \", np.max(y_pred_3))\n",
    "print()\n",
    "print(\"Error is on avearage : \", sum_3)\n",
    "print(\"There were \", sum_3_5, \" correct predictions, out of \", y_test_3.shape[0], \", which is \", 100 - sum_3_5_r,\"% error rate\")"
   ]
  },
  {
   "cell_type": "code",
   "execution_count": 11,
   "id": "6f07521e",
   "metadata": {},
   "outputs": [
    {
     "name": "stdout",
     "output_type": "stream",
     "text": [
      "Number of the rings (RN): the number of connected sets of atoms and bonds in which every atom and bond is a member of a cycle\n",
      "\n",
      "DATATYPE : X - hot - integer\n",
      "\n",
      "Number of unique values in y_test[:,1] :  7\n",
      "Min of y_test[:,1] :  0.0\n",
      "Max of y_test[:,1] :  6.0\n",
      "\n",
      "Number of unique values in y_pred :  7\n",
      "Min of y_pred :  0.0\n",
      "Max of y_pred :  6.0\n",
      "\n",
      "Error is on avearage :  0.43618095526608097\n",
      "There were  26428  correct predictions, out of  39612 , which is  33.28284358275269 % error rate\n"
     ]
    }
   ],
   "source": [
    "sum_1 = 0\n",
    "sum_1_5 = 0\n",
    "for i in range(y_test_1.shape[0]):\n",
    "    sum_1 = sum_1 + np.abs(np.abs(y_pred_3_int[i]) - np.abs(y_test_3[i]))\n",
    "    if(y_pred_3_int[i] == y_test_3[i]):\n",
    "        sum_1_5 = sum_1_5 + 1\n",
    "sum_1 = sum_1 / y_test_1.shape[0]\n",
    "sum_1_5_r = sum_1_5 / y_test_1.shape[0] * 100\n",
    "\n",
    "print(properties_txt[3])\n",
    "print()\n",
    "print(\"DATATYPE : X - hot - integer\")\n",
    "print()\n",
    "print(\"Number of unique values in y_test[:,1] : \", np.unique(y_test_1).shape[0])\n",
    "print(\"Min of y_test[:,1] : \", np.min(y_test_1))\n",
    "print(\"Max of y_test[:,1] : \", np.max(y_test_1))\n",
    "print()\n",
    "print(\"Number of unique values in y_pred : \", np.unique(y_pred_1).shape[0])\n",
    "print(\"Min of y_pred : \", np.min(y_pred_1))\n",
    "print(\"Max of y_pred : \", np.max(y_pred_1))\n",
    "print()\n",
    "print(\"Error is on avearage : \", sum_1)\n",
    "print(\"There were \", sum_1_5, \" correct predictions, out of \", y_test_1.shape[0], \", which is \", 100 - sum_1_5_r,\"% error rate\")"
   ]
  }
 ],
 "metadata": {
  "kernelspec": {
   "display_name": "Python 3",
   "language": "python",
   "name": "python3"
  },
  "language_info": {
   "codemirror_mode": {
    "name": "ipython",
    "version": 3
   },
   "file_extension": ".py",
   "mimetype": "text/x-python",
   "name": "python",
   "nbconvert_exporter": "python",
   "pygments_lexer": "ipython3",
   "version": "3.7.10"
  }
 },
 "nbformat": 4,
 "nbformat_minor": 5
}
