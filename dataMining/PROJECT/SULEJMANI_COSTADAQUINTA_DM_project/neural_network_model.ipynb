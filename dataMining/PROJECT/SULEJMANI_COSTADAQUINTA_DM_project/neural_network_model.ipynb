{
 "cells": [
  {
   "cell_type": "code",
   "execution_count": 1,
   "id": "8e8953a7",
   "metadata": {},
   "outputs": [],
   "source": [
    "from utils import get_smiles_encodings, load_data, smile_to_hot\n",
    "from sklearn.linear_model import SGDRegressor\n",
    "from sklearn.neural_network import MLPRegressor, MLPClassifier\n",
    "from datetime import datetime\n",
    "import numpy as np"
   ]
  },
  {
   "cell_type": "code",
   "execution_count": 2,
   "id": "9da6ac47",
   "metadata": {
    "scrolled": true
   },
   "outputs": [
    {
     "name": "stdout",
     "output_type": "stream",
     "text": [
      "X - train :  (92428,)\n",
      "y - train :  (92428, 4)\n",
      "X_hot :  (92428, 14)\n",
      "X_hot_test :  (39612, 14)\n",
      "X_hot_integer :  (92428, 22)\n",
      "X_hot_integer_test :  (39612, 22)\n"
     ]
    }
   ],
   "source": [
    "file_smiles = './dataset/QM9.txt'\n",
    "file_properties = './dataset/properties_QM9.npz'\n",
    "smiles, alphabet, largest_molecule_len = get_smiles_encodings(file_smiles)\n",
    "properties = np.load(file_properties)['properties'].astype(np.float32)\n",
    "properties_txt = ['logP: represents a measure of the tendency of a compound to move from the aqueous phase into lipids',\n",
    "                  'Number of rotatable bonds (RBN): the number of bonds which allow free rotation around themselves',\n",
    "                  'Molecular weight (MW): the weight of a molecule based on the atomic masses of all atoms in the molecule',\n",
    "                  'Number of the rings (RN): the number of connected sets of atoms and bonds in which every atom and bond is a member of a cycle']\n",
    "\n",
    "X_train, X_test, y_train, y_test = load_data(smiles, properties)\n",
    "print(\"X - train : \", X_train.shape)\n",
    "print(\"y - train : \", y_train.shape)\n",
    "X_hot = np.array([smile_to_hot(x, largest_molecule_len, alphabet)[1].sum(axis=0) for x in X_train])\n",
    "X_hot_test = np.array([smile_to_hot(x, largest_molecule_len, alphabet)[1].sum(axis=0) for x in X_test])\n",
    "print(\"X_hot : \", X_hot.shape)\n",
    "print(\"X_hot_test : \", X_hot_test.shape)\n",
    "X_hot_integer = np.array([smile_to_hot(x, largest_molecule_len, alphabet)[0] for x in X_train])\n",
    "X_hot_test_integer = np.array([smile_to_hot(x, largest_molecule_len, alphabet)[0] for x in X_test])\n",
    "print(\"X_hot_integer : \", X_hot_integer.shape)\n",
    "print(\"X_hot_integer_test : \", X_hot_test_integer.shape)"
   ]
  },
  {
   "cell_type": "code",
   "execution_count": 3,
   "id": "e57c44f5",
   "metadata": {},
   "outputs": [],
   "source": [
    "model_regression_0 = MLPRegressor()\n",
    "model_regression_0.fit(X_hot, y_train[:,0])\n",
    "y_pred_0 = model_regression_0.predict(X_hot_test)\n",
    "\n",
    "model_regression_1 = MLPClassifier(max_iter=400)\n",
    "model_regression_1.fit(X_hot_integer, y_train[:,1])\n",
    "y_pred_1 = model_regression_1.predict(X_hot_test_integer)\n",
    "\n",
    "model_regression_2 = MLPRegressor()\n",
    "model_regression_2.fit(X_hot, y_train[:,2])\n",
    "y_pred_2 = model_regression_2.predict(X_hot_test)\n",
    "\n",
    "model_regression_3 = MLPClassifier(max_iter=400)\n",
    "model_regression_3.fit(X_hot_integer, y_train[:,3])\n",
    "y_pred_3 = model_regression_3.predict(X_hot_test_integer)"
   ]
  },
  {
   "cell_type": "code",
   "execution_count": 4,
   "id": "7ff2bfd5",
   "metadata": {
    "scrolled": true
   },
   "outputs": [],
   "source": [
    "y_test_0 = y_test[:,0]\n",
    "y_test_1 = y_test[:,1]\n",
    "y_test_2 = y_test[:,2]\n",
    "y_test_3 = y_test[:,3]    "
   ]
  },
  {
   "cell_type": "code",
   "execution_count": 5,
   "id": "a845501e",
   "metadata": {},
   "outputs": [
    {
     "name": "stdout",
     "output_type": "stream",
     "text": [
      "logP: represents a measure of the tendency of a compound to move from the aqueous phase into lipids\n",
      "\n",
      "Number of unique values in y_test[:,0] :  6400\n",
      "Min of y_test[:,0] :  -2.8142\n",
      "Max of y_test[:,0] :  3.7569\n",
      "\n",
      "Number of unique values in y_pred :  1339\n",
      "Min of y_pred :  -2.516537764728384\n",
      "Max of y_pred :  3.7080498391464216\n",
      "\n",
      "Error is on avearage :  0.26377195681773097\n",
      "Let's say the target value is : 1.0, then the model would guess a value in the following interval :\n",
      " -> [ 0.736228043182269 , 1.263771956817731 ]\n"
     ]
    }
   ],
   "source": [
    "sum_0 = 0\n",
    "for i in range(y_test_0.shape[0]):\n",
    "    sum_0 = sum_0 + np.abs(np.abs(y_pred_0[i]) - np.abs(y_test_0[i]))\n",
    "sum_0 = sum_0 / y_test_0.shape[0]\n",
    "\n",
    "print(properties_txt[0])\n",
    "print()\n",
    "print(\"Number of unique values in y_test[:,0] : \", np.unique(y_test_0).shape[0])\n",
    "print(\"Min of y_test[:,0] : \", np.min(y_test_0))\n",
    "print(\"Max of y_test[:,0] : \", np.max(y_test_0))\n",
    "print()\n",
    "print(\"Number of unique values in y_pred : \", np.unique(y_pred_0).shape[0])\n",
    "print(\"Min of y_pred : \", np.min(y_pred_0))\n",
    "print(\"Max of y_pred : \", np.max(y_pred_0))\n",
    "print()\n",
    "print(\"Error is on avearage : \", sum_0)\n",
    "print(\"Let's say the target value is : 1.0, then the model would guess a value in the following interval :\")\n",
    "print(\" -> [\", 1.0 - sum_0,\",\",1.0 + sum_0,\"]\")"
   ]
  },
  {
   "cell_type": "code",
   "execution_count": 6,
   "id": "a2034220",
   "metadata": {},
   "outputs": [
    {
     "name": "stdout",
     "output_type": "stream",
     "text": [
      "Number of rotatable bonds (RBN): the number of bonds which allow free rotation around themselves\n",
      "\n",
      "Number of unique values in y_test[:,1] :  7\n",
      "Min of y_test[:,1] :  0.0\n",
      "Max of y_test[:,1] :  6.0\n",
      "\n",
      "Number of unique values in y_pred :  7\n",
      "Min of y_pred :  0.0\n",
      "Max of y_pred :  6.0\n",
      "\n",
      "Error is on avearage :  0.5411743915985056\n",
      "There were  22391  correct predictions, out of  39612 , which is  43.474199737453304 % error rate\n"
     ]
    }
   ],
   "source": [
    "sum_1 = 0\n",
    "sum_1_5 = 0\n",
    "for i in range(y_test_1.shape[0]):\n",
    "    sum_1 = sum_1 + np.abs(np.abs(y_pred_1[i]) - np.abs(y_test_1[i]))\n",
    "    if(y_pred_1[i] == y_test_1[i]):\n",
    "        sum_1_5 = sum_1_5 + 1\n",
    "sum_1 = sum_1 / y_test_1.shape[0]\n",
    "sum_1_5_r = sum_1_5 / y_test_1.shape[0] * 100\n",
    "\n",
    "print(properties_txt[1])\n",
    "print()\n",
    "print(\"Number of unique values in y_test[:,1] : \", np.unique(y_test_1).shape[0])\n",
    "print(\"Min of y_test[:,1] : \", np.min(y_test_1))\n",
    "print(\"Max of y_test[:,1] : \", np.max(y_test_1))\n",
    "print()\n",
    "print(\"Number of unique values in y_pred : \", np.unique(y_pred_1).shape[0])\n",
    "print(\"Min of y_pred : \", np.min(y_pred_1))\n",
    "print(\"Max of y_pred : \", np.max(y_pred_1))\n",
    "print()\n",
    "print(\"Error is on avearage : \", sum_1)\n",
    "print(\"There were \", sum_1_5, \" correct predictions, out of \", y_test_1.shape[0], \", which is \", 100 - sum_1_5_r,\"% error rate\")"
   ]
  },
  {
   "cell_type": "code",
   "execution_count": 7,
   "id": "1201d2b4",
   "metadata": {},
   "outputs": [
    {
     "name": "stdout",
     "output_type": "stream",
     "text": [
      "Molecular weight (MW): the weight of a molecule based on the atomic masses of all atoms in the molecule\n",
      "\n",
      "Number of unique values in y_test[:,2] :  222\n",
      "Min of y_test[:,2] :  104.152\n",
      "Max of y_test[:,2] :  152.037\n",
      "\n",
      "Number of unique values in y_pred :  1338\n",
      "Min of y_pred :  104.09959678950202\n",
      "Max of y_pred :  151.24252066853614\n",
      "\n",
      "Error is on avearage :  0.041148850219538353\n",
      "Error rate is on avearage :  0.03234002179561573 % -> for each guess, the model is of by  0.03234002179561573 %\n",
      "Let's say the target value is : 150, then the model would guess a value in the following interval :\n",
      " -> [ 149.95885114978046 , 150.04114885021954 ]\n"
     ]
    }
   ],
   "source": [
    "sum_2 = 0\n",
    "sum_2_r = 0\n",
    "for i in range(y_test_2.shape[0]):\n",
    "    sum_2 = sum_2 + np.abs(np.abs(y_pred_2[i]) - np.abs(y_test_2[i]))\n",
    "    sum_2_r = sum_2_r + np.abs(100 - (np.abs(y_pred_2[i]) * 100 / np.abs(y_test_2[i])))\n",
    "sum_2 = sum_2 / y_test_2.shape[0]\n",
    "sum_2_r = sum_2_r / y_test_2.shape[0]\n",
    "\n",
    "print(properties_txt[2])\n",
    "print()\n",
    "print(\"Number of unique values in y_test[:,2] : \", np.unique(y_test_2).shape[0])\n",
    "print(\"Min of y_test[:,2] : \", np.min(y_test_2))\n",
    "print(\"Max of y_test[:,2] : \", np.max(y_test_2))\n",
    "print()\n",
    "print(\"Number of unique values in y_pred : \", np.unique(y_pred_2).shape[0])\n",
    "print(\"Min of y_pred : \", np.min(y_pred_2))\n",
    "print(\"Max of y_pred : \", np.max(y_pred_2))\n",
    "print()\n",
    "print(\"Error is on avearage : \", sum_2)\n",
    "print(\"Error rate is on avearage : \", sum_2_r, \"% -> for each guess, the model is of by \", sum_2_r, \"%\")\n",
    "print(\"Let's say the target value is : 150, then the model would guess a value in the following interval :\")\n",
    "print(\" -> [\", 150 - sum_2,\",\",150 + sum_2,\"]\")"
   ]
  },
  {
   "cell_type": "code",
   "execution_count": 8,
   "id": "b653ea58",
   "metadata": {
    "scrolled": true
   },
   "outputs": [
    {
     "name": "stdout",
     "output_type": "stream",
     "text": [
      "Number of the rings (RN): the number of connected sets of atoms and bonds in which every atom and bond is a member of a cycle\n",
      "\n",
      "Number of unique values in y_test[:,3] :  9\n",
      "Min of y_test[:,3] :  0.0\n",
      "Max of y_test[:,3] :  8.0\n",
      "\n",
      "Number of unique values in y_pred :  9\n",
      "Min of y_pred :  0.0\n",
      "Max of y_pred :  8.0\n",
      "\n",
      "Error is on avearage :  0.22132182167020095\n",
      "There were  31619  correct predictions, out of  39612 , which is  20.17822881954963 % error rate\n"
     ]
    }
   ],
   "source": [
    "sum_3 = 0\n",
    "sum_3_5 = 0\n",
    "for i in range(y_test_3.shape[0]):\n",
    "    sum_3 = sum_3 + np.abs(np.abs(y_pred_3[i]) - np.abs(y_test_3[i]))\n",
    "    if(y_pred_3[i] == y_test_3[i]):\n",
    "        sum_3_5 = sum_3_5 + 1\n",
    "sum_3 = sum_3 / y_test_1.shape[0]\n",
    "sum_3_5_r = sum_3_5 / y_test_1.shape[0] * 100\n",
    "\n",
    "print(properties_txt[3])\n",
    "print()\n",
    "print(\"Number of unique values in y_test[:,3] : \", np.unique(y_test_3).shape[0])\n",
    "print(\"Min of y_test[:,3] : \", np.min(y_test_3))\n",
    "print(\"Max of y_test[:,3] : \", np.max(y_test_3))\n",
    "print()\n",
    "print(\"Number of unique values in y_pred : \", np.unique(y_pred_3).shape[0])\n",
    "print(\"Min of y_pred : \", np.min(y_pred_3))\n",
    "print(\"Max of y_pred : \", np.max(y_pred_3))\n",
    "print()\n",
    "print(\"Error is on avearage : \", sum_3)\n",
    "print(\"There were \", sum_3_5, \" correct predictions, out of \", y_test_3.shape[0], \", which is \", 100 - sum_3_5_r,\"% error rate\")\n"
   ]
  },
  {
   "cell_type": "code",
   "execution_count": 9,
   "id": "789799a5",
   "metadata": {},
   "outputs": [
    {
     "name": "stdout",
     "output_type": "stream",
     "text": [
      "0.1   1   1    - done\n",
      "0.1   1   2    - done\n",
      "0.1   1   3    - done\n",
      "0.1   1   4    - done\n",
      "0.1   1   5    - done\n",
      "0.1   1   6    - done\n",
      "0.1   5   1    - done\n",
      "0.1   5   2    - done\n",
      "0.1   5   3    - done\n",
      "0.1   5   4    - done\n",
      "0.1   5   5    - done\n",
      "0.1   5   6    - done\n",
      "0.1   10   1    - done\n",
      "0.1   10   2    - done\n",
      "0.1   10   3    - done\n",
      "0.1   10   4    - done\n",
      "0.1   10   5    - done\n",
      "0.1   10   6    - done\n",
      "0.1   15   1    - done\n",
      "0.1   15   2    - done\n",
      "0.1   15   3    - done\n",
      "0.1   15   4    - done\n",
      "0.1   15   5    - done\n",
      "0.1   15   6    - done\n",
      "0.1   20   1    - done\n",
      "0.1   20   2    - done\n",
      "0.1   20   3    - done\n",
      "0.1   20   4    - done\n",
      "0.1   20   5    - done\n",
      "0.1   20   6    - done\n",
      "0.01   1   1    - done\n",
      "0.01   1   2    - done\n",
      "0.01   1   3    - done\n",
      "0.01   1   4    - done\n",
      "0.01   1   5    - done\n",
      "0.01   1   6    - done\n",
      "0.01   5   1    - done\n",
      "0.01   5   2    - done\n",
      "0.01   5   3    - done\n",
      "0.01   5   4    - done\n",
      "0.01   5   5    - done\n",
      "0.01   5   6    - done\n",
      "0.01   10   1    - done\n",
      "0.01   10   2    - done\n",
      "0.01   10   3    - done\n",
      "0.01   10   4    - done\n",
      "0.01   10   5    - done\n",
      "0.01   10   6    - done\n",
      "0.01   15   1    - done\n",
      "0.01   15   2    - done\n",
      "0.01   15   3    - done\n",
      "0.01   15   4    - done\n",
      "0.01   15   5    - done\n",
      "0.01   15   6    - done\n",
      "0.01   20   1    - done\n",
      "0.01   20   2    - done\n",
      "0.01   20   3    - done\n",
      "0.01   20   4    - done\n",
      "0.01   20   5    - done\n",
      "0.01   20   6    - done\n",
      "0.001   1   1    - done\n"
     ]
    },
    {
     "name": "stderr",
     "output_type": "stream",
     "text": [
      "C:\\Users\\qjoao\\.conda\\envs\\DM_project\\lib\\site-packages\\sklearn\\neural_network\\_multilayer_perceptron.py:617: ConvergenceWarning: Stochastic Optimizer: Maximum iterations (200) reached and the optimization hasn't converged yet.\n",
      "  % self.max_iter, ConvergenceWarning)\n"
     ]
    },
    {
     "name": "stdout",
     "output_type": "stream",
     "text": [
      "0.001   1   2    - done\n",
      "0.001   1   3    - done\n",
      "0.001   1   4    - done\n",
      "0.001   1   5    - done\n"
     ]
    },
    {
     "name": "stderr",
     "output_type": "stream",
     "text": [
      "C:\\Users\\qjoao\\.conda\\envs\\DM_project\\lib\\site-packages\\sklearn\\neural_network\\_multilayer_perceptron.py:617: ConvergenceWarning: Stochastic Optimizer: Maximum iterations (200) reached and the optimization hasn't converged yet.\n",
      "  % self.max_iter, ConvergenceWarning)\n"
     ]
    },
    {
     "name": "stdout",
     "output_type": "stream",
     "text": [
      "0.001   1   6    - done\n",
      "0.001   5   1    - done\n",
      "0.001   5   2    - done\n"
     ]
    },
    {
     "name": "stderr",
     "output_type": "stream",
     "text": [
      "C:\\Users\\qjoao\\.conda\\envs\\DM_project\\lib\\site-packages\\sklearn\\neural_network\\_multilayer_perceptron.py:617: ConvergenceWarning: Stochastic Optimizer: Maximum iterations (200) reached and the optimization hasn't converged yet.\n",
      "  % self.max_iter, ConvergenceWarning)\n"
     ]
    },
    {
     "name": "stdout",
     "output_type": "stream",
     "text": [
      "0.001   5   3    - done\n",
      "0.001   5   4    - done\n",
      "0.001   5   5    - done\n",
      "0.001   5   6    - done\n",
      "0.001   10   1    - done\n",
      "0.001   10   2    - done\n"
     ]
    },
    {
     "name": "stderr",
     "output_type": "stream",
     "text": [
      "C:\\Users\\qjoao\\.conda\\envs\\DM_project\\lib\\site-packages\\sklearn\\neural_network\\_multilayer_perceptron.py:617: ConvergenceWarning: Stochastic Optimizer: Maximum iterations (200) reached and the optimization hasn't converged yet.\n",
      "  % self.max_iter, ConvergenceWarning)\n"
     ]
    },
    {
     "name": "stdout",
     "output_type": "stream",
     "text": [
      "0.001   10   3    - done\n",
      "0.001   10   4    - done\n",
      "0.001   10   5    - done\n",
      "0.001   10   6    - done\n"
     ]
    },
    {
     "name": "stderr",
     "output_type": "stream",
     "text": [
      "C:\\Users\\qjoao\\.conda\\envs\\DM_project\\lib\\site-packages\\sklearn\\neural_network\\_multilayer_perceptron.py:617: ConvergenceWarning: Stochastic Optimizer: Maximum iterations (200) reached and the optimization hasn't converged yet.\n",
      "  % self.max_iter, ConvergenceWarning)\n"
     ]
    },
    {
     "name": "stdout",
     "output_type": "stream",
     "text": [
      "0.001   15   1    - done\n",
      "0.001   15   2    - done\n",
      "0.001   15   3    - done\n",
      "0.001   15   4    - done\n",
      "0.001   15   5    - done\n",
      "0.001   15   6    - done\n",
      "0.001   20   1    - done\n",
      "0.001   20   2    - done\n",
      "0.001   20   3    - done\n",
      "0.001   20   4    - done\n",
      "0.001   20   5    - done\n",
      "0.001   20   6    - done\n"
     ]
    },
    {
     "name": "stderr",
     "output_type": "stream",
     "text": [
      "C:\\Users\\qjoao\\.conda\\envs\\DM_project\\lib\\site-packages\\sklearn\\neural_network\\_multilayer_perceptron.py:617: ConvergenceWarning: Stochastic Optimizer: Maximum iterations (200) reached and the optimization hasn't converged yet.\n",
      "  % self.max_iter, ConvergenceWarning)\n"
     ]
    },
    {
     "name": "stdout",
     "output_type": "stream",
     "text": [
      "0.0001   1   1    - done\n"
     ]
    },
    {
     "name": "stderr",
     "output_type": "stream",
     "text": [
      "C:\\Users\\qjoao\\.conda\\envs\\DM_project\\lib\\site-packages\\sklearn\\neural_network\\_multilayer_perceptron.py:617: ConvergenceWarning: Stochastic Optimizer: Maximum iterations (200) reached and the optimization hasn't converged yet.\n",
      "  % self.max_iter, ConvergenceWarning)\n"
     ]
    },
    {
     "name": "stdout",
     "output_type": "stream",
     "text": [
      "0.0001   1   2    - done\n",
      "0.0001   1   3    - done\n",
      "0.0001   1   4    - done\n",
      "0.0001   1   5    - done\n"
     ]
    },
    {
     "name": "stderr",
     "output_type": "stream",
     "text": [
      "C:\\Users\\qjoao\\.conda\\envs\\DM_project\\lib\\site-packages\\sklearn\\neural_network\\_multilayer_perceptron.py:617: ConvergenceWarning: Stochastic Optimizer: Maximum iterations (200) reached and the optimization hasn't converged yet.\n",
      "  % self.max_iter, ConvergenceWarning)\n"
     ]
    },
    {
     "name": "stdout",
     "output_type": "stream",
     "text": [
      "0.0001   1   6    - done\n",
      "0.0001   5   1    - done\n"
     ]
    },
    {
     "name": "stderr",
     "output_type": "stream",
     "text": [
      "C:\\Users\\qjoao\\.conda\\envs\\DM_project\\lib\\site-packages\\sklearn\\neural_network\\_multilayer_perceptron.py:617: ConvergenceWarning: Stochastic Optimizer: Maximum iterations (400) reached and the optimization hasn't converged yet.\n",
      "  % self.max_iter, ConvergenceWarning)\n"
     ]
    },
    {
     "name": "stdout",
     "output_type": "stream",
     "text": [
      "0.0001   5   2    - done\n"
     ]
    },
    {
     "name": "stderr",
     "output_type": "stream",
     "text": [
      "C:\\Users\\qjoao\\.conda\\envs\\DM_project\\lib\\site-packages\\sklearn\\neural_network\\_multilayer_perceptron.py:617: ConvergenceWarning: Stochastic Optimizer: Maximum iterations (400) reached and the optimization hasn't converged yet.\n",
      "  % self.max_iter, ConvergenceWarning)\n",
      "C:\\Users\\qjoao\\.conda\\envs\\DM_project\\lib\\site-packages\\sklearn\\neural_network\\_multilayer_perceptron.py:617: ConvergenceWarning: Stochastic Optimizer: Maximum iterations (200) reached and the optimization hasn't converged yet.\n",
      "  % self.max_iter, ConvergenceWarning)\n"
     ]
    },
    {
     "name": "stdout",
     "output_type": "stream",
     "text": [
      "0.0001   5   3    - done\n"
     ]
    },
    {
     "name": "stderr",
     "output_type": "stream",
     "text": [
      "C:\\Users\\qjoao\\.conda\\envs\\DM_project\\lib\\site-packages\\sklearn\\neural_network\\_multilayer_perceptron.py:617: ConvergenceWarning: Stochastic Optimizer: Maximum iterations (400) reached and the optimization hasn't converged yet.\n",
      "  % self.max_iter, ConvergenceWarning)\n"
     ]
    },
    {
     "name": "stdout",
     "output_type": "stream",
     "text": [
      "0.0001   5   4    - done\n"
     ]
    },
    {
     "name": "stderr",
     "output_type": "stream",
     "text": [
      "C:\\Users\\qjoao\\.conda\\envs\\DM_project\\lib\\site-packages\\sklearn\\neural_network\\_multilayer_perceptron.py:617: ConvergenceWarning: Stochastic Optimizer: Maximum iterations (400) reached and the optimization hasn't converged yet.\n",
      "  % self.max_iter, ConvergenceWarning)\n",
      "C:\\Users\\qjoao\\.conda\\envs\\DM_project\\lib\\site-packages\\sklearn\\neural_network\\_multilayer_perceptron.py:617: ConvergenceWarning: Stochastic Optimizer: Maximum iterations (400) reached and the optimization hasn't converged yet.\n",
      "  % self.max_iter, ConvergenceWarning)\n"
     ]
    },
    {
     "name": "stdout",
     "output_type": "stream",
     "text": [
      "0.0001   5   5    - done\n"
     ]
    },
    {
     "name": "stderr",
     "output_type": "stream",
     "text": [
      "C:\\Users\\qjoao\\.conda\\envs\\DM_project\\lib\\site-packages\\sklearn\\neural_network\\_multilayer_perceptron.py:617: ConvergenceWarning: Stochastic Optimizer: Maximum iterations (400) reached and the optimization hasn't converged yet.\n",
      "  % self.max_iter, ConvergenceWarning)\n",
      "C:\\Users\\qjoao\\.conda\\envs\\DM_project\\lib\\site-packages\\sklearn\\neural_network\\_multilayer_perceptron.py:617: ConvergenceWarning: Stochastic Optimizer: Maximum iterations (400) reached and the optimization hasn't converged yet.\n",
      "  % self.max_iter, ConvergenceWarning)\n"
     ]
    },
    {
     "name": "stdout",
     "output_type": "stream",
     "text": [
      "0.0001   5   6    - done\n"
     ]
    },
    {
     "name": "stderr",
     "output_type": "stream",
     "text": [
      "C:\\Users\\qjoao\\.conda\\envs\\DM_project\\lib\\site-packages\\sklearn\\neural_network\\_multilayer_perceptron.py:617: ConvergenceWarning: Stochastic Optimizer: Maximum iterations (400) reached and the optimization hasn't converged yet.\n",
      "  % self.max_iter, ConvergenceWarning)\n",
      "C:\\Users\\qjoao\\.conda\\envs\\DM_project\\lib\\site-packages\\sklearn\\neural_network\\_multilayer_perceptron.py:617: ConvergenceWarning: Stochastic Optimizer: Maximum iterations (400) reached and the optimization hasn't converged yet.\n",
      "  % self.max_iter, ConvergenceWarning)\n"
     ]
    },
    {
     "name": "stdout",
     "output_type": "stream",
     "text": [
      "0.0001   10   1    - done\n"
     ]
    },
    {
     "name": "stderr",
     "output_type": "stream",
     "text": [
      "C:\\Users\\qjoao\\.conda\\envs\\DM_project\\lib\\site-packages\\sklearn\\neural_network\\_multilayer_perceptron.py:617: ConvergenceWarning: Stochastic Optimizer: Maximum iterations (400) reached and the optimization hasn't converged yet.\n",
      "  % self.max_iter, ConvergenceWarning)\n",
      "C:\\Users\\qjoao\\.conda\\envs\\DM_project\\lib\\site-packages\\sklearn\\neural_network\\_multilayer_perceptron.py:617: ConvergenceWarning: Stochastic Optimizer: Maximum iterations (200) reached and the optimization hasn't converged yet.\n",
      "  % self.max_iter, ConvergenceWarning)\n",
      "C:\\Users\\qjoao\\.conda\\envs\\DM_project\\lib\\site-packages\\sklearn\\neural_network\\_multilayer_perceptron.py:617: ConvergenceWarning: Stochastic Optimizer: Maximum iterations (400) reached and the optimization hasn't converged yet.\n",
      "  % self.max_iter, ConvergenceWarning)\n"
     ]
    },
    {
     "name": "stdout",
     "output_type": "stream",
     "text": [
      "0.0001   10   2    - done\n"
     ]
    },
    {
     "name": "stderr",
     "output_type": "stream",
     "text": [
      "C:\\Users\\qjoao\\.conda\\envs\\DM_project\\lib\\site-packages\\sklearn\\neural_network\\_multilayer_perceptron.py:617: ConvergenceWarning: Stochastic Optimizer: Maximum iterations (400) reached and the optimization hasn't converged yet.\n",
      "  % self.max_iter, ConvergenceWarning)\n",
      "C:\\Users\\qjoao\\.conda\\envs\\DM_project\\lib\\site-packages\\sklearn\\neural_network\\_multilayer_perceptron.py:617: ConvergenceWarning: Stochastic Optimizer: Maximum iterations (400) reached and the optimization hasn't converged yet.\n",
      "  % self.max_iter, ConvergenceWarning)\n"
     ]
    },
    {
     "name": "stdout",
     "output_type": "stream",
     "text": [
      "0.0001   10   3    - done\n"
     ]
    },
    {
     "name": "stderr",
     "output_type": "stream",
     "text": [
      "C:\\Users\\qjoao\\.conda\\envs\\DM_project\\lib\\site-packages\\sklearn\\neural_network\\_multilayer_perceptron.py:617: ConvergenceWarning: Stochastic Optimizer: Maximum iterations (400) reached and the optimization hasn't converged yet.\n",
      "  % self.max_iter, ConvergenceWarning)\n",
      "C:\\Users\\qjoao\\.conda\\envs\\DM_project\\lib\\site-packages\\sklearn\\neural_network\\_multilayer_perceptron.py:617: ConvergenceWarning: Stochastic Optimizer: Maximum iterations (400) reached and the optimization hasn't converged yet.\n",
      "  % self.max_iter, ConvergenceWarning)\n"
     ]
    },
    {
     "name": "stdout",
     "output_type": "stream",
     "text": [
      "0.0001   10   4    - done\n"
     ]
    },
    {
     "name": "stderr",
     "output_type": "stream",
     "text": [
      "C:\\Users\\qjoao\\.conda\\envs\\DM_project\\lib\\site-packages\\sklearn\\neural_network\\_multilayer_perceptron.py:617: ConvergenceWarning: Stochastic Optimizer: Maximum iterations (400) reached and the optimization hasn't converged yet.\n",
      "  % self.max_iter, ConvergenceWarning)\n"
     ]
    },
    {
     "name": "stdout",
     "output_type": "stream",
     "text": [
      "0.0001   10   5    - done\n"
     ]
    },
    {
     "name": "stderr",
     "output_type": "stream",
     "text": [
      "C:\\Users\\qjoao\\.conda\\envs\\DM_project\\lib\\site-packages\\sklearn\\neural_network\\_multilayer_perceptron.py:617: ConvergenceWarning: Stochastic Optimizer: Maximum iterations (400) reached and the optimization hasn't converged yet.\n",
      "  % self.max_iter, ConvergenceWarning)\n",
      "C:\\Users\\qjoao\\.conda\\envs\\DM_project\\lib\\site-packages\\sklearn\\neural_network\\_multilayer_perceptron.py:617: ConvergenceWarning: Stochastic Optimizer: Maximum iterations (400) reached and the optimization hasn't converged yet.\n",
      "  % self.max_iter, ConvergenceWarning)\n"
     ]
    },
    {
     "name": "stdout",
     "output_type": "stream",
     "text": [
      "0.0001   10   6    - done\n"
     ]
    },
    {
     "name": "stderr",
     "output_type": "stream",
     "text": [
      "C:\\Users\\qjoao\\.conda\\envs\\DM_project\\lib\\site-packages\\sklearn\\neural_network\\_multilayer_perceptron.py:617: ConvergenceWarning: Stochastic Optimizer: Maximum iterations (400) reached and the optimization hasn't converged yet.\n",
      "  % self.max_iter, ConvergenceWarning)\n",
      "C:\\Users\\qjoao\\.conda\\envs\\DM_project\\lib\\site-packages\\sklearn\\neural_network\\_multilayer_perceptron.py:617: ConvergenceWarning: Stochastic Optimizer: Maximum iterations (200) reached and the optimization hasn't converged yet.\n",
      "  % self.max_iter, ConvergenceWarning)\n"
     ]
    },
    {
     "name": "stdout",
     "output_type": "stream",
     "text": [
      "0.0001   15   1    - done\n"
     ]
    },
    {
     "name": "stderr",
     "output_type": "stream",
     "text": [
      "C:\\Users\\qjoao\\.conda\\envs\\DM_project\\lib\\site-packages\\sklearn\\neural_network\\_multilayer_perceptron.py:617: ConvergenceWarning: Stochastic Optimizer: Maximum iterations (400) reached and the optimization hasn't converged yet.\n",
      "  % self.max_iter, ConvergenceWarning)\n",
      "C:\\Users\\qjoao\\.conda\\envs\\DM_project\\lib\\site-packages\\sklearn\\neural_network\\_multilayer_perceptron.py:617: ConvergenceWarning: Stochastic Optimizer: Maximum iterations (200) reached and the optimization hasn't converged yet.\n",
      "  % self.max_iter, ConvergenceWarning)\n",
      "C:\\Users\\qjoao\\.conda\\envs\\DM_project\\lib\\site-packages\\sklearn\\neural_network\\_multilayer_perceptron.py:617: ConvergenceWarning: Stochastic Optimizer: Maximum iterations (400) reached and the optimization hasn't converged yet.\n",
      "  % self.max_iter, ConvergenceWarning)\n"
     ]
    },
    {
     "name": "stdout",
     "output_type": "stream",
     "text": [
      "0.0001   15   2    - done\n"
     ]
    },
    {
     "name": "stderr",
     "output_type": "stream",
     "text": [
      "C:\\Users\\qjoao\\.conda\\envs\\DM_project\\lib\\site-packages\\sklearn\\neural_network\\_multilayer_perceptron.py:617: ConvergenceWarning: Stochastic Optimizer: Maximum iterations (400) reached and the optimization hasn't converged yet.\n",
      "  % self.max_iter, ConvergenceWarning)\n",
      "C:\\Users\\qjoao\\.conda\\envs\\DM_project\\lib\\site-packages\\sklearn\\neural_network\\_multilayer_perceptron.py:617: ConvergenceWarning: Stochastic Optimizer: Maximum iterations (200) reached and the optimization hasn't converged yet.\n",
      "  % self.max_iter, ConvergenceWarning)\n",
      "C:\\Users\\qjoao\\.conda\\envs\\DM_project\\lib\\site-packages\\sklearn\\neural_network\\_multilayer_perceptron.py:617: ConvergenceWarning: Stochastic Optimizer: Maximum iterations (400) reached and the optimization hasn't converged yet.\n",
      "  % self.max_iter, ConvergenceWarning)\n"
     ]
    },
    {
     "name": "stdout",
     "output_type": "stream",
     "text": [
      "0.0001   15   3    - done\n"
     ]
    },
    {
     "name": "stderr",
     "output_type": "stream",
     "text": [
      "C:\\Users\\qjoao\\.conda\\envs\\DM_project\\lib\\site-packages\\sklearn\\neural_network\\_multilayer_perceptron.py:617: ConvergenceWarning: Stochastic Optimizer: Maximum iterations (400) reached and the optimization hasn't converged yet.\n",
      "  % self.max_iter, ConvergenceWarning)\n",
      "C:\\Users\\qjoao\\.conda\\envs\\DM_project\\lib\\site-packages\\sklearn\\neural_network\\_multilayer_perceptron.py:617: ConvergenceWarning: Stochastic Optimizer: Maximum iterations (400) reached and the optimization hasn't converged yet.\n",
      "  % self.max_iter, ConvergenceWarning)\n"
     ]
    },
    {
     "name": "stdout",
     "output_type": "stream",
     "text": [
      "0.0001   15   4    - done\n"
     ]
    },
    {
     "name": "stderr",
     "output_type": "stream",
     "text": [
      "C:\\Users\\qjoao\\.conda\\envs\\DM_project\\lib\\site-packages\\sklearn\\neural_network\\_multilayer_perceptron.py:617: ConvergenceWarning: Stochastic Optimizer: Maximum iterations (400) reached and the optimization hasn't converged yet.\n",
      "  % self.max_iter, ConvergenceWarning)\n",
      "C:\\Users\\qjoao\\.conda\\envs\\DM_project\\lib\\site-packages\\sklearn\\neural_network\\_multilayer_perceptron.py:617: ConvergenceWarning: Stochastic Optimizer: Maximum iterations (400) reached and the optimization hasn't converged yet.\n",
      "  % self.max_iter, ConvergenceWarning)\n"
     ]
    },
    {
     "name": "stdout",
     "output_type": "stream",
     "text": [
      "0.0001   15   5    - done\n"
     ]
    },
    {
     "name": "stderr",
     "output_type": "stream",
     "text": [
      "C:\\Users\\qjoao\\.conda\\envs\\DM_project\\lib\\site-packages\\sklearn\\neural_network\\_multilayer_perceptron.py:617: ConvergenceWarning: Stochastic Optimizer: Maximum iterations (400) reached and the optimization hasn't converged yet.\n",
      "  % self.max_iter, ConvergenceWarning)\n",
      "C:\\Users\\qjoao\\.conda\\envs\\DM_project\\lib\\site-packages\\sklearn\\neural_network\\_multilayer_perceptron.py:617: ConvergenceWarning: Stochastic Optimizer: Maximum iterations (400) reached and the optimization hasn't converged yet.\n",
      "  % self.max_iter, ConvergenceWarning)\n"
     ]
    },
    {
     "name": "stdout",
     "output_type": "stream",
     "text": [
      "0.0001   15   6    - done\n"
     ]
    },
    {
     "name": "stderr",
     "output_type": "stream",
     "text": [
      "C:\\Users\\qjoao\\.conda\\envs\\DM_project\\lib\\site-packages\\sklearn\\neural_network\\_multilayer_perceptron.py:617: ConvergenceWarning: Stochastic Optimizer: Maximum iterations (400) reached and the optimization hasn't converged yet.\n",
      "  % self.max_iter, ConvergenceWarning)\n",
      "C:\\Users\\qjoao\\.conda\\envs\\DM_project\\lib\\site-packages\\sklearn\\neural_network\\_multilayer_perceptron.py:617: ConvergenceWarning: Stochastic Optimizer: Maximum iterations (200) reached and the optimization hasn't converged yet.\n",
      "  % self.max_iter, ConvergenceWarning)\n"
     ]
    },
    {
     "name": "stdout",
     "output_type": "stream",
     "text": [
      "0.0001   20   1    - done\n"
     ]
    },
    {
     "name": "stderr",
     "output_type": "stream",
     "text": [
      "C:\\Users\\qjoao\\.conda\\envs\\DM_project\\lib\\site-packages\\sklearn\\neural_network\\_multilayer_perceptron.py:617: ConvergenceWarning: Stochastic Optimizer: Maximum iterations (400) reached and the optimization hasn't converged yet.\n",
      "  % self.max_iter, ConvergenceWarning)\n",
      "C:\\Users\\qjoao\\.conda\\envs\\DM_project\\lib\\site-packages\\sklearn\\neural_network\\_multilayer_perceptron.py:617: ConvergenceWarning: Stochastic Optimizer: Maximum iterations (200) reached and the optimization hasn't converged yet.\n",
      "  % self.max_iter, ConvergenceWarning)\n",
      "C:\\Users\\qjoao\\.conda\\envs\\DM_project\\lib\\site-packages\\sklearn\\neural_network\\_multilayer_perceptron.py:617: ConvergenceWarning: Stochastic Optimizer: Maximum iterations (400) reached and the optimization hasn't converged yet.\n",
      "  % self.max_iter, ConvergenceWarning)\n"
     ]
    },
    {
     "name": "stdout",
     "output_type": "stream",
     "text": [
      "0.0001   20   2    - done\n"
     ]
    },
    {
     "name": "stderr",
     "output_type": "stream",
     "text": [
      "C:\\Users\\qjoao\\.conda\\envs\\DM_project\\lib\\site-packages\\sklearn\\neural_network\\_multilayer_perceptron.py:617: ConvergenceWarning: Stochastic Optimizer: Maximum iterations (400) reached and the optimization hasn't converged yet.\n",
      "  % self.max_iter, ConvergenceWarning)\n",
      "C:\\Users\\qjoao\\.conda\\envs\\DM_project\\lib\\site-packages\\sklearn\\neural_network\\_multilayer_perceptron.py:617: ConvergenceWarning: Stochastic Optimizer: Maximum iterations (400) reached and the optimization hasn't converged yet.\n",
      "  % self.max_iter, ConvergenceWarning)\n"
     ]
    },
    {
     "name": "stdout",
     "output_type": "stream",
     "text": [
      "0.0001   20   3    - done\n"
     ]
    },
    {
     "name": "stderr",
     "output_type": "stream",
     "text": [
      "C:\\Users\\qjoao\\.conda\\envs\\DM_project\\lib\\site-packages\\sklearn\\neural_network\\_multilayer_perceptron.py:617: ConvergenceWarning: Stochastic Optimizer: Maximum iterations (400) reached and the optimization hasn't converged yet.\n",
      "  % self.max_iter, ConvergenceWarning)\n",
      "C:\\Users\\qjoao\\.conda\\envs\\DM_project\\lib\\site-packages\\sklearn\\neural_network\\_multilayer_perceptron.py:617: ConvergenceWarning: Stochastic Optimizer: Maximum iterations (400) reached and the optimization hasn't converged yet.\n",
      "  % self.max_iter, ConvergenceWarning)\n"
     ]
    },
    {
     "name": "stdout",
     "output_type": "stream",
     "text": [
      "0.0001   20   4    - done\n"
     ]
    },
    {
     "name": "stderr",
     "output_type": "stream",
     "text": [
      "C:\\Users\\qjoao\\.conda\\envs\\DM_project\\lib\\site-packages\\sklearn\\neural_network\\_multilayer_perceptron.py:617: ConvergenceWarning: Stochastic Optimizer: Maximum iterations (400) reached and the optimization hasn't converged yet.\n",
      "  % self.max_iter, ConvergenceWarning)\n",
      "C:\\Users\\qjoao\\.conda\\envs\\DM_project\\lib\\site-packages\\sklearn\\neural_network\\_multilayer_perceptron.py:617: ConvergenceWarning: Stochastic Optimizer: Maximum iterations (400) reached and the optimization hasn't converged yet.\n",
      "  % self.max_iter, ConvergenceWarning)\n"
     ]
    },
    {
     "name": "stdout",
     "output_type": "stream",
     "text": [
      "0.0001   20   5    - done\n"
     ]
    },
    {
     "name": "stderr",
     "output_type": "stream",
     "text": [
      "C:\\Users\\qjoao\\.conda\\envs\\DM_project\\lib\\site-packages\\sklearn\\neural_network\\_multilayer_perceptron.py:617: ConvergenceWarning: Stochastic Optimizer: Maximum iterations (400) reached and the optimization hasn't converged yet.\n",
      "  % self.max_iter, ConvergenceWarning)\n",
      "C:\\Users\\qjoao\\.conda\\envs\\DM_project\\lib\\site-packages\\sklearn\\neural_network\\_multilayer_perceptron.py:617: ConvergenceWarning: Stochastic Optimizer: Maximum iterations (400) reached and the optimization hasn't converged yet.\n",
      "  % self.max_iter, ConvergenceWarning)\n"
     ]
    },
    {
     "name": "stdout",
     "output_type": "stream",
     "text": [
      "0.0001   20   6    - done\n",
      "\n",
      "[0.26404827656252755, 20, 6, 0.001]\n",
      "[45.78915480157528, 15, 4, 0.001]\n",
      "[2.9858224688390417e-06, 1, 5, 0.001]\n",
      "[35.03483792790064, 20, 5, 0.001]\n"
     ]
    }
   ],
   "source": [
    "lr_ = [0.1, 0.01, 0.001, 0.0001]\n",
    "couches_ = [1, 5, 10, 15, 20]\n",
    "neurones_ = [1, 2, 3, 4, 5, 6]\n",
    "best_0 = [100,0,0,0]\n",
    "best_1 = [100,0,0,0]\n",
    "best_2 = [100,0,0,0]\n",
    "best_3 = [100,0,0,0]\n",
    "\n",
    "for lr in lr_:\n",
    "    for couche in couches_:\n",
    "        for neurone in neurones_:\n",
    "            \n",
    "            model_regression_0 = MLPRegressor(hidden_layer_sizes=(couche,neurone), learning_rate_init=lr)\n",
    "            model_regression_0.fit(X_hot, y_train[:,0])\n",
    "            y_pred_0 = model_regression_0.predict(X_hot_test)\n",
    "            \n",
    "            model_regression_1 = MLPClassifier(max_iter=400, hidden_layer_sizes=(couche,neurone), learning_rate_init=lr)\n",
    "            model_regression_1.fit(X_hot_integer, y_train[:,1])\n",
    "            y_pred_1 = model_regression_1.predict(X_hot_test_integer)\n",
    "            \n",
    "            model_regression_2 = MLPRegressor(hidden_layer_sizes=(couche,neurone), learning_rate_init=lr)\n",
    "            model_regression_2.fit(X_hot, y_train[:,2])\n",
    "            y_pred_2 = model_regression_2.predict(X_hot_test)\n",
    "\n",
    "            model_regression_3 = MLPClassifier(max_iter=400, hidden_layer_sizes=(couche,neurone), learning_rate_init=lr)\n",
    "            model_regression_3.fit(X_hot_integer, y_train[:,3])\n",
    "            y_pred_3 = model_regression_3.predict(X_hot_test_integer)\n",
    "            \n",
    "            # calcul res\n",
    "            sum_0 = 0\n",
    "            sum_1 = 0\n",
    "            sum_2 = 0\n",
    "            sum_3 = 0\n",
    "            for i in range(y_test_0.shape[0]):\n",
    "                \n",
    "                # 0\n",
    "                sum_0 = sum_0 + np.abs(np.abs(y_pred_0[i]) - np.abs(y_test_0[i]))\n",
    "                \n",
    "                # 1\n",
    "                if(y_pred_1[i] == y_test_1[i]):\n",
    "                    sum_1 = sum_1 + 1\n",
    "                    \n",
    "                # 2\n",
    "                sum_2 = sum_2 + np.abs(np.abs(y_pred_2[i]) - np.abs(y_test_2[i]))\n",
    "                \n",
    "                # 3\n",
    "                if(y_pred_3[i] == y_test_3[i]):\n",
    "                    sum_3 = sum_3 + 1\n",
    "                 \n",
    "            sum_0 = sum_0 / y_test_0.shape[0]\n",
    "            sum_1_r = 100 - (sum_1 / y_test_1.shape[0] * 100)\n",
    "            sum_2 = sum_2 / y_test_2.shape[0]\n",
    "            sum_3_r = 100 - (sum_3 / y_test_3.shape[0] * 100)\n",
    "            \n",
    "            # change res if needed\n",
    "            if sum_0 < best_0[0]:\n",
    "                best_0 = [sum_0, couche, neurone, lr]\n",
    "                \n",
    "            if sum_1_r < best_1[0]:\n",
    "                best_1 = [sum_1_r, couche, neurone, lr]\n",
    "                \n",
    "            if sum_2 < best_2[0]:\n",
    "                best_2 = [sum_2, couche, neurone, lr]\n",
    "                \n",
    "            if sum_3_r < best_3[0]:\n",
    "                best_3 = [sum_3_r, couche, neurone, lr]\n",
    "            \n",
    "            print(lr, \" \", couche, \" \",neurone, \"   - done\")\n",
    "            \n",
    "print()                \n",
    "print(best_0)\n",
    "print(best_1)\n",
    "print(best_2)\n",
    "print(best_3)"
   ]
  },
  {
   "cell_type": "code",
   "execution_count": null,
   "id": "06078edd",
   "metadata": {},
   "outputs": [],
   "source": [
    "best_0 = [100,0,0,0]\n",
    "best_1 = [100,0,0,0]\n",
    "best_2 = [100,0,0,0]\n",
    "best_3 = [100,0,0,0]\n",
    "\n",
    "model_regression_0 = MLPRegressor(hidden_layer_sizes=(20,6), learning_rate_init=0.001)\n",
    "model_regression_0.fit(X_hot, y_train[:,0])\n",
    "y_pred_0 = model_regression_0.predict(X_hot_test)\n",
    "\n",
    "model_regression_1 = MLPClassifier(max_iter=400, hidden_layer_sizes=(15,4), learning_rate_init=0.001)\n",
    "model_regression_1.fit(X_hot_integer, y_train[:,1])\n",
    "y_pred_1 = model_regression_1.predict(X_hot_test_integer)\n",
    "\n",
    "model_regression_2 = MLPRegressor(hidden_layer_sizes=(1,5), learning_rate_init=0.001)\n",
    "model_regression_2.fit(X_hot, y_train[:,2])\n",
    "y_pred_2 = model_regression_2.predict(X_hot_test)\n",
    "\n",
    "model_regression_3 = MLPClassifier(max_iter=400, hidden_layer_sizes=(20,5), learning_rate_init=0.001)\n",
    "model_regression_3.fit(X_hot_integer, y_train[:,3])\n",
    "y_pred_3 = model_regression_3.predict(X_hot_test_integer)\n",
    "\n",
    "# calcul res\n",
    "sum_0 = 0\n",
    "sum_1 = 0\n",
    "sum_2 = 0\n",
    "sum_3 = 0\n",
    "for i in range(y_test_0.shape[0]):\n",
    "\n",
    "    # 0\n",
    "    sum_0 = sum_0 + np.abs(np.abs(y_pred_0[i]) - np.abs(y_test_0[i]))\n",
    "\n",
    "    # 1\n",
    "    if(y_pred_1[i] == y_test_1[i]):\n",
    "        sum_1 = sum_1 + 1\n",
    "\n",
    "    # 2\n",
    "    sum_2 = sum_2 + np.abs(np.abs(y_pred_2[i]) - np.abs(y_test_2[i]))\n",
    "\n",
    "    # 3\n",
    "    if(y_pred_3[i] == y_test_3[i]):\n",
    "        sum_3 = sum_3 + 1\n",
    "        \n",
    "if sum_0 < best_0[0]:\n",
    "    best_0 = [sum_0, 20, 6, 0.001]\n",
    "\n",
    "if sum_1_r < best_1[0]:\n",
    "    best_1 = [sum_1_r, 15, 4, 0.001]\n",
    "\n",
    "if sum_2 < best_2[0]:\n",
    "    best_2 = [sum_2, 1, 5, 0.001]\n",
    "\n",
    "if sum_3_r < best_3[0]:\n",
    "    best_3 = [sum_3_r, 20, 5, 0.001]"
   ]
  },
  {
   "cell_type": "code",
   "execution_count": 17,
   "id": "9b118039",
   "metadata": {},
   "outputs": [
    {
     "name": "stdout",
     "output_type": "stream",
     "text": [
      "38.637281631828735\n",
      "5.462991012824389\n"
     ]
    }
   ],
   "source": [
    "model_regression_1 = MLPClassifier(max_iter=2000, hidden_layer_sizes=(200,15), learning_rate_init=0.001, alpha=1e-5)\n",
    "model_regression_1.fit(X_hot_integer, y_train[:,1])\n",
    "y_pred_1 = model_regression_1.predict(X_hot_test_integer)\n",
    "\n",
    "model_regression_3 = MLPClassifier(max_iter=2000, hidden_layer_sizes=(200,15), learning_rate_init=0.001, alpha=1e-5)\n",
    "model_regression_3.fit(X_hot, y_train[:,3])\n",
    "y_pred_3 = model_regression_3.predict(X_hot_test)\n",
    "\n",
    "# calcul res\n",
    "sum_1 = 0\n",
    "sum_3 = 0\n",
    "for i in range(y_test_0.shape[0]):\n",
    "\n",
    "    # 1\n",
    "    if(y_pred_1[i] == y_test_1[i]):\n",
    "        sum_1 = sum_1 + 1\n",
    "\n",
    "    # 3\n",
    "    if(y_pred_3[i] == y_test_3[i]):\n",
    "        sum_3 = sum_3 + 1\n",
    "\n",
    "sum_1_r = 100 - (sum_1 / y_test_1.shape[0] * 100)\n",
    "sum_3_r = 100 - (sum_3 / y_test_3.shape[0] * 100)\n",
    "\n",
    "if sum_1_r < best_1[0]:\n",
    "    best_1 = [sum_1_r, 200, 15, 0.001]\n",
    "if sum_3_r < best_3[0]:\n",
    "    best_3 = [sum_3_r, 200, 15, 0.001]\n",
    "print(sum_1_r)\n",
    "print(sum_3_r)"
   ]
  },
  {
   "cell_type": "code",
   "execution_count": 18,
   "id": "25e4c1cc",
   "metadata": {},
   "outputs": [
    {
     "name": "stdout",
     "output_type": "stream",
     "text": [
      "0.26348173629438465\n"
     ]
    }
   ],
   "source": [
    "model_regression_0 = MLPRegressor(max_iter=2000, hidden_layer_sizes=(200,20), learning_rate_init=0.001)\n",
    "model_regression_0.fit(X_hot, y_train[:,0])\n",
    "y_pred_0 = model_regression_0.predict(X_hot_test)\n",
    "\n",
    "for i in range(y_test_0.shape[0]):\n",
    "    sum_0 = sum_0 + np.abs(np.abs(y_pred_0[i]) - np.abs(y_test_0[i]))\n",
    "sum_0 = sum_0 / y_test_0.shape[0]\n",
    "\n",
    "if sum_0 < best_0[0]:\n",
    "    best_0 = [sum_0, 200, 20, 0.001]\n",
    "print(sum_0)"
   ]
  },
  {
   "cell_type": "code",
   "execution_count": 19,
   "id": "2fd513ae",
   "metadata": {},
   "outputs": [
    {
     "name": "stdout",
     "output_type": "stream",
     "text": [
      "dict_errors_0_2 {'lienar_regression': [0.34613815200664955, 0.016720012631161744]}\n",
      "dict_errors_1_3 {'GradBoostRegressor': [64.05887104917701, 6.879228516611121], 'SVR': [57.472483085933554, 7.290719983843275], 'lienar_regression': [56.68231848934666, 5.364535999192171]}\n",
      "dict_errors, after changes :  {'lienar_regression': [0.34613815200664955, 0.016720012631161744], 'neural_network': [0.26404827656252755, 2.9858224688390417e-06]}\n",
      "dict_errors, after changes :  {'GradBoostRegressor': [64.05887104917701, 6.879228516611121], 'SVR': [57.472483085933554, 7.290719983843275], 'lienar_regression': [56.68231848934666, 5.364535999192171], 'neural_network': [45.78915480157528, 35.03483792790064]}\n"
     ]
    }
   ],
   "source": [
    "import json #ne jamais faire ça avec les import \n",
    "\n",
    "def load_dict_errors(path=\"all_errors.json\"):\n",
    "    with open(path, \"r\") as f:\n",
    "        dict_errors = json.load(f)\n",
    "        \n",
    "    return dict_errors\n",
    "\n",
    "dict_errors_0_2 = load_dict_errors(path=\"all_errors_0_2.json\")\n",
    "dict_errors_1_3 = load_dict_errors(path=\"all_errors_1_3.json\")\n",
    "print(\"dict_errors_0_2\", dict_errors_0_2)\n",
    "print(\"dict_errors_1_3\", dict_errors_1_3)\n",
    "\n",
    "\n",
    "def save_dict_errors(dict_errors, path=\"all_errors.json\"):\n",
    "    with open(path, \"w\") as f:\n",
    "        json.dump(dict_errors, f)\n",
    "\n",
    "dict_errors_0_2['neural_network'] = [best_0[0], best_2[0]]\n",
    "dict_errors_1_3['neural_network'] = [best_1[0], best_3[0]]\n",
    "\n",
    "print(\"dict_errors, after changes : \",dict_errors_0_2)\n",
    "print(\"dict_errors, after changes : \",dict_errors_1_3)\n",
    "\n",
    "save_dict_errors(dict_errors_0_2, path=\"all_errors_0_2.json\")\n",
    "save_dict_errors(dict_errors_1_3, path=\"all_errors_1_3.json\")"
   ]
  },
  {
   "cell_type": "code",
   "execution_count": null,
   "id": "97707088",
   "metadata": {},
   "outputs": [],
   "source": []
  }
 ],
 "metadata": {
  "kernelspec": {
   "display_name": "Python 3",
   "language": "python",
   "name": "python3"
  },
  "language_info": {
   "codemirror_mode": {
    "name": "ipython",
    "version": 3
   },
   "file_extension": ".py",
   "mimetype": "text/x-python",
   "name": "python",
   "nbconvert_exporter": "python",
   "pygments_lexer": "ipython3",
   "version": "3.7.10"
  }
 },
 "nbformat": 4,
 "nbformat_minor": 5
}
