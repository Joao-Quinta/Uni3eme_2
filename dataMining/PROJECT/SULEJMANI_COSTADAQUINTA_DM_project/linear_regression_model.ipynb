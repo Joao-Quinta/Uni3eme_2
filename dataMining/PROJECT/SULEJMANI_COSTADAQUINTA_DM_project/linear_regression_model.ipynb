{
 "cells": [
  {
   "cell_type": "code",
   "execution_count": 1,
   "id": "8e8953a7",
   "metadata": {},
   "outputs": [],
   "source": [
    "from utils import get_smiles_encodings, load_data, smile_to_hot\n",
    "from sklearn.linear_model import SGDRegressor\n",
    "from sklearn.linear_model import RidgeClassifier\n",
    "from datetime import datetime\n",
    "import numpy as np"
   ]
  },
  {
   "cell_type": "code",
   "execution_count": 2,
   "id": "9da6ac47",
   "metadata": {
    "scrolled": true
   },
   "outputs": [
    {
     "name": "stdout",
     "output_type": "stream",
     "text": [
      "X - train :  (92428,)\n",
      "y - train :  (92428, 4)\n",
      "X_hot :  (92428, 14)\n",
      "X_hot_test :  (39612, 14)\n",
      "X_hot_integer :  (92428, 22)\n",
      "X_hot_integer_test :  (39612, 22)\n"
     ]
    }
   ],
   "source": [
    "file_smiles = './dataset/QM9.txt'\n",
    "file_properties = './dataset/properties_QM9.npz'\n",
    "smiles, alphabet, largest_molecule_len = get_smiles_encodings(file_smiles)\n",
    "properties = np.load(file_properties)['properties'].astype(np.float32)\n",
    "properties_txt = ['logP: represents a measure of the tendency of a compound to move from the aqueous phase into lipids',\n",
    "                  'Number of rotatable bonds (RBN): the number of bonds which allow free rotation around themselves',\n",
    "                  'Molecular weight (MW): the weight of a molecule based on the atomic masses of all atoms in the molecule',\n",
    "                  'Number of the rings (RN): the number of connected sets of atoms and bonds in which every atom and bond is a member of a cycle']\n",
    "\n",
    "X_train, X_test, y_train, y_test = load_data(smiles, properties)\n",
    "print(\"X - train : \", X_train.shape)\n",
    "print(\"y - train : \", y_train.shape)\n",
    "X_hot = np.array([smile_to_hot(x, largest_molecule_len, alphabet)[1].sum(axis=0) for x in X_train])\n",
    "X_hot_test = np.array([smile_to_hot(x, largest_molecule_len, alphabet)[1].sum(axis=0) for x in X_test])\n",
    "print(\"X_hot : \", X_hot.shape)\n",
    "print(\"X_hot_test : \", X_hot_test.shape)\n",
    "X_hot_integer = np.array([smile_to_hot(x, largest_molecule_len, alphabet)[0] for x in X_train])\n",
    "X_hot_test_integer = np.array([smile_to_hot(x, largest_molecule_len, alphabet)[0] for x in X_test])\n",
    "print(\"X_hot_integer : \", X_hot_integer.shape)\n",
    "print(\"X_hot_integer_test : \", X_hot_test_integer.shape)"
   ]
  },
  {
   "cell_type": "code",
   "execution_count": 3,
   "id": "7ff2bfd5",
   "metadata": {
    "scrolled": true
   },
   "outputs": [],
   "source": [
    "y_test_0 = y_test[:,0]\n",
    "y_test_1 = y_test[:,1]\n",
    "y_test_2 = y_test[:,2]\n",
    "y_test_3 = y_test[:,3]    "
   ]
  },
  {
   "cell_type": "code",
   "execution_count": 17,
   "id": "789799a5",
   "metadata": {},
   "outputs": [
    {
     "name": "stdout",
     "output_type": "stream",
     "text": [
      "100   constant    - done\n",
      "100   optimal    - done\n",
      "100   invscaling    - done\n",
      "100   adaptive    - done\n",
      "500   constant    - done\n",
      "500   optimal    - done\n",
      "500   invscaling    - done\n",
      "500   adaptive    - done\n",
      "1000   constant    - done\n",
      "1000   optimal    - done\n",
      "1000   invscaling    - done\n",
      "1000   adaptive    - done\n",
      "2000   constant    - done\n",
      "2000   optimal    - done\n",
      "2000   invscaling    - done\n",
      "2000   adaptive    - done\n",
      "5000   constant    - done\n",
      "5000   optimal    - done\n",
      "5000   invscaling    - done\n",
      "5000   adaptive    - done\n",
      "\n",
      "[0.3430473929364795, 500, 'invscaling']\n",
      "[56.67474502675957, 500, 'invscaling']\n",
      "[0.013206376984375394, 2000, 'constant']\n",
      "[5.3948298495405425, 100, 'invscaling']\n"
     ]
    }
   ],
   "source": [
    "max_iter_ = [100, 500, 1000, 2000, 5000]\n",
    "learning_rate_ = ['constant', 'optimal', 'invscaling', 'adaptive']\n",
    "best_0 = [100,0,0]\n",
    "best_1 = [100,0,0]\n",
    "best_2 = [100,0,0]\n",
    "best_3 = [100,0,0]\n",
    "\n",
    "for max_iterR in max_iter_:\n",
    "    for lr in learning_rate_:\n",
    "        # 0 \n",
    "        model_regression_0 = SGDRegressor(max_iter = max_iterR, learning_rate = lr)\n",
    "        model_regression_0.fit(X_hot, y_train[:,0])\n",
    "        y_pred_0 = model_regression_0.predict(X_hot_test)\n",
    "        \n",
    "        # 1\n",
    "        model_regression_1 = SGDRegressor(max_iter = max_iterR, learning_rate = lr)\n",
    "        model_regression_1.fit(X_hot, y_train[:,1])\n",
    "        y_pred_1 = model_regression_1.predict(X_hot_test)\n",
    "        y_pred_1 = np.round(y_pred_1)\n",
    "\n",
    "        # 2 \n",
    "        model_regression_2 = SGDRegressor(max_iter = max_iterR, learning_rate = lr)\n",
    "        model_regression_2.fit(X_hot, y_train[:,2])\n",
    "        y_pred_2 = model_regression_2.predict(X_hot_test)\n",
    "        \n",
    "        # 3 \n",
    "        model_regression_3 = SGDRegressor(max_iter = max_iterR, learning_rate = lr)\n",
    "        model_regression_3.fit(X_hot, y_train[:,3])\n",
    "        y_pred_3 = model_regression_3.predict(X_hot_test)\n",
    "        y_pred_3 = np.round(y_pred_3)\n",
    "        \n",
    "        # calcul res\n",
    "        sum_0 = 0\n",
    "        sum_1 = 0\n",
    "        sum_2 = 0\n",
    "        sum_3 = 0\n",
    "        for i in range(y_test_0.shape[0]):\n",
    "\n",
    "            # 0\n",
    "            sum_0 = sum_0 + np.abs(np.abs(y_pred_0[i]) - np.abs(y_test_0[i]))\n",
    "\n",
    "            # 1\n",
    "            if(y_pred_1[i] == y_test_1[i]):\n",
    "                sum_1 = sum_1 + 1\n",
    "\n",
    "            # 2\n",
    "            sum_2 = sum_2 + np.abs(np.abs(y_pred_2[i]) - np.abs(y_test_2[i]))\n",
    "\n",
    "            # 3\n",
    "            if(y_pred_3[i] == y_test_3[i]):\n",
    "                sum_3 = sum_3 + 1\n",
    "\n",
    "        sum_0 = sum_0 / y_test_0.shape[0]\n",
    "        sum_1_r = 100 - (sum_1 / y_test_1.shape[0] * 100)\n",
    "        sum_2 = sum_2 / y_test_2.shape[0]\n",
    "        sum_3_r = 100 - (sum_3 / y_test_3.shape[0] * 100)\n",
    "        \n",
    "        \n",
    "        # change res if needed\n",
    "        if sum_0 < best_0[0]:\n",
    "            best_0 = [sum_0, max_iterR, lr]\n",
    "\n",
    "        if sum_1_r < best_1[0]:\n",
    "            best_1 = [sum_1_r, max_iterR, lr]\n",
    "            \n",
    "        if sum_2 < best_2[0]:\n",
    "            best_2 = [sum_2, max_iterR, lr]\n",
    "\n",
    "        if sum_3_r < best_3[0]:\n",
    "            best_3 = [sum_3_r, max_iterR, lr]\n",
    "\n",
    "        print(max_iterR, \" \", lr, \"   - done\")\n",
    "        \n",
    "print()                \n",
    "print(best_0)\n",
    "print(best_1)\n",
    "print(best_2)\n",
    "print(best_3)\n",
    "        "
   ]
  },
  {
   "cell_type": "code",
   "execution_count": 5,
   "id": "52705cfe",
   "metadata": {},
   "outputs": [
    {
     "name": "stdout",
     "output_type": "stream",
     "text": [
      "logP: represents a measure of the tendency of a compound to move from the aqueous phase into lipids\n",
      "\n",
      "model -> max_iter :  2000  - learning rate :  invscaling\n",
      "\n",
      "Error is on avearage :  0.34321702049967723\n",
      "Let's say the target value is : 1.0, then the model would guess a value in the following interval :\n",
      " -> [ 0.6567829795003228 , 1.3432170204996772 ]\n"
     ]
    }
   ],
   "source": [
    "print(properties_txt[0])\n",
    "print()\n",
    "print(\"model -> max_iter : \", best_0[1], \" - learning rate : \", best_0[2])\n",
    "print()\n",
    "print(\"Error is on avearage : \", best_0[0])\n",
    "print(\"Let's say the target value is : 1.0, then the model would guess a value in the following interval :\")\n",
    "print(\" -> [\", 1.0 - best_0[0],\",\",1.0 + best_0[0],\"]\")"
   ]
  },
  {
   "cell_type": "code",
   "execution_count": 6,
   "id": "c77d60ee",
   "metadata": {},
   "outputs": [
    {
     "name": "stdout",
     "output_type": "stream",
     "text": [
      "Number of rotatable bonds (RBN): the number of bonds which allow free rotation around themselves\n",
      "\n",
      "model -> max_iter :  2000  - learning rate :  invscaling\n",
      "\n",
      "Error rate is :  56.280924972230636 %\n"
     ]
    }
   ],
   "source": [
    "print(properties_txt[1])\n",
    "print()\n",
    "print(\"model -> max_iter : \", best_1[1], \" - learning rate : \", best_1[2])\n",
    "print()\n",
    "print(\"Error rate is : \", best_1[0], \"%\")"
   ]
  },
  {
   "cell_type": "code",
   "execution_count": 18,
   "id": "4139c75e",
   "metadata": {},
   "outputs": [
    {
     "name": "stdout",
     "output_type": "stream",
     "text": [
      "Molecular weight (MW): the weight of a molecule based on the atomic masses of all atoms in the molecule\n",
      "\n",
      "model -> max_iter :  2000  - learning rate :  constant\n",
      "\n",
      "Error is on avearage :  0.013206376984375394\n",
      "Let's say the target value is : 150, then the model would guess a value in the following interval :\n",
      " -> [ 149.98679362301561 , 150.01320637698439 ]\n"
     ]
    }
   ],
   "source": [
    "print(properties_txt[2])\n",
    "print()\n",
    "print(\"model -> max_iter : \", best_2[1], \" - learning rate : \", best_2[2])\n",
    "print()\n",
    "print(\"Error is on avearage : \", best_2[0])\n",
    "print(\"Let's say the target value is : 150, then the model would guess a value in the following interval :\")\n",
    "print(\" -> [\", 150.0 - best_2[0],\",\",150.0 + best_2[0],\"]\")"
   ]
  },
  {
   "cell_type": "code",
   "execution_count": 8,
   "id": "594d30dc",
   "metadata": {},
   "outputs": [
    {
     "name": "stdout",
     "output_type": "stream",
     "text": [
      "Number of the rings (RN): the number of connected sets of atoms and bonds in which every atom and bond is a member of a cycle\n",
      "\n",
      "model -> max_iter :  500  - learning rate :  invscaling\n",
      "\n",
      "Error rate is :  5.710390790669493 %\n"
     ]
    }
   ],
   "source": [
    "print(properties_txt[3])\n",
    "print()\n",
    "print(\"model -> max_iter : \", best_3[1], \" - learning rate : \", best_3[2])\n",
    "print()\n",
    "print(\"Error rate is : \", best_3[0], \"%\")"
   ]
  },
  {
   "cell_type": "code",
   "execution_count": 9,
   "id": "a0173619",
   "metadata": {},
   "outputs": [
    {
     "name": "stdout",
     "output_type": "stream",
     "text": [
      "dict_errors_0_2 {'lienar_regression': [0.34613815200664955, 0.016720012631161744], 'neural_network': [0.26404827656252755, 2.9858224688390417e-06]}\n",
      "dict_errors_1_3 {'GradBoostRegressor': [64.05887104917701, 6.879228516611121], 'SVR': [57.472483085933554, 7.290719983843275], 'lienar_regression': [56.68231848934666, 5.364535999192171], 'neural_network': [45.78915480157528, 35.03483792790064], 'neer_neighboor': [54.907603756437446, 7.081187518933646]}\n",
      "dict_errors, after changes :  {'lienar_regression': [0.34321702049967723, 0.017421293770233204], 'neural_network': [0.26404827656252755, 2.9858224688390417e-06]}\n",
      "dict_errors, after changes :  {'GradBoostRegressor': [64.05887104917701, 6.879228516611121], 'SVR': [57.472483085933554, 7.290719983843275], 'lienar_regression': [56.280924972230636, 5.710390790669493], 'neural_network': [45.78915480157528, 35.03483792790064], 'neer_neighboor': [54.907603756437446, 7.081187518933646]}\n"
     ]
    }
   ],
   "source": [
    "import json #ne jamais faire ça avec les import \n",
    "\n",
    "def load_dict_errors(path=\"all_errors.json\"):\n",
    "    with open(path, \"r\") as f:\n",
    "        dict_errors = json.load(f)\n",
    "        \n",
    "    return dict_errors\n",
    "\n",
    "dict_errors_0_2 = load_dict_errors(path=\"all_errors_0_2.json\")\n",
    "dict_errors_1_3 = load_dict_errors(path=\"all_errors_1_3.json\")\n",
    "print(\"dict_errors_0_2\", dict_errors_0_2)\n",
    "print(\"dict_errors_1_3\", dict_errors_1_3)\n",
    "\n",
    "\n",
    "def save_dict_errors(dict_errors, path=\"all_errors.json\"):\n",
    "    with open(path, \"w\") as f:\n",
    "        json.dump(dict_errors, f)\n",
    "\n",
    "dict_errors_0_2['lienar_regression'] = [best_0[0], best_2[0]]\n",
    "dict_errors_1_3['lienar_regression'] = [best_1[0], best_3[0]]\n",
    "\n",
    "print(\"dict_errors, after changes : \",dict_errors_0_2)\n",
    "print(\"dict_errors, after changes : \",dict_errors_1_3)\n",
    "\n",
    "save_dict_errors(dict_errors_0_2, path=\"all_errors_0_2.json\")\n",
    "save_dict_errors(dict_errors_1_3, path=\"all_errors_1_3.json\")\n"
   ]
  }
 ],
 "metadata": {
  "kernelspec": {
   "display_name": "Python 3",
   "language": "python",
   "name": "python3"
  },
  "language_info": {
   "codemirror_mode": {
    "name": "ipython",
    "version": 3
   },
   "file_extension": ".py",
   "mimetype": "text/x-python",
   "name": "python",
   "nbconvert_exporter": "python",
   "pygments_lexer": "ipython3",
   "version": "3.7.10"
  }
 },
 "nbformat": 4,
 "nbformat_minor": 5
}
