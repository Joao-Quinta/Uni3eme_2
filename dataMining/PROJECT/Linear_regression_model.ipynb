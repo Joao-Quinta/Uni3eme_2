{
 "cells": [
  {
   "cell_type": "code",
   "execution_count": 1,
   "id": "8e8953a7",
   "metadata": {},
   "outputs": [],
   "source": [
    "from utils import get_smiles_encodings, load_data, smile_to_hot\n",
    "from sklearn.linear_model import SGDRegressor\n",
    "from datetime import datetime\n",
    "import numpy as np"
   ]
  },
  {
   "cell_type": "code",
   "execution_count": 2,
   "id": "9da6ac47",
   "metadata": {
    "scrolled": true
   },
   "outputs": [
    {
     "name": "stdout",
     "output_type": "stream",
     "text": [
      "X - train :  (92428,)\n",
      "y - train :  (92428, 4)\n",
      "X_hot :  (92428, 14)\n",
      "X_hot_test :  (39612, 14)\n"
     ]
    }
   ],
   "source": [
    "file_smiles = './dataset/QM9.txt'\n",
    "file_properties = './dataset/properties_QM9.npz'\n",
    "smiles, alphabet, largest_molecule_len = get_smiles_encodings(file_smiles)\n",
    "properties = np.load(file_properties)['properties'].astype(np.float32)\n",
    "properties_txt = ['logP: represents a measure of the tendency of a compound to move from the aqueous phase into lipids',\n",
    "                  'Number of rotatable bonds (RBN): the number of bonds which allow free rotation around themselves',\n",
    "                  'Molecular weight (MW): the weight of a molecule based on the atomic masses of all atoms in the molecule',\n",
    "                  'Number of the rings (RN): the number of connected sets of atoms and bonds in which every atom and bond is a member of a cycle']\n",
    "\n",
    "X_train, X_test, y_train, y_test = load_data(smiles, properties)\n",
    "print(\"X - train : \", X_train.shape)\n",
    "print(\"y - train : \", y_train.shape)\n",
    "X_hot = np.array([smile_to_hot(x, largest_molecule_len, alphabet)[1].sum(axis=0) for x in X_train])\n",
    "X_hot_test = np.array([smile_to_hot(x, largest_molecule_len, alphabet)[1].sum(axis=0) for x in X_test])\n",
    "print(\"X_hot : \", X_hot.shape)\n",
    "print(\"X_hot_test : \", X_hot_test.shape)"
   ]
  },
  {
   "cell_type": "code",
   "execution_count": 3,
   "id": "e57c44f5",
   "metadata": {},
   "outputs": [],
   "source": [
    "model_regression_0 = SGDRegressor()\n",
    "model_regression_0.fit(X_hot, y_train[:,0])\n",
    "y_pred_0 = model_regression_0.predict(X_hot_test)\n",
    "\n",
    "model_regression_1 = SGDRegressor()\n",
    "model_regression_1.fit(X_hot, y_train[:,1])\n",
    "y_pred_1 = model_regression_1.predict(X_hot_test)\n",
    "\n",
    "model_regression_2 = SGDRegressor()\n",
    "model_regression_2.fit(X_hot, y_train[:,2])\n",
    "y_pred_2 = model_regression_2.predict(X_hot_test)\n",
    "\n",
    "model_regression_3 = SGDRegressor()\n",
    "model_regression_3.fit(X_hot, y_train[:,3])\n",
    "y_pred_3 = model_regression_3.predict(X_hot_test)"
   ]
  },
  {
   "cell_type": "code",
   "execution_count": 4,
   "id": "7ff2bfd5",
   "metadata": {
    "scrolled": true
   },
   "outputs": [],
   "source": [
    "y_test_0 = y_test[:,0]\n",
    "y_test_1 = y_test[:,1]\n",
    "y_test_2 = y_test[:,2]\n",
    "y_test_3 = y_test[:,3]    "
   ]
  },
  {
   "cell_type": "code",
   "execution_count": 5,
   "id": "a845501e",
   "metadata": {},
   "outputs": [
    {
     "name": "stdout",
     "output_type": "stream",
     "text": [
      "logP: represents a measure of the tendency of a compound to move from the aqueous phase into lipids\n",
      "\n",
      "Number of unique values in y_test[:,0] :  6400\n",
      "Min of y_test[:,0] :  -2.8142\n",
      "Max of y_test[:,0] :  3.7569\n",
      "\n",
      "Number of unique values in y_pred :  1337\n",
      "Min of y_pred :  -2.9340682986444517\n",
      "Max of y_pred :  3.0984655757689286\n",
      "\n",
      "Error is on avearage :  0.34742620249141765\n",
      "Let's say the target value is : 1.0, then the model would guess a value in the following interval :\n",
      " -> [ 0.6525737975085824 , 1.3474262024914176 ]\n"
     ]
    }
   ],
   "source": [
    "sum_0 = 0\n",
    "for i in range(y_test_0.shape[0]):\n",
    "    sum_0 = sum_0 + np.abs(np.abs(y_pred_0[i]) - np.abs(y_test_0[i]))\n",
    "sum_0 = sum_0 / y_test_0.shape[0]\n",
    "\n",
    "print(properties_txt[0])\n",
    "print()\n",
    "print(\"Number of unique values in y_test[:,0] : \", np.unique(y_test_0).shape[0])\n",
    "print(\"Min of y_test[:,0] : \", np.min(y_test_0))\n",
    "print(\"Max of y_test[:,0] : \", np.max(y_test_0))\n",
    "print()\n",
    "print(\"Number of unique values in y_pred : \", np.unique(y_pred_0).shape[0])\n",
    "print(\"Min of y_pred : \", np.min(y_pred_0))\n",
    "print(\"Max of y_pred : \", np.max(y_pred_0))\n",
    "print()\n",
    "print(\"Error is on avearage : \", sum_0)\n",
    "print(\"Let's say the target value is : 1.0, then the model would guess a value in the following interval :\")\n",
    "print(\" -> [\", 1.0 - sum_0,\",\",1.0 + sum_0,\"]\")"
   ]
  },
  {
   "cell_type": "code",
   "execution_count": 6,
   "id": "a2034220",
   "metadata": {},
   "outputs": [
    {
     "name": "stdout",
     "output_type": "stream",
     "text": [
      "Number of rotatable bonds (RBN): the number of bonds which allow free rotation around themselves\n",
      "\n",
      "Number of unique values in y_test[:,1] :  7\n",
      "Min of y_test[:,1] :  0.0\n",
      "Max of y_test[:,1] :  6.0\n",
      "\n",
      "Number of unique values in y_pred :  1337\n",
      "Min of y_pred :  -0.9429359085231339\n",
      "Max of y_pred :  3.0945099943311227\n",
      "\n",
      "Error is on avearage :  0.7241496599004495\n",
      "There were  0  correct predictions, out of  39612 , which is  100.0 % error rate\n",
      "\n",
      "Since the number of unique values is small, let's round the y_pred, to see if we get a better approximation : \n",
      "\n",
      "Number of unique values in y_pred_rounded :  5\n",
      "Min of y_pred_rounded :  -1.0\n",
      "Max of y_pred_rounded :  3.0\n",
      "\n",
      "Error is on avearage :  1.1161516712107442\n",
      "There were  11443  correct predictions, out of  39612 , which is  71.11228920529132 % error rate\n"
     ]
    }
   ],
   "source": [
    "sum_1 = 0\n",
    "sum_1_5 = 0\n",
    "for i in range(y_test_1.shape[0]):\n",
    "    sum_1 = sum_1 + np.abs(np.abs(y_pred_1[i]) - np.abs(y_test_1[i]))\n",
    "    if(y_pred_1[i] == y_test_1[i]):\n",
    "        sum_1_5 = sum_1_5 + 1\n",
    "sum_1 = sum_1 / y_test_1.shape[0]\n",
    "sum_1_5_r = sum_1_5 / y_test_1.shape[0] * 100\n",
    "\n",
    "print(properties_txt[1])\n",
    "print()\n",
    "print(\"Number of unique values in y_test[:,1] : \", np.unique(y_test_1).shape[0])\n",
    "print(\"Min of y_test[:,1] : \", np.min(y_test_1))\n",
    "print(\"Max of y_test[:,1] : \", np.max(y_test_1))\n",
    "print()\n",
    "print(\"Number of unique values in y_pred : \", np.unique(y_pred_1).shape[0])\n",
    "print(\"Min of y_pred : \", np.min(y_pred_1))\n",
    "print(\"Max of y_pred : \", np.max(y_pred_1))\n",
    "print()\n",
    "print(\"Error is on avearage : \", sum_1)\n",
    "print(\"There were \", sum_1_5, \" correct predictions, out of \", y_test_1.shape[0], \", which is \", 100 - sum_1_5_r,\"% error rate\")\n",
    "print()\n",
    "print(\"Since the number of unique values is small, let's round the y_pred, to see if we get a better approximation : \")\n",
    "print()\n",
    "\n",
    "y_pred_1_r = np.around(y_pred_1)\n",
    "\n",
    "sum_1_r = 0\n",
    "sum_1_5_r = 0\n",
    "for i in range(y_pred_1_r.shape[0]):\n",
    "    sum_1_r = sum_1_r + np.abs(np.abs(y_pred_1_r[i]) - np.abs(y_test_3[i]))\n",
    "    if(y_pred_1_r[i] == y_test_3[i]):\n",
    "        sum_1_5_r = sum_1_5_r + 1\n",
    "sum_1_r = sum_1_r / y_test_3.shape[0]\n",
    "sum_1_5_r_ = sum_1_5_r / y_test_3.shape[0] * 100\n",
    "\n",
    "print(\"Number of unique values in y_pred_rounded : \", np.unique(y_pred_1_r).shape[0])\n",
    "print(\"Min of y_pred_rounded : \", np.min(y_pred_1_r))\n",
    "print(\"Max of y_pred_rounded : \", np.max(y_pred_1_r))\n",
    "print()\n",
    "print(\"Error is on avearage : \", sum_1_r)\n",
    "print(\"There were \", sum_1_5_r, \" correct predictions, out of \", y_test_3.shape[0], \", which is \", 100 - sum_1_5_r_,\"% error rate\")"
   ]
  },
  {
   "cell_type": "code",
   "execution_count": 7,
   "id": "1201d2b4",
   "metadata": {},
   "outputs": [
    {
     "name": "stdout",
     "output_type": "stream",
     "text": [
      "Molecular weight (MW): the weight of a molecule based on the atomic masses of all atoms in the molecule\n",
      "\n",
      "Number of unique values in y_test[:,2] :  222\n",
      "Min of y_test[:,2] :  104.152\n",
      "Max of y_test[:,2] :  152.037\n",
      "\n",
      "Number of unique values in y_pred :  1337\n",
      "Min of y_pred :  104.17213730410894\n",
      "Max of y_pred :  150.82148444008834\n",
      "\n",
      "Error is on avearage :  0.02814579452637598\n",
      "Error rate is on avearage :  0.021638029627023953 % -> for each guess, the model is of by  0.021638029627023953 %\n",
      "Let's say the target value is : 150, then the model would guess a value in the following interval :\n",
      " -> [ 149.97185420547362 , 150.02814579452638 ]\n"
     ]
    }
   ],
   "source": [
    "sum_2 = 0\n",
    "sum_2_r = 0\n",
    "for i in range(y_test_2.shape[0]):\n",
    "    sum_2 = sum_2 + np.abs(np.abs(y_pred_2[i]) - np.abs(y_test_2[i]))\n",
    "    sum_2_r = sum_2_r + np.abs(100 - (np.abs(y_pred_2[i]) * 100 / np.abs(y_test_2[i])))\n",
    "sum_2 = sum_2 / y_test_2.shape[0]\n",
    "sum_2_r = sum_2_r / y_test_2.shape[0]\n",
    "\n",
    "print(properties_txt[2])\n",
    "print()\n",
    "print(\"Number of unique values in y_test[:,2] : \", np.unique(y_test_2).shape[0])\n",
    "print(\"Min of y_test[:,2] : \", np.min(y_test_2))\n",
    "print(\"Max of y_test[:,2] : \", np.max(y_test_2))\n",
    "print()\n",
    "print(\"Number of unique values in y_pred : \", np.unique(y_pred_2).shape[0])\n",
    "print(\"Min of y_pred : \", np.min(y_pred_2))\n",
    "print(\"Max of y_pred : \", np.max(y_pred_2))\n",
    "print()\n",
    "print(\"Error is on avearage : \", sum_2)\n",
    "print(\"Error rate is on avearage : \", sum_2_r, \"% -> for each guess, the model is of by \", sum_2_r, \"%\")\n",
    "print(\"Let's say the target value is : 150, then the model would guess a value in the following interval :\")\n",
    "print(\" -> [\", 150 - sum_2,\",\",150 + sum_2,\"]\")"
   ]
  },
  {
   "cell_type": "code",
   "execution_count": 8,
   "id": "b653ea58",
   "metadata": {
    "scrolled": true
   },
   "outputs": [
    {
     "name": "stdout",
     "output_type": "stream",
     "text": [
      "Number of the rings (RN): the number of connected sets of atoms and bonds in which every atom and bond is a member of a cycle\n",
      "\n",
      "Number of unique values in y_test[:,3] :  9\n",
      "Min of y_test[:,3] :  0.0\n",
      "Max of y_test[:,3] :  8.0\n",
      "\n",
      "Number of unique values in y_pred :  1337\n",
      "Min of y_pred :  -0.207673763526039\n",
      "Max of y_pred :  6.0036415792801066\n",
      "\n",
      "Error is on avearage :  0.13921218045050776\n",
      "There were  0  correct predictions, out of  39612 , which is  100.0 % error rate\n",
      "\n",
      "Since the number of unique values is small, let's round the y_pred, to see if we get a better approximation : \n",
      "\n",
      "Number of unique values in y_pred_rounded :  7\n",
      "Min of y_pred_rounded :  -0.0\n",
      "Max of y_pred_rounded :  6.0\n",
      "\n",
      "Error is on avearage :  0.06652024638998283\n",
      "There were  37399  correct predictions, out of  39612 , which is  5.586690901746948 % error rate\n"
     ]
    }
   ],
   "source": [
    "sum_3 = 0\n",
    "sum_3_5 = 0\n",
    "for i in range(y_test_3.shape[0]):\n",
    "    sum_3 = sum_3 + np.abs(np.abs(y_pred_3[i]) - np.abs(y_test_3[i]))\n",
    "    if(y_pred_3[i] == y_test_3[i]):\n",
    "        sum_3_5 = sum_3_5 + 1\n",
    "sum_3 = sum_3 / y_test_1.shape[0]\n",
    "sum_3_5_r = sum_3_5 / y_test_1.shape[0] * 100\n",
    "\n",
    "print(properties_txt[3])\n",
    "print()\n",
    "print(\"Number of unique values in y_test[:,3] : \", np.unique(y_test_3).shape[0])\n",
    "print(\"Min of y_test[:,3] : \", np.min(y_test_3))\n",
    "print(\"Max of y_test[:,3] : \", np.max(y_test_3))\n",
    "print()\n",
    "print(\"Number of unique values in y_pred : \", np.unique(y_pred_3).shape[0])\n",
    "print(\"Min of y_pred : \", np.min(y_pred_3))\n",
    "print(\"Max of y_pred : \", np.max(y_pred_3))\n",
    "print()\n",
    "print(\"Error is on avearage : \", sum_3)\n",
    "print(\"There were \", sum_3_5, \" correct predictions, out of \", y_test_3.shape[0], \", which is \", 100 - sum_3_5_r,\"% error rate\")\n",
    "print()\n",
    "print(\"Since the number of unique values is small, let's round the y_pred, to see if we get a better approximation : \")\n",
    "print()\n",
    "\n",
    "y_pred_3_r = np.around(y_pred_3)\n",
    "\n",
    "sum_3_r = 0\n",
    "sum_3_5_r = 0\n",
    "for i in range(y_test_3.shape[0]):\n",
    "    sum_3_r = sum_3_r + np.abs(np.abs(y_pred_3_r[i]) - np.abs(y_test_3[i]))\n",
    "    if(y_pred_3_r[i] == y_test_3[i]):\n",
    "        sum_3_5_r = sum_3_5_r + 1\n",
    "sum_3_r = sum_3_r / y_test_3.shape[0]\n",
    "sum_3_5_r_ = sum_3_5_r / y_test_3.shape[0] * 100\n",
    "\n",
    "print(\"Number of unique values in y_pred_rounded : \", np.unique(y_pred_3_r).shape[0])\n",
    "print(\"Min of y_pred_rounded : \", np.min(y_pred_3_r))\n",
    "print(\"Max of y_pred_rounded : \", np.max(y_pred_3_r))\n",
    "print()\n",
    "print(\"Error is on avearage : \", sum_3_r)\n",
    "print(\"There were \", sum_3_5_r, \" correct predictions, out of \", y_test_3.shape[0], \", which is \", 100 - sum_3_5_r_,\"% error rate\")"
   ]
  },
  {
   "cell_type": "code",
   "execution_count": null,
   "id": "789799a5",
   "metadata": {},
   "outputs": [],
   "source": []
  }
 ],
 "metadata": {
  "kernelspec": {
   "display_name": "Python 3",
   "language": "python",
   "name": "python3"
  },
  "language_info": {
   "codemirror_mode": {
    "name": "ipython",
    "version": 3
   },
   "file_extension": ".py",
   "mimetype": "text/x-python",
   "name": "python",
   "nbconvert_exporter": "python",
   "pygments_lexer": "ipython3",
   "version": "3.7.10"
  }
 },
 "nbformat": 4,
 "nbformat_minor": 5
}
