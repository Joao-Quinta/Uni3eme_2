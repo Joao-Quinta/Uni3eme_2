{
 "cells": [
  {
   "cell_type": "code",
   "execution_count": 1,
   "id": "58559270",
   "metadata": {},
   "outputs": [],
   "source": [
    "from utils import get_smiles_encodings, load_data, smile_to_hot\n",
    "from sklearn.naive_bayes import GaussianNB\n",
    "from datetime import datetime\n",
    "import numpy as np"
   ]
  },
  {
   "cell_type": "code",
   "execution_count": 2,
   "id": "795f05d1",
   "metadata": {},
   "outputs": [
    {
     "name": "stdout",
     "output_type": "stream",
     "text": [
      "X - train :  (92428,)\n",
      "y - train :  (92428, 4)\n",
      "X_hot :  (92428, 14)\n",
      "X_hot_test :  (39612, 14)\n",
      "X_hot_integer :  (92428, 22)\n",
      "X_hot_integer_test :  (39612, 22)\n"
     ]
    }
   ],
   "source": [
    "file_smiles = './dataset/QM9.txt'\n",
    "file_properties = './dataset/properties_QM9.npz'\n",
    "smiles, alphabet, largest_molecule_len = get_smiles_encodings(file_smiles)\n",
    "properties = np.load(file_properties)['properties'].astype(np.float32)\n",
    "properties_txt = ['logP: represents a measure of the tendency of a compound to move from the aqueous phase into lipids',\n",
    "                  'Number of rotatable bonds (RBN): the number of bonds which allow free rotation around themselves',\n",
    "                  'Molecular weight (MW): the weight of a molecule based on the atomic masses of all atoms in the molecule',\n",
    "                  'Number of the rings (RN): the number of connected sets of atoms and bonds in which every atom and bond is a member of a cycle']\n",
    "\n",
    "X_train, X_test, y_train, y_test = load_data(smiles, properties)\n",
    "print(\"X - train : \", X_train.shape)\n",
    "print(\"y - train : \", y_train.shape)\n",
    "X_hot = np.array([smile_to_hot(x, largest_molecule_len, alphabet)[1].sum(axis=0) for x in X_train])\n",
    "X_hot_test = np.array([smile_to_hot(x, largest_molecule_len, alphabet)[1].sum(axis=0) for x in X_test])\n",
    "print(\"X_hot : \", X_hot.shape)\n",
    "print(\"X_hot_test : \", X_hot_test.shape)\n",
    "X_hot_integer = np.array([smile_to_hot(x, largest_molecule_len, alphabet)[0] for x in X_train])\n",
    "X_hot_test_integer = np.array([smile_to_hot(x, largest_molecule_len, alphabet)[0] for x in X_test])\n",
    "print(\"X_hot_integer : \", X_hot_integer.shape)\n",
    "print(\"X_hot_integer_test : \", X_hot_test_integer.shape)"
   ]
  },
  {
   "cell_type": "code",
   "execution_count": 11,
   "id": "53550525",
   "metadata": {},
   "outputs": [],
   "source": [
    "y_train_0 = y_train[:,0]\n",
    "y_train_1 = y_train[:,1]\n",
    "y_train_2 = y_train[:,2]\n",
    "y_train_3 = y_train[:,3]  \n",
    "\n",
    "y_test_0 = y_test[:,0]\n",
    "y_test_1 = y_test[:,1]\n",
    "y_test_2 = y_test[:,2]\n",
    "y_test_3 = y_test[:,3]"
   ]
  },
  {
   "cell_type": "code",
   "execution_count": 13,
   "id": "b9d06b04",
   "metadata": {},
   "outputs": [
    {
     "name": "stdout",
     "output_type": "stream",
     "text": [
      "[ 0.6361   0.162   -0.8247  ... -0.5388  -1.7719  -0.89423]\n"
     ]
    },
    {
     "ename": "ValueError",
     "evalue": "Unknown label type: (array([-3.1626, -3.0954, -3.0618, ...,  3.3668,  3.4687,  3.5109],\n      dtype=float32),)",
     "output_type": "error",
     "traceback": [
      "\u001b[1;31m---------------------------------------------------------------------------\u001b[0m",
      "\u001b[1;31mValueError\u001b[0m                                Traceback (most recent call last)",
      "\u001b[1;32m<ipython-input-13-d328fdfe6339>\u001b[0m in \u001b[0;36m<module>\u001b[1;34m\u001b[0m\n\u001b[0;32m      1\u001b[0m \u001b[0mmodel_baseline_0_int\u001b[0m \u001b[1;33m=\u001b[0m \u001b[0mGaussianNB\u001b[0m\u001b[1;33m(\u001b[0m\u001b[1;33m)\u001b[0m\u001b[1;33m\u001b[0m\u001b[1;33m\u001b[0m\u001b[0m\n\u001b[0;32m      2\u001b[0m \u001b[0mprint\u001b[0m\u001b[1;33m(\u001b[0m\u001b[0my_train_0\u001b[0m\u001b[1;33m)\u001b[0m\u001b[1;33m\u001b[0m\u001b[1;33m\u001b[0m\u001b[0m\n\u001b[1;32m----> 3\u001b[1;33m \u001b[0mmodel_baseline_0_int\u001b[0m\u001b[1;33m.\u001b[0m\u001b[0mfit\u001b[0m\u001b[1;33m(\u001b[0m\u001b[0mX_hot_integer\u001b[0m\u001b[1;33m,\u001b[0m \u001b[0my_train_0\u001b[0m\u001b[1;33m,\u001b[0m \u001b[0msample_weight\u001b[0m\u001b[1;33m=\u001b[0m\u001b[1;32mNone\u001b[0m\u001b[1;33m)\u001b[0m\u001b[1;33m\u001b[0m\u001b[1;33m\u001b[0m\u001b[0m\n\u001b[0m\u001b[0;32m      4\u001b[0m \u001b[1;31m#y_pred_0_int = model_baseline_0_int.predict(X_hot_test_integer)\u001b[0m\u001b[1;33m\u001b[0m\u001b[1;33m\u001b[0m\u001b[1;33m\u001b[0m\u001b[0m\n\u001b[0;32m      5\u001b[0m \"\"\"\n",
      "\u001b[1;32m~\\.conda\\envs\\DM_project\\lib\\site-packages\\sklearn\\naive_bayes.py\u001b[0m in \u001b[0;36mfit\u001b[1;34m(self, X, y, sample_weight)\u001b[0m\n\u001b[0;32m    208\u001b[0m         \u001b[0my\u001b[0m \u001b[1;33m=\u001b[0m \u001b[0mcolumn_or_1d\u001b[0m\u001b[1;33m(\u001b[0m\u001b[0my\u001b[0m\u001b[1;33m,\u001b[0m \u001b[0mwarn\u001b[0m\u001b[1;33m=\u001b[0m\u001b[1;32mTrue\u001b[0m\u001b[1;33m)\u001b[0m\u001b[1;33m\u001b[0m\u001b[1;33m\u001b[0m\u001b[0m\n\u001b[0;32m    209\u001b[0m         return self._partial_fit(X, y, np.unique(y), _refit=True,\n\u001b[1;32m--> 210\u001b[1;33m                                  sample_weight=sample_weight)\n\u001b[0m\u001b[0;32m    211\u001b[0m \u001b[1;33m\u001b[0m\u001b[0m\n\u001b[0;32m    212\u001b[0m     \u001b[1;32mdef\u001b[0m \u001b[0m_check_X\u001b[0m\u001b[1;33m(\u001b[0m\u001b[0mself\u001b[0m\u001b[1;33m,\u001b[0m \u001b[0mX\u001b[0m\u001b[1;33m)\u001b[0m\u001b[1;33m:\u001b[0m\u001b[1;33m\u001b[0m\u001b[1;33m\u001b[0m\u001b[0m\n",
      "\u001b[1;32m~\\.conda\\envs\\DM_project\\lib\\site-packages\\sklearn\\naive_bayes.py\u001b[0m in \u001b[0;36m_partial_fit\u001b[1;34m(self, X, y, classes, _refit, sample_weight)\u001b[0m\n\u001b[0;32m    372\u001b[0m             \u001b[0mself\u001b[0m\u001b[1;33m.\u001b[0m\u001b[0mclasses_\u001b[0m \u001b[1;33m=\u001b[0m \u001b[1;32mNone\u001b[0m\u001b[1;33m\u001b[0m\u001b[1;33m\u001b[0m\u001b[0m\n\u001b[0;32m    373\u001b[0m \u001b[1;33m\u001b[0m\u001b[0m\n\u001b[1;32m--> 374\u001b[1;33m         \u001b[1;32mif\u001b[0m \u001b[0m_check_partial_fit_first_call\u001b[0m\u001b[1;33m(\u001b[0m\u001b[0mself\u001b[0m\u001b[1;33m,\u001b[0m \u001b[0mclasses\u001b[0m\u001b[1;33m)\u001b[0m\u001b[1;33m:\u001b[0m\u001b[1;33m\u001b[0m\u001b[1;33m\u001b[0m\u001b[0m\n\u001b[0m\u001b[0;32m    375\u001b[0m             \u001b[1;31m# This is the first call to partial_fit:\u001b[0m\u001b[1;33m\u001b[0m\u001b[1;33m\u001b[0m\u001b[1;33m\u001b[0m\u001b[0m\n\u001b[0;32m    376\u001b[0m             \u001b[1;31m# initialize various cumulative counters\u001b[0m\u001b[1;33m\u001b[0m\u001b[1;33m\u001b[0m\u001b[1;33m\u001b[0m\u001b[0m\n",
      "\u001b[1;32m~\\.conda\\envs\\DM_project\\lib\\site-packages\\sklearn\\utils\\multiclass.py\u001b[0m in \u001b[0;36m_check_partial_fit_first_call\u001b[1;34m(clf, classes)\u001b[0m\n\u001b[0;32m    337\u001b[0m         \u001b[1;32melse\u001b[0m\u001b[1;33m:\u001b[0m\u001b[1;33m\u001b[0m\u001b[1;33m\u001b[0m\u001b[0m\n\u001b[0;32m    338\u001b[0m             \u001b[1;31m# This is the first call to partial_fit\u001b[0m\u001b[1;33m\u001b[0m\u001b[1;33m\u001b[0m\u001b[1;33m\u001b[0m\u001b[0m\n\u001b[1;32m--> 339\u001b[1;33m             \u001b[0mclf\u001b[0m\u001b[1;33m.\u001b[0m\u001b[0mclasses_\u001b[0m \u001b[1;33m=\u001b[0m \u001b[0munique_labels\u001b[0m\u001b[1;33m(\u001b[0m\u001b[0mclasses\u001b[0m\u001b[1;33m)\u001b[0m\u001b[1;33m\u001b[0m\u001b[1;33m\u001b[0m\u001b[0m\n\u001b[0m\u001b[0;32m    340\u001b[0m             \u001b[1;32mreturn\u001b[0m \u001b[1;32mTrue\u001b[0m\u001b[1;33m\u001b[0m\u001b[1;33m\u001b[0m\u001b[0m\n\u001b[0;32m    341\u001b[0m \u001b[1;33m\u001b[0m\u001b[0m\n",
      "\u001b[1;32m~\\.conda\\envs\\DM_project\\lib\\site-packages\\sklearn\\utils\\multiclass.py\u001b[0m in \u001b[0;36munique_labels\u001b[1;34m(*ys)\u001b[0m\n\u001b[0;32m     96\u001b[0m     \u001b[0m_unique_labels\u001b[0m \u001b[1;33m=\u001b[0m \u001b[0m_FN_UNIQUE_LABELS\u001b[0m\u001b[1;33m.\u001b[0m\u001b[0mget\u001b[0m\u001b[1;33m(\u001b[0m\u001b[0mlabel_type\u001b[0m\u001b[1;33m,\u001b[0m \u001b[1;32mNone\u001b[0m\u001b[1;33m)\u001b[0m\u001b[1;33m\u001b[0m\u001b[1;33m\u001b[0m\u001b[0m\n\u001b[0;32m     97\u001b[0m     \u001b[1;32mif\u001b[0m \u001b[1;32mnot\u001b[0m \u001b[0m_unique_labels\u001b[0m\u001b[1;33m:\u001b[0m\u001b[1;33m\u001b[0m\u001b[1;33m\u001b[0m\u001b[0m\n\u001b[1;32m---> 98\u001b[1;33m         \u001b[1;32mraise\u001b[0m \u001b[0mValueError\u001b[0m\u001b[1;33m(\u001b[0m\u001b[1;34m\"Unknown label type: %s\"\u001b[0m \u001b[1;33m%\u001b[0m \u001b[0mrepr\u001b[0m\u001b[1;33m(\u001b[0m\u001b[0mys\u001b[0m\u001b[1;33m)\u001b[0m\u001b[1;33m)\u001b[0m\u001b[1;33m\u001b[0m\u001b[1;33m\u001b[0m\u001b[0m\n\u001b[0m\u001b[0;32m     99\u001b[0m \u001b[1;33m\u001b[0m\u001b[0m\n\u001b[0;32m    100\u001b[0m     \u001b[0mys_labels\u001b[0m \u001b[1;33m=\u001b[0m \u001b[0mset\u001b[0m\u001b[1;33m(\u001b[0m\u001b[0mchain\u001b[0m\u001b[1;33m.\u001b[0m\u001b[0mfrom_iterable\u001b[0m\u001b[1;33m(\u001b[0m\u001b[0m_unique_labels\u001b[0m\u001b[1;33m(\u001b[0m\u001b[0my\u001b[0m\u001b[1;33m)\u001b[0m \u001b[1;32mfor\u001b[0m \u001b[0my\u001b[0m \u001b[1;32min\u001b[0m \u001b[0mys\u001b[0m\u001b[1;33m)\u001b[0m\u001b[1;33m)\u001b[0m\u001b[1;33m\u001b[0m\u001b[1;33m\u001b[0m\u001b[0m\n",
      "\u001b[1;31mValueError\u001b[0m: Unknown label type: (array([-3.1626, -3.0954, -3.0618, ...,  3.3668,  3.4687,  3.5109],\n      dtype=float32),)"
     ]
    }
   ],
   "source": [
    "model_baseline_0_int = GaussianNB()\n",
    "print(y_train_0)\n",
    "model_baseline_0_int.fit(X_hot_integer, y_train_0, sample_weight=None)\n",
    "#y_pred_0_int = model_baseline_0_int.predict(X_hot_test_integer)\n",
    "\"\"\"\n",
    "model_baseline_1_int = GaussianNB()\n",
    "model_baseline_1_int.fit(X_hot_integer, y_train_1)\n",
    "y_pred_1_int = model_baseline_1_int.predict(X_hot_test_integer)\n",
    "\n",
    "model_baseline_2_int = GaussianNB()\n",
    "model_baseline_2_int.fit(X_hot_integer, y_train_2)\n",
    "y_pred_2_int = model_baseline_2_int.predict(X_hot_test_integer)\n",
    "\n",
    "model_baseline_3_int = GaussianNB()\n",
    "model_baseline_3_int.fit(X_hot_integer, y_train_3)\n",
    "y_pred_3_int = model_baseline_3_int.predict(X_hot_test_integer)\n",
    "\"\"\""
   ]
  },
  {
   "cell_type": "code",
   "execution_count": null,
   "id": "40de25d6",
   "metadata": {},
   "outputs": [],
   "source": [
    "sum_0 = 0\n",
    "for i in range(y_test_0.shape[0]):\n",
    "    sum_0 = sum_0 + np.abs(np.abs(y_pred_0_int[i]) - np.abs(y_test_0[i]))\n",
    "sum_0 = sum_0 / y_test_0.shape[0]\n",
    "\n",
    "print(properties_txt[0])\n",
    "print()\n",
    "print(\"Number of unique values in y_test[:,0] : \", np.unique(y_test_0).shape[0])\n",
    "print(\"Min of y_test[:,0] : \", np.min(y_test_0))\n",
    "print(\"Max of y_test[:,0] : \", np.max(y_test_0))\n",
    "print()\n",
    "print(\"Number of unique values in y_pred : \", np.unique(y_pred_0).shape[0])\n",
    "print(\"Min of y_pred : \", np.min(y_pred_0))\n",
    "print(\"Max of y_pred : \", np.max(y_pred_0))\n",
    "print()\n",
    "print(\"Error is on avearage : \", sum_0)\n",
    "print(\"Let's say the target value is : 1.0, then the model would guess a value in the following interval :\")\n",
    "print(\" -> [\", 1.0 - sum_0,\",\",1.0 + sum_0,\"]\")"
   ]
  }
 ],
 "metadata": {
  "kernelspec": {
   "display_name": "Python 3",
   "language": "python",
   "name": "python3"
  },
  "language_info": {
   "codemirror_mode": {
    "name": "ipython",
    "version": 3
   },
   "file_extension": ".py",
   "mimetype": "text/x-python",
   "name": "python",
   "nbconvert_exporter": "python",
   "pygments_lexer": "ipython3",
   "version": "3.7.10"
  }
 },
 "nbformat": 4,
 "nbformat_minor": 5
}
