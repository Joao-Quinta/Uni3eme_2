{
 "cells": [
  {
   "cell_type": "markdown",
   "metadata": {},
   "source": [
    "## TP3 Regression\n",
    "### Deadline Monday 17/05/2021 23:59\n",
    "Optimization method like gradient descent (GD) can be used to minimize the cost function of linear regression.  But for linear regression, there exists an analytical solution. That means we can obtain the variables for linear regression in one step calculation by using the right formula.  In this TP,  you are going to solve the Linear Regression with and without $L2$ regularizer using both the analytical solution and GD.\n"
   ]
  },
  {
   "cell_type": "markdown",
   "metadata": {},
   "source": [
    "Before start read carefully the description of the tp (TP3_linear_regression_GD_L2.pdf) and the regression.py python script. You can add the extra functions that are needed here or if you prefere you can create a new python script.\n",
    "\n",
    "Do not forget to use seed for reproducibility. \n"
   ]
  },
  {
   "cell_type": "code",
   "execution_count": 1,
   "metadata": {},
   "outputs": [],
   "source": [
    "import numpy as np\n",
    "import pandas as pd\n",
    "from random import shuffle\n",
    "\n",
    "import matplotlib.pyplot as plt\n",
    "\n",
    "from regression import LinearRegression_RidgeRegression\n"
   ]
  },
  {
   "cell_type": "code",
   "execution_count": 2,
   "metadata": {},
   "outputs": [],
   "source": [
    "def train_test_split(X, y, test_size=0.3):\n",
    "    \"\"\" Split the data into train and test sets \"\"\"\n",
    "\n",
    "    split_i = len(y) - int(len(y) // (1 / test_size))\n",
    "    X_train, X_test = X[:split_i], X[split_i:]\n",
    "    y_train, y_test = y[:split_i], y[split_i:]\n",
    "\n",
    "    return X_train, X_test, y_train, y_test\n"
   ]
  },
  {
   "cell_type": "code",
   "execution_count": 3,
   "metadata": {},
   "outputs": [],
   "source": [
    "# Unrelated to the TP, totaly random numbers. They are give in order to run the given code without getting error\n",
    "X = np.random.uniform(1., 10., size=(50, 2))\n",
    "y = np.random.uniform(1., size=(50))\n"
   ]
  },
  {
   "cell_type": "code",
   "execution_count": 4,
   "metadata": {},
   "outputs": [],
   "source": [
    "X_train, X_test, y_train, y_test = train_test_split(X, y, test_size=0.2)\n",
    "\n",
    "\n",
    "model = LinearRegression_RidgeRegression(X_train, y_train, iterations=100, lr=0.001, l2_reg = 0, analytical_sol=True)\n",
    "\n",
    "w = model.fit()\n",
    "y_pred = model.predict(X_test)\n"
   ]
  },
  {
   "cell_type": "code",
   "execution_count": 5,
   "metadata": {},
   "outputs": [],
   "source": [
    "model_gd = LinearRegression_RidgeRegression(X_train, y_train, iterations=100, lr=0.001, l2_reg = 0, analytical_sol=False)\n",
    "\n",
    "w = model_gd.fit()\n",
    "y_pred = model_gd.predict(X_test)\n",
    "\n"
   ]
  },
  {
   "cell_type": "code",
   "execution_count": 6,
   "metadata": {},
   "outputs": [],
   "source": [
    "#general functions\n",
    "def generateMatrix(n=100, d=10):\n",
    "    np.random.seed(0) #makes answer always the same\n",
    "    #follows normal distribution : mu=0 sigma=1\n",
    "    return np.random.normal(0, 1, size=(n, d))\n",
    "\n",
    "def generateVector(d=10):\n",
    "    np.random.seed(0) #makes answer always the same\n",
    "    #follows normal distribution : mu=0 sigma=10\n",
    "    return np.random.normal(0, 10, size=(d, 1))\n",
    "\n",
    "def generateYNoise(y):\n",
    "    return y + np.random.normal(0, 1, size=(y.shape[0], y.shape[1]))\n",
    "\n",
    "def addFeaturesDependant(X, d=2):\n",
    "    for i in range(d):\n",
    "        X = np.append(X, X[:,i].reshape(X.shape[0], 1)/2, axis=1)\n",
    "    return X"
   ]
  },
  {
   "cell_type": "code",
   "execution_count": 7,
   "metadata": {
    "scrolled": true
   },
   "outputs": [],
   "source": [
    "X = generateMatrix() # default size : 100x10\n",
    "w = generateVector() # default size : 10x1\n",
    "y = np.dot(X,w)      # default size : 100x1"
   ]
  },
  {
   "cell_type": "code",
   "execution_count": 8,
   "metadata": {
    "scrolled": true
   },
   "outputs": [
    {
     "name": "stdout",
     "output_type": "stream",
     "text": [
      "X_train error for analytical solution is :  1.648887149372827e-13\n",
      "X_test error for analytical solution is :  5.564421850464314e-14\n"
     ]
    }
   ],
   "source": [
    "# analytical solutions\n",
    "\n",
    "# split X and y into train and test sets\n",
    "X_train, X_test, y_train, y_test = train_test_split(X, y, test_size=0.2)\n",
    "\n",
    "# create model with train data and compute w^\n",
    "modelAnalyticalSol = LinearRegression_RidgeRegression(X_train, y_train, iterations=100, lr=0.001, l2_reg = 0, analytical_sol=True)\n",
    "w_chapeau = modelAnalyticalSol.fit()\n",
    "\n",
    "# compute y_pred for X_test, using w_chapeau computed with model.fit()\n",
    "y_pred_train = modelAnalyticalSol.predict(X_train)\n",
    "y_pred_test = modelAnalyticalSol.predict(X_test)\n",
    "\n",
    "error_train = np.linalg.norm(y_train - y_pred_train, 2)\n",
    "error_test = np.linalg.norm(y_test - y_pred_test, 2)\n",
    "print(\"X_train error for analytical solution is : \", error_train)\n",
    "print(\"X_test error for analytical solution is : \", error_test)"
   ]
  },
  {
   "cell_type": "code",
   "execution_count": 9,
   "metadata": {},
   "outputs": [
    {
     "name": "stdout",
     "output_type": "stream",
     "text": [
      "X_train error for GD solution is :  68.47509127392368\n",
      "X_test error for GD solution is :  46.31851866299104\n"
     ]
    }
   ],
   "source": [
    "# Gradient descent\n",
    "\n",
    "modelGraDesSol = LinearRegression_RidgeRegression(X_train, y_train, iterations=100, lr=0.0001, l2_reg = 0, analytical_sol=False)\n",
    "\n",
    "w_chapeau = modelGraDesSol.fit()\n",
    "\n",
    "# compute y_pred for X_test, using w_chapeau computed with model.fit()\n",
    "y_pred_train = modelGraDesSol.predict(X_train)\n",
    "y_pred_test = modelGraDesSol.predict(X_test)\n",
    "\n",
    "error_train = np.linalg.norm(y_train - y_pred_train, 2)\n",
    "error_test = np.linalg.norm(y_test - y_pred_test, 2)\n",
    "print(\"X_train error for GD solution is : \", error_train)\n",
    "print(\"X_test error for GD solution is : \", error_test)"
   ]
  },
  {
   "cell_type": "code",
   "execution_count": 10,
   "metadata": {},
   "outputs": [
    {
     "name": "stdout",
     "output_type": "stream",
     "text": [
      "lr = 0.0001 : X_train error for GD solution is :  69.0158600037637\n",
      "lr = 0.0001 : X_test error for GD solution is :  46.85359168297029\n",
      "lr = 0.001 : X_train error for GD solution is :  0.006643559809601339\n",
      "lr = 0.001 : X_test error for GD solution is :  0.004959621352855823\n",
      "lr = 0.01 : X_train error for GD solution is :  2.6264872972868093e+17\n",
      "lr = 0.01 : X_test error for GD solution is :  8.512620120394656e+16\n",
      "lr = 0.1 : X_train error for GD solution is :  4.3759999020588365e+138\n",
      "lr = 0.1 : X_test error for GD solution is :  1.4186212266445061e+138\n",
      "mse :  [5094.565893395245, 2470.019906786834, 7.246470131414793e+33, 2.0124861846863637e+276]\n"
     ]
    },
    {
     "data": {
      "image/png": "[encoded data removed]",
      "text/plain": [
       "<Figure size 432x288 with 1 Axes>"
      ]
     },
     "metadata": {
      "needs_background": "light"
     },
     "output_type": "display_data"
    }
   ],
   "source": [
    "import matplotlib.pyplot as plt\n",
    "# lr = 0.0001\n",
    "modelGraDesSol0001 = LinearRegression_RidgeRegression(X_train, y_train, iterations=100, lr=0.0001, l2_reg = 0, analytical_sol=False)\n",
    "w_chapeau = modelGraDesSol0001.fit()\n",
    "\n",
    "# compute y_pred for X_test, using w_chapeau computed with model.fit()\n",
    "y_pred_train0001 = modelGraDesSol0001.predict(X_train)\n",
    "y_pred_test0001 = modelGraDesSol0001.predict(X_test)\n",
    "error_train0001 = np.linalg.norm(y_train - y_pred_train0001, 2)\n",
    "error_test0001 = np.linalg.norm(y_test - y_pred_test0001, 2)\n",
    "print(\"lr = 0.0001 : X_train error for GD solution is : \", error_train0001)\n",
    "print(\"lr = 0.0001 : X_test error for GD solution is : \", error_test0001)\n",
    "\n",
    "# lr = 0.001\n",
    "modelGraDesSol001 = LinearRegression_RidgeRegression(X_train, y_train, iterations=100, lr=0.001, l2_reg = 0, analytical_sol=False)\n",
    "w_chapeau = modelGraDesSol001.fit()\n",
    "\n",
    "# compute y_pred for X_test, using w_chapeau computed with model.fit()\n",
    "y_pred_train001 = modelGraDesSol001.predict(X_train)\n",
    "y_pred_test001 = modelGraDesSol001.predict(X_test)\n",
    "error_train001 = np.linalg.norm(y_train - y_pred_train001, 2)\n",
    "error_test001 = np.linalg.norm(y_test - y_pred_test001, 2)\n",
    "print(\"lr = 0.001 : X_train error for GD solution is : \", error_train001)\n",
    "print(\"lr = 0.001 : X_test error for GD solution is : \", error_test001)\n",
    "\n",
    "# lr = 0.01\n",
    "modelGraDesSol01 = LinearRegression_RidgeRegression(X_train, y_train, iterations=100, lr=0.01, l2_reg = 0, analytical_sol=False)\n",
    "w_chapeau = modelGraDesSol01.fit()\n",
    "\n",
    "# compute y_pred for X_test, using w_chapeau computed with model.fit()\n",
    "y_pred_train01 = modelGraDesSol01.predict(X_train)\n",
    "y_pred_test01 = modelGraDesSol01.predict(X_test)\n",
    "error_train01 = np.linalg.norm(y_train - y_pred_train01, 2)\n",
    "error_test01 = np.linalg.norm(y_test - y_pred_test01, 2)\n",
    "print(\"lr = 0.01 : X_train error for GD solution is : \", error_train01)\n",
    "print(\"lr = 0.01 : X_test error for GD solution is : \", error_test01)\n",
    "\n",
    "# lr = 0.1\n",
    "modelGraDesSol1 = LinearRegression_RidgeRegression(X_train, y_train, iterations=100, lr=0.1, l2_reg = 0, analytical_sol=False)\n",
    "w_chapeau = modelGraDesSol1.fit()\n",
    "\n",
    "# compute y_pred for X_test, using w_chapeau computed with model.fit()\n",
    "y_pred_train1 = modelGraDesSol1.predict(X_train)\n",
    "y_pred_test1 = modelGraDesSol1.predict(X_test)\n",
    "error_train1 = np.linalg.norm(y_train - y_pred_train1, 2)\n",
    "error_test1 = np.linalg.norm(y_test - y_pred_test1, 2)\n",
    "print(\"lr = 0.1 : X_train error for GD solution is : \", error_train1)\n",
    "print(\"lr = 0.1 : X_test error for GD solution is : \", error_test1)\n",
    "\n",
    "# computing mse\n",
    "mse0001 = (np.square(error_test0001 - y_test)).mean(axis=0)\n",
    "mse001 = (np.square(error_test001 - y_test)).mean(axis=0)\n",
    "mse01 = (np.square(error_test01 - y_test)).mean(axis=0)\n",
    "mse1 = (np.square(error_test1 - y_test)).mean(axis=0)\n",
    "x = [0.0001,0.001,0.01,0.1]\n",
    "y_mse = [mse0001[0], mse001[0], mse01[0], mse1[0]]\n",
    "print(\"mse : \",y_mse)\n",
    "plt.plot(x,y_mse)\n",
    "plt.show()"
   ]
  },
  {
   "cell_type": "code",
   "execution_count": 11,
   "metadata": {},
   "outputs": [],
   "source": [
    "y_noise = generateYNoise(y)\n",
    "\n",
    "# make new split of data\n",
    "X_train, X_test, y_train, y_test = train_test_split(X, y, test_size=0.2)"
   ]
  },
  {
   "cell_type": "code",
   "execution_count": 12,
   "metadata": {},
   "outputs": [
    {
     "name": "stdout",
     "output_type": "stream",
     "text": [
      "lr = 0.0001 : X_train error for GD solution is :  69.00783158179983\n",
      "lr = 0.0001 : X_test error for GD solution is :  46.88924667500604\n",
      "lr = 0.001 : X_train error for GD solution is :  0.0064920168051523005\n",
      "lr = 0.001 : X_test error for GD solution is :  0.004847786101793611\n",
      "lr = 0.01 : X_train error for GD solution is :  2.6375615228745024e+17\n",
      "lr = 0.01 : X_test error for GD solution is :  8.54851230621418e+16\n",
      "lr = 0.1 : X_train error for GD solution is :  4.376470587798405e+138\n",
      "lr = 0.1 : X_test error for GD solution is :  1.4187862744597342e+138\n",
      "mse :  [5098.235010092095, 2470.0188809127203, 7.307706264949526e+33, 2.0129544925953317e+276]\n"
     ]
    },
    {
     "data": {
      "image/png": "[encoded data removed]",
      "text/plain": [
       "<Figure size 432x288 with 1 Axes>"
      ]
     },
     "metadata": {
      "needs_background": "light"
     },
     "output_type": "display_data"
    }
   ],
   "source": [
    "import matplotlib.pyplot as plt\n",
    "# lr = 0.0001\n",
    "modelGraDesSol0001 = LinearRegression_RidgeRegression(X_train, y_train, iterations=100, lr=0.0001, l2_reg = 0, analytical_sol=False)\n",
    "w_chapeau = modelGraDesSol0001.fit()\n",
    "\n",
    "# compute y_pred for X_test, using w_chapeau computed with model.fit()\n",
    "y_pred_train0001 = modelGraDesSol0001.predict(X_train)\n",
    "y_pred_test0001 = modelGraDesSol0001.predict(X_test)\n",
    "error_train0001 = np.linalg.norm(y_train - y_pred_train0001, 2)\n",
    "error_test0001 = np.linalg.norm(y_test - y_pred_test0001, 2)\n",
    "print(\"lr = 0.0001 : X_train error for GD solution is : \", error_train0001)\n",
    "print(\"lr = 0.0001 : X_test error for GD solution is : \", error_test0001)\n",
    "\n",
    "# lr = 0.001\n",
    "modelGraDesSol001 = LinearRegression_RidgeRegression(X_train, y_train, iterations=100, lr=0.001, l2_reg = 0, analytical_sol=False)\n",
    "w_chapeau = modelGraDesSol001.fit()\n",
    "\n",
    "# compute y_pred for X_test, using w_chapeau computed with model.fit()\n",
    "y_pred_train001 = modelGraDesSol001.predict(X_train)\n",
    "y_pred_test001 = modelGraDesSol001.predict(X_test)\n",
    "error_train001 = np.linalg.norm(y_train - y_pred_train001, 2)\n",
    "error_test001 = np.linalg.norm(y_test - y_pred_test001, 2)\n",
    "print(\"lr = 0.001 : X_train error for GD solution is : \", error_train001)\n",
    "print(\"lr = 0.001 : X_test error for GD solution is : \", error_test001)\n",
    "\n",
    "# lr = 0.01\n",
    "modelGraDesSol01 = LinearRegression_RidgeRegression(X_train, y_train, iterations=100, lr=0.01, l2_reg = 0, analytical_sol=False)\n",
    "w_chapeau = modelGraDesSol01.fit()\n",
    "\n",
    "# compute y_pred for X_test, using w_chapeau computed with model.fit()\n",
    "y_pred_train01 = modelGraDesSol01.predict(X_train)\n",
    "y_pred_test01 = modelGraDesSol01.predict(X_test)\n",
    "error_train01 = np.linalg.norm(y_train - y_pred_train01, 2)\n",
    "error_test01 = np.linalg.norm(y_test - y_pred_test01, 2)\n",
    "print(\"lr = 0.01 : X_train error for GD solution is : \", error_train01)\n",
    "print(\"lr = 0.01 : X_test error for GD solution is : \", error_test01)\n",
    "\n",
    "# lr = 0.1\n",
    "modelGraDesSol1 = LinearRegression_RidgeRegression(X_train, y_train, iterations=100, lr=0.1, l2_reg = 0, analytical_sol=False)\n",
    "w_chapeau = modelGraDesSol1.fit()\n",
    "\n",
    "# compute y_pred for X_test, using w_chapeau computed with model.fit()\n",
    "y_pred_train1 = modelGraDesSol1.predict(X_train)\n",
    "y_pred_test1 = modelGraDesSol1.predict(X_test)\n",
    "error_train1 = np.linalg.norm(y_train - y_pred_train1, 2)\n",
    "error_test1 = np.linalg.norm(y_test - y_pred_test1, 2)\n",
    "print(\"lr = 0.1 : X_train error for GD solution is : \", error_train1)\n",
    "print(\"lr = 0.1 : X_test error for GD solution is : \", error_test1)\n",
    "\n",
    "# computing mse\n",
    "mse0001 = (np.square(error_test0001 - y_test)).mean(axis=0)\n",
    "mse001 = (np.square(error_test001 - y_test)).mean(axis=0)\n",
    "mse01 = (np.square(error_test01 - y_test)).mean(axis=0)\n",
    "mse1 = (np.square(error_test1 - y_test)).mean(axis=0)\n",
    "x = [0.0001,0.001,0.01,0.1]\n",
    "y_mse = [mse0001[0], mse001[0], mse01[0], mse1[0]]\n",
    "print(\"mse : \",y_mse)\n",
    "plt.plot(x,y_mse)\n",
    "plt.show()"
   ]
  },
  {
   "cell_type": "code",
   "execution_count": 13,
   "metadata": {},
   "outputs": [],
   "source": [
    "X = generateMatrix() # default size : 100x10\n",
    "X_prime = addFeaturesDependant(X)  # default size : input.shape[0]xinput.shape[1]+2\n",
    "# adds collums to the end, copying the first collums and dividing by 2, default adds 2 collums\n",
    "w = generateVector(X_prime.shape[1]) # size : input[1]x1\n",
    "y_prime = np.dot(X_prime, w)\n"
   ]
  },
  {
   "cell_type": "code",
   "execution_count": 16,
   "metadata": {},
   "outputs": [
    {
     "name": "stdout",
     "output_type": "stream",
     "text": [
      "(80, 12)\n",
      "(20, 12)\n",
      "(80, 1)\n",
      "(20, 1)\n"
     ]
    },
    {
     "ename": "LinAlgError",
     "evalue": "Singular matrix",
     "output_type": "error",
     "traceback": [
      "\u001b[1;31m---------------------------------------------------------------------------\u001b[0m",
      "\u001b[1;31mLinAlgError\u001b[0m                               Traceback (most recent call last)",
      "\u001b[1;32m<ipython-input-16-867650bbed7d>\u001b[0m in \u001b[0;36m<module>\u001b[1;34m\u001b[0m\n\u001b[0;32m     10\u001b[0m \u001b[1;31m# create model with train data and compute w^\u001b[0m\u001b[1;33m\u001b[0m\u001b[1;33m\u001b[0m\u001b[1;33m\u001b[0m\u001b[0m\n\u001b[0;32m     11\u001b[0m \u001b[0mmodelAnalyticalSol\u001b[0m \u001b[1;33m=\u001b[0m \u001b[0mLinearRegression_RidgeRegression\u001b[0m\u001b[1;33m(\u001b[0m\u001b[0mX_train\u001b[0m\u001b[1;33m,\u001b[0m \u001b[0my_train\u001b[0m\u001b[1;33m,\u001b[0m \u001b[0miterations\u001b[0m\u001b[1;33m=\u001b[0m\u001b[1;36m100\u001b[0m\u001b[1;33m,\u001b[0m \u001b[0mlr\u001b[0m\u001b[1;33m=\u001b[0m\u001b[1;36m0.001\u001b[0m\u001b[1;33m,\u001b[0m \u001b[0ml2_reg\u001b[0m \u001b[1;33m=\u001b[0m \u001b[1;36m0\u001b[0m\u001b[1;33m,\u001b[0m \u001b[0manalytical_sol\u001b[0m\u001b[1;33m=\u001b[0m\u001b[1;32mTrue\u001b[0m\u001b[1;33m)\u001b[0m\u001b[1;33m\u001b[0m\u001b[1;33m\u001b[0m\u001b[0m\n\u001b[1;32m---> 12\u001b[1;33m \u001b[0mw_chapeau\u001b[0m \u001b[1;33m=\u001b[0m \u001b[0mmodelAnalyticalSol\u001b[0m\u001b[1;33m.\u001b[0m\u001b[0mfit\u001b[0m\u001b[1;33m(\u001b[0m\u001b[1;33m)\u001b[0m\u001b[1;33m\u001b[0m\u001b[1;33m\u001b[0m\u001b[0m\n\u001b[0m\u001b[0;32m     13\u001b[0m \u001b[1;33m\u001b[0m\u001b[0m\n\u001b[0;32m     14\u001b[0m \u001b[1;31m# compute y_pred for X_test, using w_chapeau computed with model.fit()\u001b[0m\u001b[1;33m\u001b[0m\u001b[1;33m\u001b[0m\u001b[1;33m\u001b[0m\u001b[0m\n",
      "\u001b[1;32m~\\Documents\\GitHub\\Uni3eme_2\\dataMining\\TP3_regression\\regression.py\u001b[0m in \u001b[0;36mfit\u001b[1;34m(self)\u001b[0m\n\u001b[0;32m     49\u001b[0m             \u001b[1;31m######################################################################\u001b[0m\u001b[1;33m\u001b[0m\u001b[1;33m\u001b[0m\u001b[1;33m\u001b[0m\u001b[0m\n\u001b[0;32m     50\u001b[0m             \u001b[1;32mif\u001b[0m \u001b[0mself\u001b[0m\u001b[1;33m.\u001b[0m\u001b[0ml2_reg\u001b[0m \u001b[1;33m==\u001b[0m \u001b[1;36m0\u001b[0m\u001b[1;33m:\u001b[0m\u001b[1;33m\u001b[0m\u001b[1;33m\u001b[0m\u001b[0m\n\u001b[1;32m---> 51\u001b[1;33m                 \u001b[0mself\u001b[0m\u001b[1;33m.\u001b[0m\u001b[0mw\u001b[0m \u001b[1;33m=\u001b[0m \u001b[0mnp\u001b[0m\u001b[1;33m.\u001b[0m\u001b[0mdot\u001b[0m\u001b[1;33m(\u001b[0m\u001b[0mnp\u001b[0m\u001b[1;33m.\u001b[0m\u001b[0mdot\u001b[0m\u001b[1;33m(\u001b[0m\u001b[0mnp\u001b[0m\u001b[1;33m.\u001b[0m\u001b[0mlinalg\u001b[0m\u001b[1;33m.\u001b[0m\u001b[0minv\u001b[0m\u001b[1;33m(\u001b[0m\u001b[0mnp\u001b[0m\u001b[1;33m.\u001b[0m\u001b[0mdot\u001b[0m\u001b[1;33m(\u001b[0m\u001b[0mself\u001b[0m\u001b[1;33m.\u001b[0m\u001b[0mX\u001b[0m\u001b[1;33m.\u001b[0m\u001b[0mtranspose\u001b[0m\u001b[1;33m(\u001b[0m\u001b[1;33m)\u001b[0m\u001b[1;33m,\u001b[0m \u001b[0mself\u001b[0m\u001b[1;33m.\u001b[0m\u001b[0mX\u001b[0m\u001b[1;33m)\u001b[0m\u001b[1;33m)\u001b[0m\u001b[1;33m,\u001b[0m \u001b[0mself\u001b[0m\u001b[1;33m.\u001b[0m\u001b[0mX\u001b[0m\u001b[1;33m.\u001b[0m\u001b[0mtranspose\u001b[0m\u001b[1;33m(\u001b[0m\u001b[1;33m)\u001b[0m\u001b[1;33m)\u001b[0m\u001b[1;33m,\u001b[0m \u001b[0mself\u001b[0m\u001b[1;33m.\u001b[0m\u001b[0my\u001b[0m\u001b[1;33m)\u001b[0m\u001b[1;33m\u001b[0m\u001b[1;33m\u001b[0m\u001b[0m\n\u001b[0m\u001b[0;32m     52\u001b[0m             \u001b[1;32mreturn\u001b[0m \u001b[0mself\u001b[0m\u001b[1;33m.\u001b[0m\u001b[0mw\u001b[0m\u001b[1;33m\u001b[0m\u001b[1;33m\u001b[0m\u001b[0m\n\u001b[0;32m     53\u001b[0m         \u001b[1;32melse\u001b[0m\u001b[1;33m:\u001b[0m\u001b[1;33m\u001b[0m\u001b[1;33m\u001b[0m\u001b[0m\n",
      "\u001b[1;32m<__array_function__ internals>\u001b[0m in \u001b[0;36minv\u001b[1;34m(*args, **kwargs)\u001b[0m\n",
      "\u001b[1;32mC:\\ProgramData\\Anaconda3\\lib\\site-packages\\numpy\\linalg\\linalg.py\u001b[0m in \u001b[0;36minv\u001b[1;34m(a)\u001b[0m\n\u001b[0;32m    544\u001b[0m     \u001b[0msignature\u001b[0m \u001b[1;33m=\u001b[0m \u001b[1;34m'D->D'\u001b[0m \u001b[1;32mif\u001b[0m \u001b[0misComplexType\u001b[0m\u001b[1;33m(\u001b[0m\u001b[0mt\u001b[0m\u001b[1;33m)\u001b[0m \u001b[1;32melse\u001b[0m \u001b[1;34m'd->d'\u001b[0m\u001b[1;33m\u001b[0m\u001b[1;33m\u001b[0m\u001b[0m\n\u001b[0;32m    545\u001b[0m     \u001b[0mextobj\u001b[0m \u001b[1;33m=\u001b[0m \u001b[0mget_linalg_error_extobj\u001b[0m\u001b[1;33m(\u001b[0m\u001b[0m_raise_linalgerror_singular\u001b[0m\u001b[1;33m)\u001b[0m\u001b[1;33m\u001b[0m\u001b[1;33m\u001b[0m\u001b[0m\n\u001b[1;32m--> 546\u001b[1;33m     \u001b[0mainv\u001b[0m \u001b[1;33m=\u001b[0m \u001b[0m_umath_linalg\u001b[0m\u001b[1;33m.\u001b[0m\u001b[0minv\u001b[0m\u001b[1;33m(\u001b[0m\u001b[0ma\u001b[0m\u001b[1;33m,\u001b[0m \u001b[0msignature\u001b[0m\u001b[1;33m=\u001b[0m\u001b[0msignature\u001b[0m\u001b[1;33m,\u001b[0m \u001b[0mextobj\u001b[0m\u001b[1;33m=\u001b[0m\u001b[0mextobj\u001b[0m\u001b[1;33m)\u001b[0m\u001b[1;33m\u001b[0m\u001b[1;33m\u001b[0m\u001b[0m\n\u001b[0m\u001b[0;32m    547\u001b[0m     \u001b[1;32mreturn\u001b[0m \u001b[0mwrap\u001b[0m\u001b[1;33m(\u001b[0m\u001b[0mainv\u001b[0m\u001b[1;33m.\u001b[0m\u001b[0mastype\u001b[0m\u001b[1;33m(\u001b[0m\u001b[0mresult_t\u001b[0m\u001b[1;33m,\u001b[0m \u001b[0mcopy\u001b[0m\u001b[1;33m=\u001b[0m\u001b[1;32mFalse\u001b[0m\u001b[1;33m)\u001b[0m\u001b[1;33m)\u001b[0m\u001b[1;33m\u001b[0m\u001b[1;33m\u001b[0m\u001b[0m\n\u001b[0;32m    548\u001b[0m \u001b[1;33m\u001b[0m\u001b[0m\n",
      "\u001b[1;32mC:\\ProgramData\\Anaconda3\\lib\\site-packages\\numpy\\linalg\\linalg.py\u001b[0m in \u001b[0;36m_raise_linalgerror_singular\u001b[1;34m(err, flag)\u001b[0m\n\u001b[0;32m     86\u001b[0m \u001b[1;33m\u001b[0m\u001b[0m\n\u001b[0;32m     87\u001b[0m \u001b[1;32mdef\u001b[0m \u001b[0m_raise_linalgerror_singular\u001b[0m\u001b[1;33m(\u001b[0m\u001b[0merr\u001b[0m\u001b[1;33m,\u001b[0m \u001b[0mflag\u001b[0m\u001b[1;33m)\u001b[0m\u001b[1;33m:\u001b[0m\u001b[1;33m\u001b[0m\u001b[1;33m\u001b[0m\u001b[0m\n\u001b[1;32m---> 88\u001b[1;33m     \u001b[1;32mraise\u001b[0m \u001b[0mLinAlgError\u001b[0m\u001b[1;33m(\u001b[0m\u001b[1;34m\"Singular matrix\"\u001b[0m\u001b[1;33m)\u001b[0m\u001b[1;33m\u001b[0m\u001b[1;33m\u001b[0m\u001b[0m\n\u001b[0m\u001b[0;32m     89\u001b[0m \u001b[1;33m\u001b[0m\u001b[0m\n\u001b[0;32m     90\u001b[0m \u001b[1;32mdef\u001b[0m \u001b[0m_raise_linalgerror_nonposdef\u001b[0m\u001b[1;33m(\u001b[0m\u001b[0merr\u001b[0m\u001b[1;33m,\u001b[0m \u001b[0mflag\u001b[0m\u001b[1;33m)\u001b[0m\u001b[1;33m:\u001b[0m\u001b[1;33m\u001b[0m\u001b[1;33m\u001b[0m\u001b[0m\n",
      "\u001b[1;31mLinAlgError\u001b[0m: Singular matrix"
     ]
    }
   ],
   "source": [
    "# analytical solutions\n",
    "\n",
    "# split X and y into train and test sets\n",
    "X_train, X_test, y_train, y_test = train_test_split(X_prime, y_prime, test_size=0.2)\n",
    "\n",
    "# create model with train data and compute w^\n",
    "modelAnalyticalSol = LinearRegression_RidgeRegression(X_train, y_train, iterations=100, lr=0.001, l2_reg = 0, analytical_sol=True)\n",
    "w_chapeau = modelAnalyticalSol.fit()\n",
    "\n",
    "# compute y_pred for X_test, using w_chapeau computed with model.fit()\n",
    "y_prime_pred_train = modelAnalyticalSol.predict(X_train)\n",
    "y_prime_pred_test = modelAnalyticalSol.predict(X_test)\n",
    "\n",
    "error_train = np.linalg.norm(y_train - y_prime_pred_train, 2)\n",
    "error_test = np.linalg.norm(y_test - y_prime_pred_test, 2)\n",
    "print(\"X_train error for analytical solution is : \", error_train)\n",
    "print(\"X_test error for analytical solution is : \", error_test)"
   ]
  },
  {
   "cell_type": "code",
   "execution_count": null,
   "metadata": {},
   "outputs": [],
   "source": []
  }
 ],
 "metadata": {
  "kernelspec": {
   "display_name": "Python 3",
   "language": "python",
   "name": "python3"
  },
  "language_info": {
   "codemirror_mode": {
    "name": "ipython",
    "version": 3
   },
   "file_extension": ".py",
   "mimetype": "text/x-python",
   "name": "python",
   "nbconvert_exporter": "python",
   "pygments_lexer": "ipython3",
   "version": "3.8.5"
  }
 },
 "nbformat": 4,
 "nbformat_minor": 4
}
