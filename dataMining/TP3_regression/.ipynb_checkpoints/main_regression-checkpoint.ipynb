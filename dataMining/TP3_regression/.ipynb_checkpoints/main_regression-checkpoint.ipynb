{
 "cells": [
  {
   "cell_type": "markdown",
   "metadata": {},
   "source": [
    "## TP3 Regression\n",
    "### Deadline Monday 17/05/2021 23:59\n",
    "Optimization method like gradient descent (GD) can be used to minimize the cost function of linear regression.  But for linear regression, there exists an analytical solution. That means we can obtain the variables for linear regression in one step calculation by using the right formula.  In this TP,  you are going to solve the Linear Regression with and without $L2$ regularizer using both the analytical solution and GD.\n"
   ]
  },
  {
   "cell_type": "markdown",
   "metadata": {},
   "source": [
    "Before start read carefully the description of the tp (TP3_linear_regression_GD_L2.pdf) and the regression.py python script. You can add the extra functions that are needed here or if you prefere you can create a new python script.\n",
    "\n",
    "Do not forget to use seed for reproducibility. \n"
   ]
  },
  {
   "cell_type": "code",
   "execution_count": 1,
   "metadata": {},
   "outputs": [],
   "source": [
    "import numpy as np\n",
    "import pandas as pd\n",
    "from random import shuffle\n",
    "from datetime import datetime\n",
    "from sklearn.metrics import mean_squared_error\n",
    "\n",
    "import matplotlib.pyplot as plt\n",
    "\n",
    "from regression import LinearRegression_RidgeRegression\n"
   ]
  },
  {
   "cell_type": "code",
   "execution_count": 2,
   "metadata": {},
   "outputs": [],
   "source": [
    "def train_test_split(X, y, test_size=0.3):\n",
    "    \"\"\" Split the data into train and test sets \"\"\"\n",
    "\n",
    "    split_i = len(y) - int(len(y) // (1 / test_size))\n",
    "    X_train, X_test = X[:split_i], X[split_i:]\n",
    "    y_train, y_test = y[:split_i], y[split_i:]\n",
    "\n",
    "    return X_train, X_test, y_train, y_test\n",
    "\n",
    "#general functions\n",
    "def generateMatrix(n=100, d=10):\n",
    "    np.random.seed(0) #makes answer always the same\n",
    "    #follows normal distribution : mu=0 sigma=1\n",
    "    return np.random.normal(0, 1, size=(n, d))\n",
    "\n",
    "def generateVector(d=10):\n",
    "    np.random.seed(0) #makes answer always the same\n",
    "    #follows normal distribution : mu=0 sigma=10\n",
    "    return np.random.normal(0, 10, size=(d, 1))\n",
    "\n",
    "def generateYNoise(y):\n",
    "    return y + np.random.normal(0, 1, size=(y.shape[0], y.shape[1]))\n",
    "\n",
    "def addFeaturesDependant(X, d=2):\n",
    "    for i in range(d):\n",
    "        X = np.append(X, X[:,i].reshape(X.shape[0], 1)/2, axis=1)\n",
    "    return X"
   ]
  },
  {
   "cell_type": "code",
   "execution_count": 3,
   "metadata": {
    "scrolled": true
   },
   "outputs": [],
   "source": [
    "X = generateMatrix() # default size : 100x10\n",
    "w = generateVector() # default size : 10x1\n",
    "y = np.dot(X,w)      # default size : 100x1"
   ]
  },
  {
   "cell_type": "code",
   "execution_count": 4,
   "metadata": {
    "scrolled": true
   },
   "outputs": [
    {
     "name": "stdout",
     "output_type": "stream",
     "text": [
      "X_test error for analytical solution is :  5.564421850464314e-14\n"
     ]
    }
   ],
   "source": [
    "# analytical solutions\n",
    "\n",
    "# split X and y into train and test sets\n",
    "X_train, X_test, y_train, y_test = train_test_split(X, y, test_size=0.2)\n",
    "\n",
    "\n",
    "# create model with train data and compute w^\n",
    "modelAnalyticalSol = LinearRegression_RidgeRegression(X_train, y_train, iterations=100, lr=0.001, l2_reg = 0, analytical_sol=True)\n",
    "w_chapeau = modelAnalyticalSol.fit()\n",
    "# compute y_pred for X_test, using w_chapeau computed with model.fit()\n",
    "y_pred_test = modelAnalyticalSol.predict(X_test)\n",
    "\n",
    "\n",
    "error_testAnalytical = np.linalg.norm(y_test - y_pred_test, 2)\n",
    "print(\"X_test error for analytical solution is : \", error_testAnalytical)"
   ]
  },
  {
   "cell_type": "code",
   "execution_count": 5,
   "metadata": {},
   "outputs": [
    {
     "name": "stdout",
     "output_type": "stream",
     "text": [
      "X_test error for GD solution is :  0.0047346922370979545\n"
     ]
    }
   ],
   "source": [
    "# Gradient descent\n",
    "preGD = datetime.now()\n",
    "modelGraDesSol = LinearRegression_RidgeRegression(X_train, y_train, iterations=100, lr=0.001, l2_reg = 0, analytical_sol=False)\n",
    "\n",
    "w_chapeau = modelGraDesSol.fit()\n",
    "\n",
    "# compute y_pred for X_test, using w_chapeau computed with model.fit()\n",
    "y_pred_test = modelGraDesSol.predict(X_test)\n",
    "postGD = datetime.now()\n",
    "error_testGD = np.linalg.norm(y_test - y_pred_test, 2)\n",
    "print(\"X_test error for GD solution is : \", error_testGD)"
   ]
  },
  {
   "cell_type": "code",
   "execution_count": 6,
   "metadata": {
    "scrolled": false
   },
   "outputs": [
    {
     "name": "stdout",
     "output_type": "stream",
     "text": [
      "X_test error for analytical solution is       :  5.564421850464314e-14\n",
      "lr = 0.0001 : X_test error for GD solution is :  46.85359168297029\n",
      "lr = 0.001  : X_test error for GD solution is :  0.004959621352855823\n",
      "lr = 0.01   : X_test error for GD solution is :  8.512620120394656e+16\n",
      "lr = 0.1    : X_test error for GD solution is :  1.4186212266445061e+138\n",
      "x   :  [0.0001, 0.001, 0.01, 0.1]\n",
      "mse :  [109.76295267972512, 1.2298921981851709e-06, 3.623235065707396e+32, 1.0062430923431818e+275]\n"
     ]
    },
    {
     "data": {
      "image/png": "[encoded data removed]",
      "text/plain": [
       "<Figure size 432x288 with 1 Axes>"
      ]
     },
     "metadata": {
      "needs_background": "light"
     },
     "output_type": "display_data"
    }
   ],
   "source": [
    "import matplotlib.pyplot as plt\n",
    "print(\"X_test error for analytical solution is       : \", error_testAnalytical)\n",
    "\n",
    "# lr = 0.0001\n",
    "modelGraDesSol0001 = LinearRegression_RidgeRegression(X_train, y_train, iterations=100, lr=0.0001, l2_reg = 0, analytical_sol=False)\n",
    "w_chapeau = modelGraDesSol0001.fit()\n",
    "\n",
    "# compute y_pred for X_test, using w_chapeau computed with model.fit()\n",
    "y_pred_test0001 = modelGraDesSol0001.predict(X_test)\n",
    "error_test0001 = np.linalg.norm(y_test - y_pred_test0001, 2)\n",
    "print(\"lr = 0.0001 : X_test error for GD solution is : \", error_test0001)\n",
    "\n",
    "# lr = 0.001\n",
    "modelGraDesSol001 = LinearRegression_RidgeRegression(X_train, y_train, iterations=100, lr=0.001, l2_reg = 0, analytical_sol=False)\n",
    "w_chapeau = modelGraDesSol001.fit()\n",
    "\n",
    "# compute y_pred for X_test, using w_chapeau computed with model.fit()\n",
    "y_pred_test001 = modelGraDesSol001.predict(X_test)\n",
    "error_test001 = np.linalg.norm(y_test - y_pred_test001, 2)\n",
    "print(\"lr = 0.001  : X_test error for GD solution is : \", error_test001)\n",
    "\n",
    "# lr = 0.01\n",
    "modelGraDesSol01 = LinearRegression_RidgeRegression(X_train, y_train, iterations=100, lr=0.01, l2_reg = 0, analytical_sol=False)\n",
    "w_chapeau = modelGraDesSol01.fit()\n",
    "\n",
    "# compute y_pred for X_test, using w_chapeau computed with model.fit()\n",
    "y_pred_test01 = modelGraDesSol01.predict(X_test)\n",
    "error_test01 = np.linalg.norm(y_test - y_pred_test01, 2)\n",
    "print(\"lr = 0.01   : X_test error for GD solution is : \", error_test01)\n",
    "\n",
    "# lr = 0.1\n",
    "modelGraDesSol1 = LinearRegression_RidgeRegression(X_train, y_train, iterations=100, lr=0.1, l2_reg = 0, analytical_sol=False)\n",
    "w_chapeau = modelGraDesSol1.fit()\n",
    "\n",
    "# compute y_pred for X_test, using w_chapeau computed with model.fit()\n",
    "y_pred_test1 = modelGraDesSol1.predict(X_test)\n",
    "error_test1 = np.linalg.norm(y_test - y_pred_test1, 2)\n",
    "print(\"lr = 0.1    : X_test error for GD solution is : \", error_test1)\n",
    "\n",
    "# computing mse\n",
    "mse0001 = mean_squared_error(y_pred_test0001, y_test)\n",
    "mse001 = mean_squared_error(y_pred_test001, y_test)\n",
    "mse01 = mean_squared_error(y_pred_test01, y_test)\n",
    "mse1 = mean_squared_error(y_pred_test1, y_test)\n",
    "x = [0.0001,0.001,0.01,0.1]\n",
    "y_mse = [mse0001, mse001, mse01, mse1]\n",
    "print(\"x   : \",x)\n",
    "print(\"mse : \",y_mse)\n",
    "plt.semilogx(x,np.log10(y_mse))\n",
    "plt.title(\"x = lr, y = log10(mse(y, y_pred))\")\n",
    "plt.show()\n"
   ]
  },
  {
   "cell_type": "code",
   "execution_count": 7,
   "metadata": {},
   "outputs": [],
   "source": [
    "# make new split of data\n",
    "X_train, X_test, y_train, y_test = train_test_split(X, y, test_size=0.2)\n",
    "y_test = generateYNoise(y_test) # add noise to y_test"
   ]
  },
  {
   "cell_type": "code",
   "execution_count": 8,
   "metadata": {},
   "outputs": [
    {
     "name": "stdout",
     "output_type": "stream",
     "text": [
      "X_test error for analytical solution is       :  3.5069375464947483\n",
      "lr = 0.0001 : X_test error for GD solution is :  46.51876213512659\n",
      "lr = 0.001  : X_test error for GD solution is :  3.507183730906596\n",
      "lr = 0.01   : X_test error for GD solution is :  8.44169422253485e+16\n",
      "lr = 0.1    : X_test error for GD solution is :  1.4083748899948299e+138\n",
      "x   :  [0.0001, 0.001, 0.01, 0.1]\n",
      "mse :  [108.1997615292244, 0.6150168861167955, 3.5631100673389134e+32, 9.917599153839746e+274]\n"
     ]
    },
    {
     "data": {
      "image/png": "[encoded data removed]",
      "text/plain": [
       "<Figure size 432x288 with 1 Axes>"
      ]
     },
     "metadata": {
      "needs_background": "light"
     },
     "output_type": "display_data"
    }
   ],
   "source": [
    "import matplotlib.pyplot as plt\n",
    "\n",
    "# create model with train data and compute w^\n",
    "modelAnalyticalSol = LinearRegression_RidgeRegression(X_train, y_train, iterations=100, lr=0.001, l2_reg = 0, analytical_sol=True)\n",
    "w_chapeau = modelAnalyticalSol.fit()\n",
    "# compute y_pred for X_test, using w_chapeau computed with model.fit()\n",
    "y_pred_test = modelAnalyticalSol.predict(X_test)\n",
    "\n",
    "\n",
    "error_testAnalytical = np.linalg.norm(y_test - y_pred_test, 2)\n",
    "print(\"X_test error for analytical solution is       : \", error_testAnalytical)\n",
    "\n",
    "# lr = 0.0001\n",
    "modelGraDesSol0001 = LinearRegression_RidgeRegression(X_train, y_train, iterations=100, lr=0.0001, l2_reg = 0, analytical_sol=False)\n",
    "w_chapeau = modelGraDesSol0001.fit()\n",
    "\n",
    "# compute y_pred for X_test, using w_chapeau computed with model.fit()\n",
    "y_pred_test0001 = modelGraDesSol0001.predict(X_test)\n",
    "error_test0001 = np.linalg.norm(y_test - y_pred_test0001, 2)\n",
    "print(\"lr = 0.0001 : X_test error for GD solution is : \", error_test0001)\n",
    "\n",
    "# lr = 0.001\n",
    "modelGraDesSol001 = LinearRegression_RidgeRegression(X_train, y_train, iterations=100, lr=0.001, l2_reg = 0, analytical_sol=False)\n",
    "w_chapeau = modelGraDesSol001.fit()\n",
    "\n",
    "# compute y_pred for X_test, using w_chapeau computed with model.fit()\n",
    "y_pred_test001 = modelGraDesSol001.predict(X_test)\n",
    "error_test001 = np.linalg.norm(y_test - y_pred_test001, 2)\n",
    "print(\"lr = 0.001  : X_test error for GD solution is : \", error_test001)\n",
    "\n",
    "# lr = 0.01\n",
    "modelGraDesSol01 = LinearRegression_RidgeRegression(X_train, y_train, iterations=100, lr=0.01, l2_reg = 0, analytical_sol=False)\n",
    "w_chapeau = modelGraDesSol01.fit()\n",
    "\n",
    "# compute y_pred for X_test, using w_chapeau computed with model.fit()\n",
    "y_pred_test01 = modelGraDesSol01.predict(X_test)\n",
    "error_test01 = np.linalg.norm(y_test - y_pred_test01, 2)\n",
    "print(\"lr = 0.01   : X_test error for GD solution is : \", error_test01)\n",
    "\n",
    "# lr = 0.1\n",
    "modelGraDesSol1 = LinearRegression_RidgeRegression(X_train, y_train, iterations=100, lr=0.1, l2_reg = 0, analytical_sol=False)\n",
    "w_chapeau = modelGraDesSol1.fit()\n",
    "\n",
    "# compute y_pred for X_test, using w_chapeau computed with model.fit()\n",
    "y_pred_test1 = modelGraDesSol1.predict(X_test)\n",
    "error_test1 = np.linalg.norm(y_test - y_pred_test1, 2)\n",
    "print(\"lr = 0.1    : X_test error for GD solution is : \", error_test1)\n",
    "\n",
    "# computing mse\n",
    "mse0001 = mean_squared_error(y_pred_test0001, y_test)\n",
    "mse001 = mean_squared_error(y_pred_test001, y_test)\n",
    "mse01 = mean_squared_error(y_pred_test01, y_test)\n",
    "mse1 = mean_squared_error(y_pred_test1, y_test)\n",
    "\n",
    "x = [0.0001,0.001,0.01,0.1]\n",
    "y_mse = [mse0001, mse001, mse01, mse1]\n",
    "\n",
    "print(\"x   : \",x)\n",
    "print(\"mse : \",y_mse)\n",
    "plt.semilogx(x,np.log10(y_mse))\n",
    "plt.title(\"x = lr, y = log10(mse(y, y_pred)) -> noise\")\n",
    "plt.show()"
   ]
  },
  {
   "cell_type": "code",
   "execution_count": 9,
   "metadata": {},
   "outputs": [],
   "source": [
    "X = generateMatrix() # default size : 100x10\n",
    "X_prime = addFeaturesDependant(X)  # default size : input.shape[0]xinput.shape[1]+2\n",
    "# adds collums to the end, copying the first collums and dividing by 2, default adds 2 collums\n",
    "w = generateVector(X_prime.shape[1]) # size : input[1]x1\n",
    "y_prime = np.dot(X_prime, w)\n"
   ]
  },
  {
   "cell_type": "code",
   "execution_count": 10,
   "metadata": {},
   "outputs": [],
   "source": [
    "# analytical solutions\n",
    "\n",
    "# this computation is impossible, explanation in pdf under linear dependencies section"
   ]
  },
  {
   "cell_type": "code",
   "execution_count": 11,
   "metadata": {},
   "outputs": [
    {
     "name": "stdout",
     "output_type": "stream",
     "text": [
      "X_test error for GD solution is :  3.5071776005296686\n"
     ]
    }
   ],
   "source": [
    "# Gradient descent\n",
    "\n",
    "modelGraDesSol = LinearRegression_RidgeRegression(X_train, y_train, iterations=100, lr=0.001, l2_reg = 0, analytical_sol=False)\n",
    "\n",
    "w_chapeau = modelGraDesSol.fit()\n",
    "\n",
    "# compute y_pred for X_test, using w_chapeau computed with model.fit()\n",
    "y_pred_test = modelGraDesSol.predict(X_test)\n",
    "error_test = np.linalg.norm(y_test - y_pred_test, 2)\n",
    "print(\"X_test error for GD solution is : \", error_test)"
   ]
  },
  {
   "cell_type": "code",
   "execution_count": 12,
   "metadata": {},
   "outputs": [
    {
     "name": "stdout",
     "output_type": "stream",
     "text": [
      "lambda  =  0.0001  : X_test error for analytical solution is  :  3.5069548003665085\n",
      "lambda  =  0.001   : X_test error for analytical solution is  :  3.5071111648174598\n",
      "lambda  =  0.01    : X_test error for analytical solution is  :  3.508781604745622\n",
      "lambda  =  0.1     : X_test error for analytical solution is  :  3.5360628451781744\n",
      "lambda  =  1       : X_test error for analytical solution is  :  4.659813210675735\n",
      "lambda  =  10      : X_test error for analytical solution is  :  25.917370869630428\n",
      "x   :  [0.0001, 0.001, 0.01, 0.1, 1, 10]\n",
      "mse :  [0.6149365985906847, 0.6149914361193636, 0.6155774174900632, 0.6251870222524781, 1.0856929579194052, 33.58550563969838]\n"
     ]
    },
    {
     "data": {
      "image/png": "[encoded data removed]",
      "text/plain": [
       "<Figure size 432x288 with 1 Axes>"
      ]
     },
     "metadata": {
      "needs_background": "light"
     },
     "output_type": "display_data"
    }
   ],
   "source": [
    "# l2 reg : analytical solution  -> we have already defined X' and y' data\n",
    "\n",
    "# lambda = 0.0001\n",
    "modelAnalyticalSol0001 = LinearRegression_RidgeRegression(X_train, y_train, iterations=100, lr=0.001, l2_reg = 0.0001, analytical_sol=True)\n",
    "modelAnalyticalSol0001.fit()\n",
    "y_prime_pred_test0001 = modelAnalyticalSol0001.predict(X_test)\n",
    "error_test0001 = np.linalg.norm(y_test - y_prime_pred_test0001, 2)\n",
    "print(\"lambda  = \", 0.0001, \" : X_test error for analytical solution is  : \", error_test0001)\n",
    "\n",
    "# lambda = 0.001\n",
    "modelAnalyticalSol001 = LinearRegression_RidgeRegression(X_train, y_train, iterations=100, lr=0.001, l2_reg = 0.001, analytical_sol=True)\n",
    "modelAnalyticalSol001.fit()\n",
    "y_prime_pred_test001 = modelAnalyticalSol001.predict(X_test)\n",
    "error_test001 = np.linalg.norm(y_test - y_prime_pred_test001, 2)\n",
    "print(\"lambda  = \", 0.001, \"  : X_test error for analytical solution is  : \", error_test001)\n",
    "\n",
    "# lambda = 0.01\n",
    "modelAnalyticalSol01 = LinearRegression_RidgeRegression(X_train, y_train, iterations=100, lr=0.001, l2_reg = 0.01, analytical_sol=True)\n",
    "modelAnalyticalSol01.fit()\n",
    "y_prime_pred_test01 = modelAnalyticalSol01.predict(X_test)\n",
    "error_test01 = np.linalg.norm(y_test - y_prime_pred_test01, 2)\n",
    "print(\"lambda  = \", 0.01, \"   : X_test error for analytical solution is  : \", error_test01)\n",
    "\n",
    "# lambda = 0.1\n",
    "modelAnalyticalSol1 = LinearRegression_RidgeRegression(X_train, y_train, iterations=100, lr=0.001, l2_reg = 0.1, analytical_sol=True)\n",
    "modelAnalyticalSol1.fit()\n",
    "y_prime_pred_test1 = modelAnalyticalSol1.predict(X_test)\n",
    "error_test1 = np.linalg.norm(y_test - y_prime_pred_test1, 2)\n",
    "print(\"lambda  = \", 0.1, \"    : X_test error for analytical solution is  : \", error_test1)\n",
    "\n",
    "# lambda = 0 -> no point doing this -> same as no regularisation\n",
    "\n",
    "# lambda = 1\n",
    "modelAnalyticalSol_1 = LinearRegression_RidgeRegression(X_train, y_train, iterations=100, lr=0.001, l2_reg = 1, analytical_sol=True)\n",
    "modelAnalyticalSol_1.fit()\n",
    "y_prime_pred_test_1 = modelAnalyticalSol_1.predict(X_test)\n",
    "error_test_1 = np.linalg.norm(y_test - y_prime_pred_test_1, 2)\n",
    "print(\"lambda  = \", 1, \"      : X_test error for analytical solution is  : \", error_test_1)\n",
    "\n",
    "# lambda = 10\n",
    "modelAnalyticalSol_10 = LinearRegression_RidgeRegression(X_train, y_train, iterations=100, lr=0.001, l2_reg = 10, analytical_sol=True)\n",
    "modelAnalyticalSol_10.fit()\n",
    "y_prime_pred_test_10 = modelAnalyticalSol_10.predict(X_test)\n",
    "error_test_10 = np.linalg.norm(y_test - y_prime_pred_test_10, 2)\n",
    "print(\"lambda  = \", 10, \"     : X_test error for analytical solution is  : \", error_test_10)\n",
    "\n",
    "# computing mse\n",
    "mse0001 = mean_squared_error(y_prime_pred_test0001, y_test)\n",
    "mse001 = mean_squared_error(y_prime_pred_test001, y_test)\n",
    "mse01 = mean_squared_error(y_prime_pred_test01, y_test)\n",
    "mse1 = mean_squared_error(y_prime_pred_test1, y_test)\n",
    "mse_1 = mean_squared_error(y_prime_pred_test_1, y_test)\n",
    "mse_10 = mean_squared_error(y_prime_pred_test_10, y_test)\n",
    "\n",
    "x = [0.0001,0.001,0.01,0.1, 1, 10]\n",
    "y_mse = [mse0001, mse001, mse01, mse1, mse_1, mse_10]\n",
    "print(\"x   : \",x)\n",
    "print(\"mse : \",y_mse)\n",
    "plt.semilogx(x,np.log10(y_mse))\n",
    "plt.title(\"x = lambda, y = log10(mse(y, y_pred))\")\n",
    "plt.show()"
   ]
  },
  {
   "cell_type": "code",
   "execution_count": 13,
   "metadata": {},
   "outputs": [
    {
     "name": "stdout",
     "output_type": "stream",
     "text": [
      "lambda  =  0.0001  : X_test error for analytical solution is  :  3.5365279522781976\n",
      "lambda  =  0.001   : X_test error for analytical solution is  :  4.66141601576138\n",
      "lambda  =  0.01    : X_test error for analytical solution is  :  25.917612277734147\n",
      "lambda  =  0.1     : X_test error for analytical solution is  :  123.78042656931505\n",
      "lambda  =  1       : X_test error for analytical solution is  :  10589278029.359774\n",
      "lambda  =  10      : X_test error for analytical solution is  :  5.828591415254092e+128\n",
      "x   :  [0.0001, 0.001, 0.01, 0.1, 1, 10]\n",
      "mse :  [0.625351497862251, 1.0864399635998347, 33.58613130894779, 766.0797000840798, 5.606640459154079e+18, 1.698623894298684e+256]\n"
     ]
    },
    {
     "data": {
      "image/png": "[encoded data removed]",
      "text/plain": [
       "<Figure size 432x288 with 1 Axes>"
      ]
     },
     "metadata": {
      "needs_background": "light"
     },
     "output_type": "display_data"
    }
   ],
   "source": [
    "# l2 reg : Gradient descent  -> we have already defined X' and y' data\n",
    "# lr will be = 0.001 -> which gave the best results previously\n",
    "\n",
    "# lambda = 0.0001\n",
    "modelAnalyticalSol0001 = LinearRegression_RidgeRegression(X_train, y_train, iterations=100, lr=0.001, l2_reg = 0.0001, analytical_sol=False)\n",
    "modelAnalyticalSol0001.fit()\n",
    "y_prime_pred_test0001 = modelAnalyticalSol0001.predict(X_test)\n",
    "error_test0001 = np.linalg.norm(y_test - y_prime_pred_test0001, 2)\n",
    "print(\"lambda  = \", 0.0001, \" : X_test error for analytical solution is  : \", error_test0001)\n",
    "\n",
    "# lambda = 0.001\n",
    "modelAnalyticalSol001 = LinearRegression_RidgeRegression(X_train, y_train, iterations=100, lr=0.001, l2_reg = 0.001, analytical_sol=False)\n",
    "modelAnalyticalSol001.fit()\n",
    "y_prime_pred_test001 = modelAnalyticalSol001.predict(X_test)\n",
    "error_test001 = np.linalg.norm(y_test - y_prime_pred_test001, 2)\n",
    "print(\"lambda  = \", 0.001, \"  : X_test error for analytical solution is  : \", error_test001)\n",
    "\n",
    "# lambda = 0.01\n",
    "modelAnalyticalSol01 = LinearRegression_RidgeRegression(X_train, y_train, iterations=100, lr=0.001, l2_reg = 0.01, analytical_sol=False)\n",
    "modelAnalyticalSol01.fit()\n",
    "y_prime_pred_test01 = modelAnalyticalSol01.predict(X_test)\n",
    "error_test01 = np.linalg.norm(y_test - y_prime_pred_test01, 2)\n",
    "print(\"lambda  = \", 0.01, \"   : X_test error for analytical solution is  : \", error_test01)\n",
    "\n",
    "# lambda = 0.1\n",
    "modelAnalyticalSol1 = LinearRegression_RidgeRegression(X_train, y_train, iterations=100, lr=0.001, l2_reg = 0.1, analytical_sol=False)\n",
    "modelAnalyticalSol1.fit()\n",
    "y_prime_pred_test1 = modelAnalyticalSol1.predict(X_test)\n",
    "error_test1 = np.linalg.norm(y_test - y_prime_pred_test1, 2)\n",
    "print(\"lambda  = \", 0.1, \"    : X_test error for analytical solution is  : \", error_test1)\n",
    "\n",
    "# lambda = 0 -> no point doing this -> same as no regularisation\n",
    "\n",
    "# lambda = 1\n",
    "modelAnalyticalSol_1 = LinearRegression_RidgeRegression(X_train, y_train, iterations=100, lr=0.001, l2_reg = 1, analytical_sol=False)\n",
    "modelAnalyticalSol_1.fit()\n",
    "y_prime_pred_test_1 = modelAnalyticalSol_1.predict(X_test)\n",
    "error_test_1 = np.linalg.norm(y_test - y_prime_pred_test_1, 2)\n",
    "print(\"lambda  = \", 1, \"      : X_test error for analytical solution is  : \", error_test_1)\n",
    "\n",
    "# lambda = 10\n",
    "modelAnalyticalSol_10 = LinearRegression_RidgeRegression(X_train, y_train, iterations=100, lr=0.001, l2_reg = 10, analytical_sol=False)\n",
    "modelAnalyticalSol_10.fit()\n",
    "y_prime_pred_test_10 = modelAnalyticalSol_10.predict(X_test)\n",
    "error_test_10 = np.linalg.norm(y_test - y_prime_pred_test_10, 2)\n",
    "print(\"lambda  = \", 10, \"     : X_test error for analytical solution is  : \", error_test_10)\n",
    "\n",
    "# computing mse\n",
    "mse0001 = mean_squared_error(y_prime_pred_test0001, y_test)\n",
    "mse001 = mean_squared_error(y_prime_pred_test001, y_test)\n",
    "mse01 = mean_squared_error(y_prime_pred_test01, y_test)\n",
    "mse1 = mean_squared_error(y_prime_pred_test1, y_test)\n",
    "mse_1 = mean_squared_error(y_prime_pred_test_1, y_test)\n",
    "mse_10 = mean_squared_error(y_prime_pred_test_10, y_test)\n",
    "\n",
    "x = [0.0001,0.001,0.01,0.1, 1, 10]\n",
    "y_mse = [mse0001, mse001, mse01, mse1, mse_1, mse_10]\n",
    "print(\"x   : \",x)\n",
    "print(\"mse : \",y_mse)\n",
    "plt.semilogx(x,np.log10(y_mse))\n",
    "plt.title(\"x = lambda, y = log10(mse(y, y_pred)) -> lr = 0.001\")\n",
    "plt.show()"
   ]
  },
  {
   "cell_type": "code",
   "execution_count": null,
   "metadata": {},
   "outputs": [],
   "source": []
  }
 ],
 "metadata": {
  "kernelspec": {
   "display_name": "Python 3",
   "language": "python",
   "name": "python3"
  },
  "language_info": {
   "codemirror_mode": {
    "name": "ipython",
    "version": 3
   },
   "file_extension": ".py",
   "mimetype": "text/x-python",
   "name": "python",
   "nbconvert_exporter": "python",
   "pygments_lexer": "ipython3",
   "version": "3.8.5"
  }
 },
 "nbformat": 4,
 "nbformat_minor": 4
}
