{
 "cells": [
  {
   "cell_type": "markdown",
   "metadata": {},
   "source": [
    "## TP3 Regression\n",
    "### Deadline Monday 17/05/2021 23:59\n",
    "Optimization method like gradient descent (GD) can be used to minimize the cost function of linear regression.  But for linear regression, there exists an analytical solution. That means we can obtain the variables for linear regression in one step calculation by using the right formula.  In this TP,  you are going to solve the Linear Regression with and without $L2$ regularizer using both the analytical solution and GD.\n"
   ]
  },
  {
   "cell_type": "markdown",
   "metadata": {},
   "source": [
    "Before start read carefully the description of the tp (TP3_linear_regression_GD_L2.pdf) and the regression.py python script. You can add the extra functions that are needed here or if you prefere you can create a new python script.\n",
    "\n",
    "Do not forget to use seed for reproducibility. \n"
   ]
  },
  {
   "cell_type": "code",
   "execution_count": 1,
   "metadata": {},
   "outputs": [],
   "source": [
    "import numpy as np\n",
    "import pandas as pd\n",
    "from random import shuffle\n",
    "\n",
    "import matplotlib.pyplot as plt\n",
    "\n",
    "from regression import LinearRegression_RidgeRegression\n"
   ]
  },
  {
   "cell_type": "code",
   "execution_count": 2,
   "metadata": {},
   "outputs": [],
   "source": [
    "def train_test_split(X, y, test_size=0.3):\n",
    "    \"\"\" Split the data into train and test sets \"\"\"\n",
    "\n",
    "    split_i = len(y) - int(len(y) // (1 / test_size))\n",
    "    X_train, X_test = X[:split_i], X[split_i:]\n",
    "    y_train, y_test = y[:split_i], y[split_i:]\n",
    "\n",
    "    return X_train, X_test, y_train, y_test\n"
   ]
  },
  {
   "cell_type": "code",
   "execution_count": 3,
   "metadata": {},
   "outputs": [],
   "source": [
    "# Unrelated to the TP, totaly random numbers. They are give in order to run the given code without getting error\n",
    "X = np.random.uniform(1., 10., size=(50, 2))\n",
    "y = np.random.uniform(1., size=(50))\n"
   ]
  },
  {
   "cell_type": "code",
   "execution_count": 4,
   "metadata": {},
   "outputs": [],
   "source": [
    "X_train, X_test, y_train, y_test = train_test_split(X, y, test_size=0.2)\n",
    "\n",
    "\n",
    "model = LinearRegression_RidgeRegression(X_train, y_train, iterations=100, lr=0.001, l2_reg = 0, analytical_sol=True)\n",
    "\n",
    "w = model.fit()\n",
    "y_pred = model.predict(X_test)\n"
   ]
  },
  {
   "cell_type": "code",
   "execution_count": 5,
   "metadata": {},
   "outputs": [],
   "source": [
    "model_gd = LinearRegression_RidgeRegression(X_train, y_train, iterations=100, lr=0.001, l2_reg = 0, analytical_sol=False)\n",
    "\n",
    "w = model_gd.fit()\n",
    "y_pred = model_gd.predict(X_test)\n",
    "\n"
   ]
  },
  {
   "cell_type": "code",
   "execution_count": 6,
   "metadata": {},
   "outputs": [],
   "source": [
    "#general functions\n",
    "def generateMatrix(n=100, d=10):\n",
    "    np.random.seed(0) #makes answer always the same\n",
    "    #follows normal distribution : mu=0 sigma=1\n",
    "    return np.random.normal(0, 1, size=(n, d))\n",
    "\n",
    "\n",
    "def generateVector(d=10):\n",
    "    np.random.seed(0) #makes answer always the same\n",
    "    #follows normal distribution : mu=0 sigma=10\n",
    "    return np.random.normal(0, 10, size=(d, 1))"
   ]
  },
  {
   "cell_type": "code",
   "execution_count": 7,
   "metadata": {},
   "outputs": [],
   "source": [
    "X = generateMatrix() # default size : 100x10\n",
    "w = generateVector() # default size : 10x1\n",
    "y = np.dot(X,w)      # default size : 100x1"
   ]
  },
  {
   "cell_type": "code",
   "execution_count": 8,
   "metadata": {
    "scrolled": false
   },
   "outputs": [
    {
     "name": "stdout",
     "output_type": "stream",
     "text": [
      "X_train error for analytical solution is :  1.648887149372827e-13\n",
      "X_test error for analytical solution is :  5.564421850464314e-14\n"
     ]
    }
   ],
   "source": [
    "# analytical solutions\n",
    "\n",
    "# split X and y into train and test sets\n",
    "X_train, X_test, y_train, y_test = train_test_split(X, y, test_size=0.2)\n",
    "\n",
    "# create model with train data and compute w^\n",
    "modelAnalyticalSol = LinearRegression_RidgeRegression(X_train, y_train, iterations=100, lr=0.001, l2_reg = 0, analytical_sol=True)\n",
    "w_chapeau = modelAnalyticalSol.fit()\n",
    "\n",
    "# compute y_pred for X_test, using w_chapeau computed with model.fit()\n",
    "y_pred_train = modelAnalyticalSol.predict(X_train)\n",
    "y_pred_test = modelAnalyticalSol.predict(X_test)\n",
    "\n",
    "error_train = np.linalg.norm(y_train - y_pred_train, 2)\n",
    "error_test = np.linalg.norm(y_test - y_pred_test, 2)\n",
    "print(\"X_train error for analytical solution is : \", error_train)\n",
    "print(\"X_test error for analytical solution is : \", error_test)"
   ]
  },
  {
   "cell_type": "code",
   "execution_count": 9,
   "metadata": {},
   "outputs": [
    {
     "ename": "ValueError",
     "evalue": "operands could not be broadcast together with shapes (10,) (10,80) ",
     "output_type": "error",
     "traceback": [
      "\u001b[1;31m---------------------------------------------------------------------------\u001b[0m",
      "\u001b[1;31mValueError\u001b[0m                                Traceback (most recent call last)",
      "\u001b[1;32m<ipython-input-9-a7153a0304a4>\u001b[0m in \u001b[0;36m<module>\u001b[1;34m\u001b[0m\n\u001b[0;32m      3\u001b[0m \u001b[0mmodelGraDesSol\u001b[0m \u001b[1;33m=\u001b[0m \u001b[0mLinearRegression_RidgeRegression\u001b[0m\u001b[1;33m(\u001b[0m\u001b[0mX_train\u001b[0m\u001b[1;33m,\u001b[0m \u001b[0my_train\u001b[0m\u001b[1;33m,\u001b[0m \u001b[0miterations\u001b[0m\u001b[1;33m=\u001b[0m\u001b[1;36m100\u001b[0m\u001b[1;33m,\u001b[0m \u001b[0mlr\u001b[0m\u001b[1;33m=\u001b[0m\u001b[1;36m0.0001\u001b[0m\u001b[1;33m,\u001b[0m \u001b[0ml2_reg\u001b[0m \u001b[1;33m=\u001b[0m \u001b[1;36m0\u001b[0m\u001b[1;33m,\u001b[0m \u001b[0manalytical_sol\u001b[0m\u001b[1;33m=\u001b[0m\u001b[1;32mFalse\u001b[0m\u001b[1;33m)\u001b[0m\u001b[1;33m\u001b[0m\u001b[1;33m\u001b[0m\u001b[0m\n\u001b[0;32m      4\u001b[0m \u001b[1;33m\u001b[0m\u001b[0m\n\u001b[1;32m----> 5\u001b[1;33m \u001b[0mw_chapeau\u001b[0m \u001b[1;33m=\u001b[0m \u001b[0mmodelGraDesSol\u001b[0m\u001b[1;33m.\u001b[0m\u001b[0mfit\u001b[0m\u001b[1;33m(\u001b[0m\u001b[1;33m)\u001b[0m\u001b[1;33m\u001b[0m\u001b[1;33m\u001b[0m\u001b[0m\n\u001b[0m\u001b[0;32m      6\u001b[0m \u001b[1;33m\u001b[0m\u001b[0m\n\u001b[0;32m      7\u001b[0m \u001b[1;31m# compute y_pred for X_test, using w_chapeau computed with model.fit()\u001b[0m\u001b[1;33m\u001b[0m\u001b[1;33m\u001b[0m\u001b[1;33m\u001b[0m\u001b[0m\n",
      "\u001b[1;32m~\\Documents\\GitHub\\Uni3eme_2\\dataMining\\TP3_regression\\regression.py\u001b[0m in \u001b[0;36mfit\u001b[1;34m(self)\u001b[0m\n\u001b[0;32m     59\u001b[0m             \u001b[1;32mif\u001b[0m \u001b[0mself\u001b[0m\u001b[1;33m.\u001b[0m\u001b[0ml2_reg\u001b[0m \u001b[1;33m==\u001b[0m \u001b[1;36m0\u001b[0m\u001b[1;33m:\u001b[0m\u001b[1;33m\u001b[0m\u001b[1;33m\u001b[0m\u001b[0m\n\u001b[0;32m     60\u001b[0m                 \u001b[1;32mfor\u001b[0m \u001b[0mi\u001b[0m \u001b[1;32min\u001b[0m \u001b[0mrange\u001b[0m\u001b[1;33m(\u001b[0m\u001b[0mself\u001b[0m\u001b[1;33m.\u001b[0m\u001b[0miterations\u001b[0m\u001b[1;33m)\u001b[0m\u001b[1;33m:\u001b[0m\u001b[1;33m\u001b[0m\u001b[1;33m\u001b[0m\u001b[0m\n\u001b[1;32m---> 61\u001b[1;33m                     \u001b[0mself\u001b[0m\u001b[1;33m.\u001b[0m\u001b[0mw\u001b[0m \u001b[1;33m=\u001b[0m \u001b[0mself\u001b[0m\u001b[1;33m.\u001b[0m\u001b[0mw\u001b[0m \u001b[1;33m-\u001b[0m \u001b[0mself\u001b[0m\u001b[1;33m.\u001b[0m\u001b[0mlr\u001b[0m \u001b[1;33m*\u001b[0m \u001b[1;33m(\u001b[0m\u001b[0mnp\u001b[0m\u001b[1;33m.\u001b[0m\u001b[0mmatmul\u001b[0m\u001b[1;33m(\u001b[0m\u001b[1;33m-\u001b[0m\u001b[1;36m2\u001b[0m\u001b[1;33m*\u001b[0m\u001b[0mself\u001b[0m\u001b[1;33m.\u001b[0m\u001b[0mX\u001b[0m\u001b[1;33m.\u001b[0m\u001b[0mtranspose\u001b[0m\u001b[1;33m(\u001b[0m\u001b[1;33m)\u001b[0m\u001b[1;33m,\u001b[0m \u001b[1;33m(\u001b[0m\u001b[0mnp\u001b[0m\u001b[1;33m.\u001b[0m\u001b[0msubtract\u001b[0m\u001b[1;33m(\u001b[0m\u001b[0mself\u001b[0m\u001b[1;33m.\u001b[0m\u001b[0my\u001b[0m\u001b[1;33m,\u001b[0m \u001b[0mnp\u001b[0m\u001b[1;33m.\u001b[0m\u001b[0mdot\u001b[0m\u001b[1;33m(\u001b[0m\u001b[0mself\u001b[0m\u001b[1;33m.\u001b[0m\u001b[0mX\u001b[0m\u001b[1;33m,\u001b[0m \u001b[0mself\u001b[0m\u001b[1;33m.\u001b[0m\u001b[0mw\u001b[0m\u001b[1;33m)\u001b[0m\u001b[1;33m)\u001b[0m\u001b[1;33m)\u001b[0m\u001b[1;33m)\u001b[0m\u001b[1;33m)\u001b[0m\u001b[1;33m\u001b[0m\u001b[1;33m\u001b[0m\u001b[0m\n\u001b[0m\u001b[0;32m     62\u001b[0m             \u001b[1;32mreturn\u001b[0m \u001b[0mself\u001b[0m\u001b[1;33m.\u001b[0m\u001b[0mw\u001b[0m\u001b[1;33m\u001b[0m\u001b[1;33m\u001b[0m\u001b[0m\n\u001b[0;32m     63\u001b[0m \u001b[1;33m\u001b[0m\u001b[0m\n",
      "\u001b[1;31mValueError\u001b[0m: operands could not be broadcast together with shapes (10,) (10,80) "
     ]
    }
   ],
   "source": [
    "# Gradient descent\n",
    "\n",
    "modelGraDesSol = LinearRegression_RidgeRegression(X_train, y_train, iterations=100, lr=0.0001, l2_reg = 0, analytical_sol=False)\n",
    "\n",
    "w_chapeau = modelGraDesSol.fit()\n",
    "\n",
    "# compute y_pred for X_test, using w_chapeau computed with model.fit()\n",
    "y_pred_train = modelGraDesSol.predict(X_train)\n",
    "y_pred_test = modelGraDesSol.predict(X_test)\n",
    "\n",
    "error_train = np.linalg.norm(y_train - y_pred_train, 2)\n",
    "error_test = np.linalg.norm(y_test - y_pred_test, 2)\n",
    "print(\"X_train error for GD solution is : \", error_train)\n",
    "print(\"X_test error for GD solution is : \", error_test)"
   ]
  },
  {
   "cell_type": "code",
   "execution_count": null,
   "metadata": {},
   "outputs": [],
   "source": []
  },
  {
   "cell_type": "code",
   "execution_count": null,
   "metadata": {},
   "outputs": [],
   "source": []
  }
 ],
 "metadata": {
  "kernelspec": {
   "display_name": "Python 3",
   "language": "python",
   "name": "python3"
  },
  "language_info": {
   "codemirror_mode": {
    "name": "ipython",
    "version": 3
   },
   "file_extension": ".py",
   "mimetype": "text/x-python",
   "name": "python",
   "nbconvert_exporter": "python",
   "pygments_lexer": "ipython3",
   "version": "3.8.5"
  }
 },
 "nbformat": 4,
 "nbformat_minor": 4
}
