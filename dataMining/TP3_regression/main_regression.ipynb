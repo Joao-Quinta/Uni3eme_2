{
 "cells": [
  {
   "cell_type": "markdown",
   "metadata": {},
   "source": [
    "## TP3 Regression\n",
    "### Deadline Monday 17/05/2021 23:59\n",
    "Optimization method like gradient descent (GD) can be used to minimize the cost function of linear regression.  But for linear regression, there exists an analytical solution. That means we can obtain the variables for linear regression in one step calculation by using the right formula.  In this TP,  you are going to solve the Linear Regression with and without $L2$ regularizer using both the analytical solution and GD.\n"
   ]
  },
  {
   "cell_type": "markdown",
   "metadata": {},
   "source": [
    "Before start read carefully the description of the tp (TP3_linear_regression_GD_L2.pdf) and the regression.py python script. You can add the extra functions that are needed here or if you prefere you can create a new python script.\n",
    "\n",
    "Do not forget to use seed for reproducibility. \n"
   ]
  },
  {
   "cell_type": "code",
   "execution_count": null,
   "metadata": {},
   "outputs": [],
   "source": [
    "import numpy as np\n",
    "import pandas as pd\n",
    "from random import shuffle\n",
    "\n",
    "import matplotlib.pyplot as plt\n",
    "\n",
    "from regression import LinearRegression_RidgeRegression\n"
   ]
  },
  {
   "cell_type": "code",
   "execution_count": null,
   "metadata": {},
   "outputs": [],
   "source": [
    "def train_test_split(X, y, test_size=0.3):\n",
    "    \"\"\" Split the data into train and test sets \"\"\"\n",
    "\n",
    "    split_i = len(y) - int(len(y) // (1 / test_size))\n",
    "    X_train, X_test = X[:split_i], X[split_i:]\n",
    "    y_train, y_test = y[:split_i], y[split_i:]\n",
    "\n",
    "    return X_train, X_test, y_train, y_test\n"
   ]
  },
  {
   "cell_type": "code",
   "execution_count": null,
   "metadata": {},
   "outputs": [],
   "source": [
    "# Unrelated to the TP, totaly random numbers. They are give in order to run the given code without getting error\n",
    "X = np.random.uniform(1., 10., size=(50, 2))\n",
    "y = np.random.uniform(1., size=(50))\n"
   ]
  },
  {
   "cell_type": "code",
   "execution_count": null,
   "metadata": {},
   "outputs": [],
   "source": [
    "X_train, X_test, y_train, y_test = train_test_split(X, y, test_size=0.2)\n",
    "\n",
    "\n",
    "model = LinearRegression_RidgeRegression(X_train, y_train, iterations=100, lr=0.001, l2_reg = 0, analytical_sol=True)\n",
    "\n",
    "w = model.fit()\n",
    "y_pred = model.predict(X_test)\n"
   ]
  },
  {
   "cell_type": "code",
   "execution_count": null,
   "metadata": {},
   "outputs": [],
   "source": [
    "model_gd = LinearRegression_RidgeRegression(X_train, y_train, iterations=100, lr=0.001, l2_reg = 0, analytical_sol=False)\n",
    "\n",
    "w = model_gd.fit()\n",
    "y_pred = model_gd.predict(X_test)\n",
    "\n"
   ]
  },
  {
   "cell_type": "code",
   "execution_count": null,
   "metadata": {},
   "outputs": [],
   "source": []
  }
 ],
 "metadata": {
  "kernelspec": {
   "display_name": "Python 3",
   "language": "python",
   "name": "python3"
  },
  "language_info": {
   "codemirror_mode": {
    "name": "ipython",
    "version": 3
   },
   "file_extension": ".py",
   "mimetype": "text/x-python",
   "name": "python",
   "nbconvert_exporter": "python",
   "pygments_lexer": "ipython3",
   "version": "3.7.9"
  }
 },
 "nbformat": 4,
 "nbformat_minor": 4
}