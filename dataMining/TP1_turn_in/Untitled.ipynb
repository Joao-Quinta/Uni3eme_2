{
 "cells": [
  {
   "cell_type": "code",
   "execution_count": 1,
   "metadata": {},
   "outputs": [],
   "source": [
    "import numpy as np\n",
    "import csv\n"
   ]
  },
  {
   "cell_type": "code",
   "execution_count": 2,
   "metadata": {},
   "outputs": [],
   "source": [
    "with open('titanic.csv', newline='') as csvfile:\n",
    "        data = list(csv.reader(csvfile))\n",
    " \n",
    "#We suppose that the first line is an indication on the meaning of each\n",
    "#attribute so we can remove it.\n",
    "del data[0]\n",
    " \n",
    "#Randomizing the data (we use numpy)\n",
    "data = np.array(data)\n",
    "np.random.shuffle(data)\n",
    "data.tolist()\n",
    " \n",
    "#Splitting the set (2/3 for the training set / 1/3 for the test set)\n",
    "split_value = int(len(data) / 3)\n",
    "X_data = data[:,0:3]\n",
    "y_data = data[:,3]"
   ]
  },
  {
   "cell_type": "code",
   "execution_count": 3,
   "metadata": {},
   "outputs": [
    {
     "name": "stdout",
     "output_type": "stream",
     "text": [
      "Data shape: (2201, 4)\n",
      "X_data shape: (2201, 3)\n",
      "y_data shape: (2201,)\n",
      "Data 1st line: ['third' 'adu' 'm' 'surv']\n",
      "X_data 1st line: ['third' 'adu' 'm']\n",
      "y_data 1st line: surv\n"
     ]
    }
   ],
   "source": [
    "# As a sanity check, we print out the size of the data and the first line.\n",
    "\n",
    "print('Data shape:', data.shape)\n",
    "print('X_data shape:', X_data.shape)\n",
    "print('y_data shape:', y_data.shape)\n",
    "print('Data 1st line:', data[0])\n",
    "print('X_data 1st line:', X_data[0])\n",
    "print('y_data 1st line:', y_data[0])"
   ]
  },
  {
   "cell_type": "code",
   "execution_count": 4,
   "metadata": {},
   "outputs": [],
   "source": [
    "X_train = X_data[:2*split_value]\n",
    "y_train = y_data[:2*split_value]\n",
    "\n",
    "X_test = X_data[2*split_value:]\n",
    "y_test = y_data[2*split_value:]"
   ]
  },
  {
   "cell_type": "code",
   "execution_count": 5,
   "metadata": {},
   "outputs": [
    {
     "name": "stdout",
     "output_type": "stream",
     "text": [
      "X_train shape: (1466, 3)\n",
      "y_train shape: (1466,)\n",
      "X_test shape: (735, 3)\n",
      "y_test shape: (735,)\n",
      "X_train 1st line: ['third' 'adu' 'm']\n",
      "y_train 1st line: surv\n"
     ]
    }
   ],
   "source": [
    "# As a sanity check, we print out the size of the training and test data and the first line.\n",
    "\n",
    "print('X_train shape:', X_train.shape)\n",
    "print('y_train shape:', y_train.shape)\n",
    "print('X_test shape:', X_test.shape)\n",
    "print('y_test shape:', y_test.shape)\n",
    "\n",
    "\n",
    "print('X_train 1st line:', X_train[0])\n",
    "print('y_train 1st line:', y_train[0])"
   ]
  },
  {
   "cell_type": "code",
   "execution_count": 6,
   "metadata": {},
   "outputs": [],
   "source": [
    "from nb import train_nb, normal_distribution, predict"
   ]
  },
  {
   "cell_type": "code",
   "execution_count": 7,
   "metadata": {},
   "outputs": [],
   "source": [
    "prior, proba = train_nb(X_train, y_train, False)"
   ]
  },
  {
   "cell_type": "code",
   "execution_count": 8,
   "metadata": {},
   "outputs": [],
   "source": [
    "y_pred = predict(X_train,prior, proba, [], False)"
   ]
  },
  {
   "cell_type": "code",
   "execution_count": 9,
   "metadata": {},
   "outputs": [
    {
     "name": "stdout",
     "output_type": "stream",
     "text": [
      "78.51296043656207\n"
     ]
    }
   ],
   "source": [
    "res = 0\n",
    "for i in range(len(y_pred)):\n",
    "    if y_pred[i] == y_train[i]:\n",
    "        res = res + 1\n",
    "print(res/len(y_pred)*100)"
   ]
  },
  {
   "cell_type": "code",
   "execution_count": 10,
   "metadata": {},
   "outputs": [],
   "source": [
    "y_pred = predict(X_test,prior, proba, [], False)"
   ]
  },
  {
   "cell_type": "code",
   "execution_count": 11,
   "metadata": {},
   "outputs": [
    {
     "name": "stdout",
     "output_type": "stream",
     "text": [
      "79.18367346938776\n"
     ]
    }
   ],
   "source": [
    "res = 0\n",
    "for i in range(len(y_pred)):\n",
    "    if y_pred[i] == y_test[i]:\n",
    "        res = res + 1\n",
    "print(res/len(y_pred)*100)"
   ]
  },
  {
   "cell_type": "code",
   "execution_count": null,
   "metadata": {},
   "outputs": [],
   "source": []
  }
 ],
 "metadata": {
  "kernelspec": {
   "display_name": "Python 3",
   "language": "python",
   "name": "python3"
  },
  "language_info": {
   "codemirror_mode": {
    "name": "ipython",
    "version": 3
   },
   "file_extension": ".py",
   "mimetype": "text/x-python",
   "name": "python",
   "nbconvert_exporter": "python",
   "pygments_lexer": "ipython3",
   "version": "3.8.5"
  }
 },
 "nbformat": 4,
 "nbformat_minor": 4
}
